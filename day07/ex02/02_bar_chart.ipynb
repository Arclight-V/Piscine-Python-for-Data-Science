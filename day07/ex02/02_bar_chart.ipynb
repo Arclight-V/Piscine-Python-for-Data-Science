{
 "cells": [
  {
   "cell_type": "code",
   "execution_count": 2,
   "outputs": [],
   "source": [
    "import pandas as pd\n",
    "import sqlite3"
   ],
   "metadata": {
    "collapsed": false,
    "pycharm": {
     "name": "#%%\n"
    }
   }
  },
  {
   "cell_type": "code",
   "execution_count": 3,
   "outputs": [],
   "source": [
    "con = sqlite3.connect('../data/checking-logs.sqlite.sqlite copy')"
   ],
   "metadata": {
    "collapsed": false,
    "pycharm": {
     "name": "#%%\n"
    }
   }
  },
  {
   "cell_type": "markdown",
   "source": [
    "## • run a query that gets the datetime from the pageviews table, selecting only the users and not the admins"
   ],
   "metadata": {
    "collapsed": false
   }
  },
  {
   "cell_type": "code",
   "execution_count": 4,
   "outputs": [
    {
     "data": {
      "text/plain": "        user                   datetime\n0     user_4 2020-04-17 05:19:02.744528\n1     user_4 2020-04-17 05:22:35.249331\n2     user_4 2020-04-17 05:22:45.549397\n3     user_4 2020-04-17 05:34:14.691200\n4     user_4 2020-04-17 05:34:24.422370\n...      ...                        ...\n3202  user_1 2020-05-21 20:19:06.872761\n3203  user_1 2020-05-21 20:22:41.785725\n3204  user_1 2020-05-21 20:22:41.877806\n3205  user_1 2020-05-21 20:37:00.129678\n3206  user_1 2020-05-21 20:37:00.290491\n\n[3207 rows x 2 columns]",
      "text/html": "<div>\n<style scoped>\n    .dataframe tbody tr th:only-of-type {\n        vertical-align: middle;\n    }\n\n    .dataframe tbody tr th {\n        vertical-align: top;\n    }\n\n    .dataframe thead th {\n        text-align: right;\n    }\n</style>\n<table border=\"1\" class=\"dataframe\">\n  <thead>\n    <tr style=\"text-align: right;\">\n      <th></th>\n      <th>user</th>\n      <th>datetime</th>\n    </tr>\n  </thead>\n  <tbody>\n    <tr>\n      <th>0</th>\n      <td>user_4</td>\n      <td>2020-04-17 05:19:02.744528</td>\n    </tr>\n    <tr>\n      <th>1</th>\n      <td>user_4</td>\n      <td>2020-04-17 05:22:35.249331</td>\n    </tr>\n    <tr>\n      <th>2</th>\n      <td>user_4</td>\n      <td>2020-04-17 05:22:45.549397</td>\n    </tr>\n    <tr>\n      <th>3</th>\n      <td>user_4</td>\n      <td>2020-04-17 05:34:14.691200</td>\n    </tr>\n    <tr>\n      <th>4</th>\n      <td>user_4</td>\n      <td>2020-04-17 05:34:24.422370</td>\n    </tr>\n    <tr>\n      <th>...</th>\n      <td>...</td>\n      <td>...</td>\n    </tr>\n    <tr>\n      <th>3202</th>\n      <td>user_1</td>\n      <td>2020-05-21 20:19:06.872761</td>\n    </tr>\n    <tr>\n      <th>3203</th>\n      <td>user_1</td>\n      <td>2020-05-21 20:22:41.785725</td>\n    </tr>\n    <tr>\n      <th>3204</th>\n      <td>user_1</td>\n      <td>2020-05-21 20:22:41.877806</td>\n    </tr>\n    <tr>\n      <th>3205</th>\n      <td>user_1</td>\n      <td>2020-05-21 20:37:00.129678</td>\n    </tr>\n    <tr>\n      <th>3206</th>\n      <td>user_1</td>\n      <td>2020-05-21 20:37:00.290491</td>\n    </tr>\n  </tbody>\n</table>\n<p>3207 rows × 2 columns</p>\n</div>"
     },
     "execution_count": 4,
     "metadata": {},
     "output_type": "execute_result"
    }
   ],
   "source": [
    "query_datetime = \"\"\"\n",
    "SELECT checker.uid AS user, checker.timestamp AS 'datetime'\n",
    "FROM checker\n",
    "WHERE checker.uid LIKE 'user_%'\n",
    "\"\"\"\n",
    "\n",
    "dataframe_views = pd.io.sql.read_sql(query_datetime, con, parse_dates=['datetime'])\n",
    "dataframe_views"
   ],
   "metadata": {
    "collapsed": false,
    "pycharm": {
     "name": "#%%\n"
    }
   }
  },
  {
   "cell_type": "markdown",
   "source": [
    "## • using Pandas, create a new dataframe where the visits are counted and grouped by date\n",
    "\n",
    "[pandas.Series.dt.floor](https://pandas.pydata.org/docs/reference/api/pandas.Series.dt.floor.html)\n",
    "[frequency aliases](https://pandas.pydata.org/docs/user_guide/timeseries.html#timeseries-offset-aliases)"
   ],
   "metadata": {
    "collapsed": false
   }
  },
  {
   "cell_type": "code",
   "execution_count": 5,
   "outputs": [
    {
     "data": {
      "text/plain": "        user                   datetime       date  time  daytime\n0     user_4 2020-04-17 05:19:02.744528 2020-04-17     5  morning\n1     user_4 2020-04-17 05:22:35.249331 2020-04-17     5  morning\n2     user_4 2020-04-17 05:22:45.549397 2020-04-17     5  morning\n3     user_4 2020-04-17 05:34:14.691200 2020-04-17     5  morning\n4     user_4 2020-04-17 05:34:24.422370 2020-04-17     5  morning\n...      ...                        ...        ...   ...      ...\n3202  user_1 2020-05-21 20:19:06.872761 2020-05-21    20  evening\n3203  user_1 2020-05-21 20:22:41.785725 2020-05-21    20  evening\n3204  user_1 2020-05-21 20:22:41.877806 2020-05-21    20  evening\n3205  user_1 2020-05-21 20:37:00.129678 2020-05-21    20  evening\n3206  user_1 2020-05-21 20:37:00.290491 2020-05-21    20  evening\n\n[3207 rows x 5 columns]",
      "text/html": "<div>\n<style scoped>\n    .dataframe tbody tr th:only-of-type {\n        vertical-align: middle;\n    }\n\n    .dataframe tbody tr th {\n        vertical-align: top;\n    }\n\n    .dataframe thead th {\n        text-align: right;\n    }\n</style>\n<table border=\"1\" class=\"dataframe\">\n  <thead>\n    <tr style=\"text-align: right;\">\n      <th></th>\n      <th>user</th>\n      <th>datetime</th>\n      <th>date</th>\n      <th>time</th>\n      <th>daytime</th>\n    </tr>\n  </thead>\n  <tbody>\n    <tr>\n      <th>0</th>\n      <td>user_4</td>\n      <td>2020-04-17 05:19:02.744528</td>\n      <td>2020-04-17</td>\n      <td>5</td>\n      <td>morning</td>\n    </tr>\n    <tr>\n      <th>1</th>\n      <td>user_4</td>\n      <td>2020-04-17 05:22:35.249331</td>\n      <td>2020-04-17</td>\n      <td>5</td>\n      <td>morning</td>\n    </tr>\n    <tr>\n      <th>2</th>\n      <td>user_4</td>\n      <td>2020-04-17 05:22:45.549397</td>\n      <td>2020-04-17</td>\n      <td>5</td>\n      <td>morning</td>\n    </tr>\n    <tr>\n      <th>3</th>\n      <td>user_4</td>\n      <td>2020-04-17 05:34:14.691200</td>\n      <td>2020-04-17</td>\n      <td>5</td>\n      <td>morning</td>\n    </tr>\n    <tr>\n      <th>4</th>\n      <td>user_4</td>\n      <td>2020-04-17 05:34:24.422370</td>\n      <td>2020-04-17</td>\n      <td>5</td>\n      <td>morning</td>\n    </tr>\n    <tr>\n      <th>...</th>\n      <td>...</td>\n      <td>...</td>\n      <td>...</td>\n      <td>...</td>\n      <td>...</td>\n    </tr>\n    <tr>\n      <th>3202</th>\n      <td>user_1</td>\n      <td>2020-05-21 20:19:06.872761</td>\n      <td>2020-05-21</td>\n      <td>20</td>\n      <td>evening</td>\n    </tr>\n    <tr>\n      <th>3203</th>\n      <td>user_1</td>\n      <td>2020-05-21 20:22:41.785725</td>\n      <td>2020-05-21</td>\n      <td>20</td>\n      <td>evening</td>\n    </tr>\n    <tr>\n      <th>3204</th>\n      <td>user_1</td>\n      <td>2020-05-21 20:22:41.877806</td>\n      <td>2020-05-21</td>\n      <td>20</td>\n      <td>evening</td>\n    </tr>\n    <tr>\n      <th>3205</th>\n      <td>user_1</td>\n      <td>2020-05-21 20:37:00.129678</td>\n      <td>2020-05-21</td>\n      <td>20</td>\n      <td>evening</td>\n    </tr>\n    <tr>\n      <th>3206</th>\n      <td>user_1</td>\n      <td>2020-05-21 20:37:00.290491</td>\n      <td>2020-05-21</td>\n      <td>20</td>\n      <td>evening</td>\n    </tr>\n  </tbody>\n</table>\n<p>3207 rows × 5 columns</p>\n</div>"
     },
     "execution_count": 5,
     "metadata": {},
     "output_type": "execute_result"
    }
   ],
   "source": [
    "dataframe_views['date'] = dataframe_views['datetime'].dt.floor('D')\n",
    "dataframe_views['time'] = pd.to_datetime(dataframe_views['datetime']).dt.hour\n",
    "dataframe_views['daytime'] = pd.cut(dataframe_views['time'], bins=[0, 4, 10, 17, 24], labels=['night', 'morning', 'afternoon', 'evening'])\n",
    "dataframe_views"
   ],
   "metadata": {
    "collapsed": false,
    "pycharm": {
     "name": "#%%\n"
    }
   }
  },
  {
   "cell_type": "code",
   "execution_count": 6,
   "outputs": [
    {
     "data": {
      "text/plain": "daytime     night  morning  afternoon  evening\ndate                                          \n2020-04-17    NaN     13.0       10.0      NaN\n2020-04-18    NaN      1.0       40.0     28.0\n2020-04-19    NaN     11.0        9.0     11.0\n2020-04-20    NaN      NaN       15.0     10.0\n2020-04-21    NaN      NaN        9.0     16.0\n2020-04-22    NaN      NaN        4.0     24.0\n2020-04-23    NaN      6.0       15.0     20.0\n2020-04-24    NaN      2.0       12.0      2.0\n2020-04-25    1.0     21.0       48.0     34.0\n2020-04-26    NaN     18.0       92.0    149.0\n2020-04-27    2.0      2.0        NaN      2.0\n2020-04-28    NaN      NaN        5.0      NaN\n2020-04-29    NaN      NaN        NaN     17.0\n2020-04-30    NaN     12.0        5.0     36.0\n2020-05-01    NaN      1.0        9.0     50.0\n2020-05-02    NaN      7.0      201.0     34.0\n2020-05-03    NaN     34.0       76.0     70.0\n2020-05-04    NaN     11.0       26.0      NaN\n2020-05-05    NaN     57.0       77.0      5.0\n2020-05-06    NaN      2.0        NaN      NaN\n2020-05-07    NaN      8.0       23.0     21.0\n2020-05-08    NaN      NaN       45.0     42.0\n2020-05-09    NaN      NaN       12.0     74.0\n2020-05-10    6.0      2.0      114.0     19.0\n2020-05-11    NaN      3.0       56.0    127.0\n2020-05-12    NaN     52.0      114.0    157.0\n2020-05-13    NaN      4.0       73.0    134.0\n2020-05-14    NaN     44.0      307.0    220.0\n2020-05-15    NaN     10.0        NaN      NaN\n2020-05-16    NaN      NaN        3.0      1.0\n2020-05-17    NaN      2.0       13.0     33.0\n2020-05-18    NaN      NaN        3.0      NaN\n2020-05-19    NaN     13.0       18.0      3.0\n2020-05-20    NaN      7.0       11.0     10.0\n2020-05-21    NaN      1.0       28.0     20.0",
      "text/html": "<div>\n<style scoped>\n    .dataframe tbody tr th:only-of-type {\n        vertical-align: middle;\n    }\n\n    .dataframe tbody tr th {\n        vertical-align: top;\n    }\n\n    .dataframe thead th {\n        text-align: right;\n    }\n</style>\n<table border=\"1\" class=\"dataframe\">\n  <thead>\n    <tr style=\"text-align: right;\">\n      <th>daytime</th>\n      <th>night</th>\n      <th>morning</th>\n      <th>afternoon</th>\n      <th>evening</th>\n    </tr>\n    <tr>\n      <th>date</th>\n      <th></th>\n      <th></th>\n      <th></th>\n      <th></th>\n    </tr>\n  </thead>\n  <tbody>\n    <tr>\n      <th>2020-04-17</th>\n      <td>NaN</td>\n      <td>13.0</td>\n      <td>10.0</td>\n      <td>NaN</td>\n    </tr>\n    <tr>\n      <th>2020-04-18</th>\n      <td>NaN</td>\n      <td>1.0</td>\n      <td>40.0</td>\n      <td>28.0</td>\n    </tr>\n    <tr>\n      <th>2020-04-19</th>\n      <td>NaN</td>\n      <td>11.0</td>\n      <td>9.0</td>\n      <td>11.0</td>\n    </tr>\n    <tr>\n      <th>2020-04-20</th>\n      <td>NaN</td>\n      <td>NaN</td>\n      <td>15.0</td>\n      <td>10.0</td>\n    </tr>\n    <tr>\n      <th>2020-04-21</th>\n      <td>NaN</td>\n      <td>NaN</td>\n      <td>9.0</td>\n      <td>16.0</td>\n    </tr>\n    <tr>\n      <th>2020-04-22</th>\n      <td>NaN</td>\n      <td>NaN</td>\n      <td>4.0</td>\n      <td>24.0</td>\n    </tr>\n    <tr>\n      <th>2020-04-23</th>\n      <td>NaN</td>\n      <td>6.0</td>\n      <td>15.0</td>\n      <td>20.0</td>\n    </tr>\n    <tr>\n      <th>2020-04-24</th>\n      <td>NaN</td>\n      <td>2.0</td>\n      <td>12.0</td>\n      <td>2.0</td>\n    </tr>\n    <tr>\n      <th>2020-04-25</th>\n      <td>1.0</td>\n      <td>21.0</td>\n      <td>48.0</td>\n      <td>34.0</td>\n    </tr>\n    <tr>\n      <th>2020-04-26</th>\n      <td>NaN</td>\n      <td>18.0</td>\n      <td>92.0</td>\n      <td>149.0</td>\n    </tr>\n    <tr>\n      <th>2020-04-27</th>\n      <td>2.0</td>\n      <td>2.0</td>\n      <td>NaN</td>\n      <td>2.0</td>\n    </tr>\n    <tr>\n      <th>2020-04-28</th>\n      <td>NaN</td>\n      <td>NaN</td>\n      <td>5.0</td>\n      <td>NaN</td>\n    </tr>\n    <tr>\n      <th>2020-04-29</th>\n      <td>NaN</td>\n      <td>NaN</td>\n      <td>NaN</td>\n      <td>17.0</td>\n    </tr>\n    <tr>\n      <th>2020-04-30</th>\n      <td>NaN</td>\n      <td>12.0</td>\n      <td>5.0</td>\n      <td>36.0</td>\n    </tr>\n    <tr>\n      <th>2020-05-01</th>\n      <td>NaN</td>\n      <td>1.0</td>\n      <td>9.0</td>\n      <td>50.0</td>\n    </tr>\n    <tr>\n      <th>2020-05-02</th>\n      <td>NaN</td>\n      <td>7.0</td>\n      <td>201.0</td>\n      <td>34.0</td>\n    </tr>\n    <tr>\n      <th>2020-05-03</th>\n      <td>NaN</td>\n      <td>34.0</td>\n      <td>76.0</td>\n      <td>70.0</td>\n    </tr>\n    <tr>\n      <th>2020-05-04</th>\n      <td>NaN</td>\n      <td>11.0</td>\n      <td>26.0</td>\n      <td>NaN</td>\n    </tr>\n    <tr>\n      <th>2020-05-05</th>\n      <td>NaN</td>\n      <td>57.0</td>\n      <td>77.0</td>\n      <td>5.0</td>\n    </tr>\n    <tr>\n      <th>2020-05-06</th>\n      <td>NaN</td>\n      <td>2.0</td>\n      <td>NaN</td>\n      <td>NaN</td>\n    </tr>\n    <tr>\n      <th>2020-05-07</th>\n      <td>NaN</td>\n      <td>8.0</td>\n      <td>23.0</td>\n      <td>21.0</td>\n    </tr>\n    <tr>\n      <th>2020-05-08</th>\n      <td>NaN</td>\n      <td>NaN</td>\n      <td>45.0</td>\n      <td>42.0</td>\n    </tr>\n    <tr>\n      <th>2020-05-09</th>\n      <td>NaN</td>\n      <td>NaN</td>\n      <td>12.0</td>\n      <td>74.0</td>\n    </tr>\n    <tr>\n      <th>2020-05-10</th>\n      <td>6.0</td>\n      <td>2.0</td>\n      <td>114.0</td>\n      <td>19.0</td>\n    </tr>\n    <tr>\n      <th>2020-05-11</th>\n      <td>NaN</td>\n      <td>3.0</td>\n      <td>56.0</td>\n      <td>127.0</td>\n    </tr>\n    <tr>\n      <th>2020-05-12</th>\n      <td>NaN</td>\n      <td>52.0</td>\n      <td>114.0</td>\n      <td>157.0</td>\n    </tr>\n    <tr>\n      <th>2020-05-13</th>\n      <td>NaN</td>\n      <td>4.0</td>\n      <td>73.0</td>\n      <td>134.0</td>\n    </tr>\n    <tr>\n      <th>2020-05-14</th>\n      <td>NaN</td>\n      <td>44.0</td>\n      <td>307.0</td>\n      <td>220.0</td>\n    </tr>\n    <tr>\n      <th>2020-05-15</th>\n      <td>NaN</td>\n      <td>10.0</td>\n      <td>NaN</td>\n      <td>NaN</td>\n    </tr>\n    <tr>\n      <th>2020-05-16</th>\n      <td>NaN</td>\n      <td>NaN</td>\n      <td>3.0</td>\n      <td>1.0</td>\n    </tr>\n    <tr>\n      <th>2020-05-17</th>\n      <td>NaN</td>\n      <td>2.0</td>\n      <td>13.0</td>\n      <td>33.0</td>\n    </tr>\n    <tr>\n      <th>2020-05-18</th>\n      <td>NaN</td>\n      <td>NaN</td>\n      <td>3.0</td>\n      <td>NaN</td>\n    </tr>\n    <tr>\n      <th>2020-05-19</th>\n      <td>NaN</td>\n      <td>13.0</td>\n      <td>18.0</td>\n      <td>3.0</td>\n    </tr>\n    <tr>\n      <th>2020-05-20</th>\n      <td>NaN</td>\n      <td>7.0</td>\n      <td>11.0</td>\n      <td>10.0</td>\n    </tr>\n    <tr>\n      <th>2020-05-21</th>\n      <td>NaN</td>\n      <td>1.0</td>\n      <td>28.0</td>\n      <td>20.0</td>\n    </tr>\n  </tbody>\n</table>\n</div>"
     },
     "execution_count": 6,
     "metadata": {},
     "output_type": "execute_result"
    }
   ],
   "source": [
    "group_daytime = dataframe_views.groupby('daytime').date.value_counts().unstack(0)\n",
    "group_daytime"
   ],
   "metadata": {
    "collapsed": false,
    "pycharm": {
     "name": "#%%\n"
    }
   }
  },
  {
   "cell_type": "markdown",
   "source": [
    "## • using Pandas method .plot(), create a graph\n"
   ],
   "metadata": {
    "collapsed": false
   }
  },
  {
   "cell_type": "code",
   "execution_count": 11,
   "outputs": [
    {
     "data": {
      "text/plain": "<Figure size 1080x576 with 1 Axes>",
      "image/png": "[encoded data removed]"
     },
     "metadata": {
      "needs_background": "light"
     },
     "output_type": "display_data"
    }
   ],
   "source": [
    "plot_views_commits =group_daytime.plot.bar(fontsize=8,\n",
    "           figsize=(15, 8),\n",
    "           title='Commits per day',\n",
    "           stacked=True,\n",
    "           color={\"night\" : \"blue\", \"morning\" : \"red\", \"afternoon\" : \"pink\", \"evening\" : \"black\"},\n",
    "           )\n",
    "plot_views_commits.grid(axis='y')"
   ],
   "metadata": {
    "collapsed": false,
    "pycharm": {
     "name": "#%%\n"
    }
   }
  },
  {
   "cell_type": "code",
   "execution_count": null,
   "outputs": [],
   "source": [
    "con.close()"
   ],
   "metadata": {
    "collapsed": false,
    "pycharm": {
     "name": "#%%\n"
    }
   }
  },
  {
   "cell_type": "markdown",
   "source": [
    "“When do our users usually commit the labs: in the night, morning, afternoon,\n",
    "or evening?\n",
    "\n",
    "-afternoon\n",
    "\n",
    "Which day has:\n",
    "\n",
    "∗ the most number of commits - 2020.05.14\n",
    "\n",
    "∗ and at the same time, the number of commits in the evening is higher\n",
    "than in the afternoon? - 2020.05.12"
   ],
   "metadata": {
    "collapsed": false
   }
  }
 ],
 "metadata": {
  "kernelspec": {
   "display_name": "Python 3",
   "language": "python",
   "name": "python3"
  },
  "language_info": {
   "codemirror_mode": {
    "name": "ipython",
    "version": 2
   },
   "file_extension": ".py",
   "mimetype": "text/x-python",
   "name": "python",
   "nbconvert_exporter": "python",
   "pygments_lexer": "ipython2",
   "version": "2.7.6"
  },
  "pycharm": {
   "stem_cell": {
    "cell_type": "raw",
    "source": [
     "\n"
    ],
    "metadata": {
     "collapsed": false
    }
   }
  }
 },
 "nbformat": 4,
 "nbformat_minor": 0
}