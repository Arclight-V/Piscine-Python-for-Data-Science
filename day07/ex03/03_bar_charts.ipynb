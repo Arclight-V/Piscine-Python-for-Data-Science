{
 "cells": [
  {
   "cell_type": "code",
   "execution_count": 1,
   "outputs": [],
   "source": [
    "import pandas as pd\n",
    "import sqlite3"
   ],
   "metadata": {
    "collapsed": false,
    "pycharm": {
     "name": "#%%\n"
    }
   }
  },
  {
   "cell_type": "code",
   "execution_count": 2,
   "outputs": [],
   "source": [
    "con = sqlite3.connect('../data/checking-logs.sqlite.sqlite copy')"
   ],
   "metadata": {
    "collapsed": false,
    "pycharm": {
     "name": "#%%\n"
    }
   }
  },
  {
   "cell_type": "markdown",
   "source": [
    "## • run a query that gets the datetime from the pageviews table, selecting only the users and not the admins"
   ],
   "metadata": {
    "collapsed": false
   }
  },
  {
   "cell_type": "code",
   "execution_count": 121,
   "outputs": [
    {
     "data": {
      "text/plain": "           date  hour  commits working_day\n0    2020-04-17     5       13    work_day\n1    2020-04-17    11        8    work_day\n2    2020-04-17    12        2    work_day\n3    2020-04-18     7        1     weekend\n4    2020-04-18    13        5     weekend\n..          ...   ...      ...         ...\n283  2020-05-21    16        4    work_day\n284  2020-05-21    17        1    work_day\n285  2020-05-21    18        2    work_day\n286  2020-05-21    19        8    work_day\n287  2020-05-21    20       10    work_day\n\n[288 rows x 4 columns]",
      "text/html": "<div>\n<style scoped>\n    .dataframe tbody tr th:only-of-type {\n        vertical-align: middle;\n    }\n\n    .dataframe tbody tr th {\n        vertical-align: top;\n    }\n\n    .dataframe thead th {\n        text-align: right;\n    }\n</style>\n<table border=\"1\" class=\"dataframe\">\n  <thead>\n    <tr style=\"text-align: right;\">\n      <th></th>\n      <th>date</th>\n      <th>hour</th>\n      <th>commits</th>\n      <th>working_day</th>\n    </tr>\n  </thead>\n  <tbody>\n    <tr>\n      <th>0</th>\n      <td>2020-04-17</td>\n      <td>5</td>\n      <td>13</td>\n      <td>work_day</td>\n    </tr>\n    <tr>\n      <th>1</th>\n      <td>2020-04-17</td>\n      <td>11</td>\n      <td>8</td>\n      <td>work_day</td>\n    </tr>\n    <tr>\n      <th>2</th>\n      <td>2020-04-17</td>\n      <td>12</td>\n      <td>2</td>\n      <td>work_day</td>\n    </tr>\n    <tr>\n      <th>3</th>\n      <td>2020-04-18</td>\n      <td>7</td>\n      <td>1</td>\n      <td>weekend</td>\n    </tr>\n    <tr>\n      <th>4</th>\n      <td>2020-04-18</td>\n      <td>13</td>\n      <td>5</td>\n      <td>weekend</td>\n    </tr>\n    <tr>\n      <th>...</th>\n      <td>...</td>\n      <td>...</td>\n      <td>...</td>\n      <td>...</td>\n    </tr>\n    <tr>\n      <th>283</th>\n      <td>2020-05-21</td>\n      <td>16</td>\n      <td>4</td>\n      <td>work_day</td>\n    </tr>\n    <tr>\n      <th>284</th>\n      <td>2020-05-21</td>\n      <td>17</td>\n      <td>1</td>\n      <td>work_day</td>\n    </tr>\n    <tr>\n      <th>285</th>\n      <td>2020-05-21</td>\n      <td>18</td>\n      <td>2</td>\n      <td>work_day</td>\n    </tr>\n    <tr>\n      <th>286</th>\n      <td>2020-05-21</td>\n      <td>19</td>\n      <td>8</td>\n      <td>work_day</td>\n    </tr>\n    <tr>\n      <th>287</th>\n      <td>2020-05-21</td>\n      <td>20</td>\n      <td>10</td>\n      <td>work_day</td>\n    </tr>\n  </tbody>\n</table>\n<p>288 rows × 4 columns</p>\n</div>"
     },
     "execution_count": 121,
     "metadata": {},
     "output_type": "execute_result"
    }
   ],
   "source": [
    "query_datetime = \"\"\"\n",
    "SELECT  DATE(checker.timestamp) AS 'date',\n",
    "        CAST(strftime('%H', checker.timestamp) AS INTEGER) AS 'hour',\n",
    "        COUNT() AS commits,\n",
    "        CASE\n",
    "            WHEN CAST(strftime('%w', checker.timestamp) AS INTEGER) <= 5 AND NOT 0 THEN 'work_day'\n",
    "                ELSE 'weekend'\n",
    "        END AS 'working_day'\n",
    "\n",
    "FROM checker\n",
    "\n",
    "WHERE uid LIKE 'user_%'\n",
    "\n",
    "GROUP BY date, hour\n",
    "\"\"\"\n",
    "\n",
    "commits = pd.io.sql.read_sql(query_datetime, con, parse_dates=['timestamp'])\n",
    "commits\n",
    "\n"
   ],
   "metadata": {
    "collapsed": false,
    "pycharm": {
     "name": "#%%\n"
    }
   }
  },
  {
   "cell_type": "code",
   "execution_count": 125,
   "outputs": [
    {
     "data": {
      "text/plain": "          date  hour  commits working_day\n0   2020-04-17     5       13    work_day\n1   2020-04-17    11        8    work_day\n2   2020-04-17    12        2    work_day\n13  2020-04-19     0        2    work_day\n14  2020-04-19     5        2    work_day",
      "text/html": "<div>\n<style scoped>\n    .dataframe tbody tr th:only-of-type {\n        vertical-align: middle;\n    }\n\n    .dataframe tbody tr th {\n        vertical-align: top;\n    }\n\n    .dataframe thead th {\n        text-align: right;\n    }\n</style>\n<table border=\"1\" class=\"dataframe\">\n  <thead>\n    <tr style=\"text-align: right;\">\n      <th></th>\n      <th>date</th>\n      <th>hour</th>\n      <th>commits</th>\n      <th>working_day</th>\n    </tr>\n  </thead>\n  <tbody>\n    <tr>\n      <th>0</th>\n      <td>2020-04-17</td>\n      <td>5</td>\n      <td>13</td>\n      <td>work_day</td>\n    </tr>\n    <tr>\n      <th>1</th>\n      <td>2020-04-17</td>\n      <td>11</td>\n      <td>8</td>\n      <td>work_day</td>\n    </tr>\n    <tr>\n      <th>2</th>\n      <td>2020-04-17</td>\n      <td>12</td>\n      <td>2</td>\n      <td>work_day</td>\n    </tr>\n    <tr>\n      <th>13</th>\n      <td>2020-04-19</td>\n      <td>0</td>\n      <td>2</td>\n      <td>work_day</td>\n    </tr>\n    <tr>\n      <th>14</th>\n      <td>2020-04-19</td>\n      <td>5</td>\n      <td>2</td>\n      <td>work_day</td>\n    </tr>\n  </tbody>\n</table>\n</div>"
     },
     "execution_count": 125,
     "metadata": {},
     "output_type": "execute_result"
    }
   ],
   "source": [
    "working_day = commits.query(\"working_day =='work_day'\")\n",
    "working_day.head(5)"
   ],
   "metadata": {
    "collapsed": false,
    "pycharm": {
     "name": "#%%\n"
    }
   }
  },
  {
   "cell_type": "code",
   "execution_count": 123,
   "outputs": [
    {
     "data": {
      "text/plain": "         date  hour  commits working_day\n3  2020-04-18     7        1     weekend\n4  2020-04-18    13        5     weekend\n5  2020-04-18    14        3     weekend\n6  2020-04-18    15       25     weekend\n7  2020-04-18    17        7     weekend",
      "text/html": "<div>\n<style scoped>\n    .dataframe tbody tr th:only-of-type {\n        vertical-align: middle;\n    }\n\n    .dataframe tbody tr th {\n        vertical-align: top;\n    }\n\n    .dataframe thead th {\n        text-align: right;\n    }\n</style>\n<table border=\"1\" class=\"dataframe\">\n  <thead>\n    <tr style=\"text-align: right;\">\n      <th></th>\n      <th>date</th>\n      <th>hour</th>\n      <th>commits</th>\n      <th>working_day</th>\n    </tr>\n  </thead>\n  <tbody>\n    <tr>\n      <th>3</th>\n      <td>2020-04-18</td>\n      <td>7</td>\n      <td>1</td>\n      <td>weekend</td>\n    </tr>\n    <tr>\n      <th>4</th>\n      <td>2020-04-18</td>\n      <td>13</td>\n      <td>5</td>\n      <td>weekend</td>\n    </tr>\n    <tr>\n      <th>5</th>\n      <td>2020-04-18</td>\n      <td>14</td>\n      <td>3</td>\n      <td>weekend</td>\n    </tr>\n    <tr>\n      <th>6</th>\n      <td>2020-04-18</td>\n      <td>15</td>\n      <td>25</td>\n      <td>weekend</td>\n    </tr>\n    <tr>\n      <th>7</th>\n      <td>2020-04-18</td>\n      <td>17</td>\n      <td>7</td>\n      <td>weekend</td>\n    </tr>\n  </tbody>\n</table>\n</div>"
     },
     "execution_count": 123,
     "metadata": {},
     "output_type": "execute_result"
    }
   ],
   "source": [
    "weekend =  commits.query(\"working_day == 'weekend'\")\n",
    "weekend.head(5)\n"
   ],
   "metadata": {
    "collapsed": false,
    "pycharm": {
     "name": "#%%\n"
    }
   }
  },
  {
   "cell_type": "code",
   "execution_count": 126,
   "outputs": [
    {
     "data": {
      "text/plain": "   hour  working_day\n0     0     2.400000\n1     1     6.000000\n2     3     2.000000\n3     5     5.666667\n4     6     1.500000",
      "text/html": "<div>\n<style scoped>\n    .dataframe tbody tr th:only-of-type {\n        vertical-align: middle;\n    }\n\n    .dataframe tbody tr th {\n        vertical-align: top;\n    }\n\n    .dataframe thead th {\n        text-align: right;\n    }\n</style>\n<table border=\"1\" class=\"dataframe\">\n  <thead>\n    <tr style=\"text-align: right;\">\n      <th></th>\n      <th>hour</th>\n      <th>working_day</th>\n    </tr>\n  </thead>\n  <tbody>\n    <tr>\n      <th>0</th>\n      <td>0</td>\n      <td>2.400000</td>\n    </tr>\n    <tr>\n      <th>1</th>\n      <td>1</td>\n      <td>6.000000</td>\n    </tr>\n    <tr>\n      <th>2</th>\n      <td>3</td>\n      <td>2.000000</td>\n    </tr>\n    <tr>\n      <th>3</th>\n      <td>5</td>\n      <td>5.666667</td>\n    </tr>\n    <tr>\n      <th>4</th>\n      <td>6</td>\n      <td>1.500000</td>\n    </tr>\n  </tbody>\n</table>\n</div>"
     },
     "execution_count": 126,
     "metadata": {},
     "output_type": "execute_result"
    }
   ],
   "source": [
    "working_day = working_day.drop(['working_day','date'], axis=1).sort_values('hour')\n",
    "working_day.rename(columns={'commits':'working_day'}, inplace=True)\n",
    "working_day=working_day.groupby('hour').mean().reset_index()\n",
    "\n",
    "working_day.head(5)"
   ],
   "metadata": {
    "collapsed": false,
    "pycharm": {
     "name": "#%%\n"
    }
   }
  },
  {
   "cell_type": "code",
   "execution_count": 127,
   "outputs": [
    {
     "data": {
      "text/plain": "   hour   weekend\n0     3  1.000000\n1     7  4.666667\n2     8  4.500000\n3     9  2.500000\n4    10  1.000000",
      "text/html": "<div>\n<style scoped>\n    .dataframe tbody tr th:only-of-type {\n        vertical-align: middle;\n    }\n\n    .dataframe tbody tr th {\n        vertical-align: top;\n    }\n\n    .dataframe thead th {\n        text-align: right;\n    }\n</style>\n<table border=\"1\" class=\"dataframe\">\n  <thead>\n    <tr style=\"text-align: right;\">\n      <th></th>\n      <th>hour</th>\n      <th>weekend</th>\n    </tr>\n  </thead>\n  <tbody>\n    <tr>\n      <th>0</th>\n      <td>3</td>\n      <td>1.000000</td>\n    </tr>\n    <tr>\n      <th>1</th>\n      <td>7</td>\n      <td>4.666667</td>\n    </tr>\n    <tr>\n      <th>2</th>\n      <td>8</td>\n      <td>4.500000</td>\n    </tr>\n    <tr>\n      <th>3</th>\n      <td>9</td>\n      <td>2.500000</td>\n    </tr>\n    <tr>\n      <th>4</th>\n      <td>10</td>\n      <td>1.000000</td>\n    </tr>\n  </tbody>\n</table>\n</div>"
     },
     "execution_count": 127,
     "metadata": {},
     "output_type": "execute_result"
    }
   ],
   "source": [
    "weekend = weekend.drop(['working_day','date'], axis=1).sort_values('hour')\n",
    "weekend.rename(columns={'commits':'weekend'},inplace=True)\n",
    "weekend=weekend.groupby('hour').mean().reset_index()\n",
    "weekend.head(5)"
   ],
   "metadata": {
    "collapsed": false,
    "pycharm": {
     "name": "#%%\n"
    }
   }
  },
  {
   "cell_type": "code",
   "execution_count": 128,
   "outputs": [],
   "source": [
    "hours = list(range(24))\n",
    "hours = pd.DataFrame(hours, columns=['hour'])"
   ],
   "metadata": {
    "collapsed": false,
    "pycharm": {
     "name": "#%%\n"
    }
   }
  },
  {
   "cell_type": "code",
   "source": [
    "plot_data = hours.merge(working_day,on='hour', how='left').merge(weekend,on='hour',how='left')\n",
    "\n",
    "plot_data.head(30)"
   ],
   "metadata": {
    "collapsed": false,
    "pycharm": {
     "name": "#%%\n"
    }
   },
   "execution_count": 129,
   "outputs": [
    {
     "data": {
      "text/plain": "    hour  working_day    weekend\n0      0     2.400000        NaN\n1      1     6.000000        NaN\n2      2          NaN        NaN\n3      3     2.000000   1.000000\n4      4          NaN        NaN\n5      5     5.666667        NaN\n6      6     1.500000        NaN\n7      7     4.714286   4.666667\n8      8     4.666667   4.500000\n9      9     5.222222   2.500000\n10    10    12.230769   1.000000\n11    11     7.125000  46.000000\n12    12     7.714286   9.333333\n13    13    11.538462  15.500000\n14    14    11.066667  10.750000\n15    15    13.466667  13.250000\n16    16    17.833333  15.000000\n17    17    14.333333   6.750000\n18    18    14.333333   6.666667\n19    19    18.437500   6.000000\n20    20    16.058824   5.400000\n21    21    21.062500   9.000000\n22    22     4.000000  14.666667\n23    23     3.600000   9.666667",
      "text/html": "<div>\n<style scoped>\n    .dataframe tbody tr th:only-of-type {\n        vertical-align: middle;\n    }\n\n    .dataframe tbody tr th {\n        vertical-align: top;\n    }\n\n    .dataframe thead th {\n        text-align: right;\n    }\n</style>\n<table border=\"1\" class=\"dataframe\">\n  <thead>\n    <tr style=\"text-align: right;\">\n      <th></th>\n      <th>hour</th>\n      <th>working_day</th>\n      <th>weekend</th>\n    </tr>\n  </thead>\n  <tbody>\n    <tr>\n      <th>0</th>\n      <td>0</td>\n      <td>2.400000</td>\n      <td>NaN</td>\n    </tr>\n    <tr>\n      <th>1</th>\n      <td>1</td>\n      <td>6.000000</td>\n      <td>NaN</td>\n    </tr>\n    <tr>\n      <th>2</th>\n      <td>2</td>\n      <td>NaN</td>\n      <td>NaN</td>\n    </tr>\n    <tr>\n      <th>3</th>\n      <td>3</td>\n      <td>2.000000</td>\n      <td>1.000000</td>\n    </tr>\n    <tr>\n      <th>4</th>\n      <td>4</td>\n      <td>NaN</td>\n      <td>NaN</td>\n    </tr>\n    <tr>\n      <th>5</th>\n      <td>5</td>\n      <td>5.666667</td>\n      <td>NaN</td>\n    </tr>\n    <tr>\n      <th>6</th>\n      <td>6</td>\n      <td>1.500000</td>\n      <td>NaN</td>\n    </tr>\n    <tr>\n      <th>7</th>\n      <td>7</td>\n      <td>4.714286</td>\n      <td>4.666667</td>\n    </tr>\n    <tr>\n      <th>8</th>\n      <td>8</td>\n      <td>4.666667</td>\n      <td>4.500000</td>\n    </tr>\n    <tr>\n      <th>9</th>\n      <td>9</td>\n      <td>5.222222</td>\n      <td>2.500000</td>\n    </tr>\n    <tr>\n      <th>10</th>\n      <td>10</td>\n      <td>12.230769</td>\n      <td>1.000000</td>\n    </tr>\n    <tr>\n      <th>11</th>\n      <td>11</td>\n      <td>7.125000</td>\n      <td>46.000000</td>\n    </tr>\n    <tr>\n      <th>12</th>\n      <td>12</td>\n      <td>7.714286</td>\n      <td>9.333333</td>\n    </tr>\n    <tr>\n      <th>13</th>\n      <td>13</td>\n      <td>11.538462</td>\n      <td>15.500000</td>\n    </tr>\n    <tr>\n      <th>14</th>\n      <td>14</td>\n      <td>11.066667</td>\n      <td>10.750000</td>\n    </tr>\n    <tr>\n      <th>15</th>\n      <td>15</td>\n      <td>13.466667</td>\n      <td>13.250000</td>\n    </tr>\n    <tr>\n      <th>16</th>\n      <td>16</td>\n      <td>17.833333</td>\n      <td>15.000000</td>\n    </tr>\n    <tr>\n      <th>17</th>\n      <td>17</td>\n      <td>14.333333</td>\n      <td>6.750000</td>\n    </tr>\n    <tr>\n      <th>18</th>\n      <td>18</td>\n      <td>14.333333</td>\n      <td>6.666667</td>\n    </tr>\n    <tr>\n      <th>19</th>\n      <td>19</td>\n      <td>18.437500</td>\n      <td>6.000000</td>\n    </tr>\n    <tr>\n      <th>20</th>\n      <td>20</td>\n      <td>16.058824</td>\n      <td>5.400000</td>\n    </tr>\n    <tr>\n      <th>21</th>\n      <td>21</td>\n      <td>21.062500</td>\n      <td>9.000000</td>\n    </tr>\n    <tr>\n      <th>22</th>\n      <td>22</td>\n      <td>4.000000</td>\n      <td>14.666667</td>\n    </tr>\n    <tr>\n      <th>23</th>\n      <td>23</td>\n      <td>3.600000</td>\n      <td>9.666667</td>\n    </tr>\n  </tbody>\n</table>\n</div>"
     },
     "execution_count": 129,
     "metadata": {},
     "output_type": "execute_result"
    }
   ]
  },
  {
   "cell_type": "code",
   "execution_count": 130,
   "outputs": [
    {
     "name": "stdout",
     "output_type": "stream",
     "text": [
      "<class 'pandas.core.frame.DataFrame'>\n",
      "Int64Index: 24 entries, 0 to 23\n",
      "Data columns (total 3 columns):\n",
      " #   Column       Non-Null Count  Dtype  \n",
      "---  ------       --------------  -----  \n",
      " 0   hour         24 non-null     int64  \n",
      " 1   working_day  22 non-null     float64\n",
      " 2   weekend      18 non-null     float64\n",
      "dtypes: float64(2), int64(1)\n",
      "memory usage: 768.0 bytes\n"
     ]
    }
   ],
   "source": [
    "plot_data.info()"
   ],
   "metadata": {
    "collapsed": false,
    "pycharm": {
     "name": "#%%\n"
    }
   }
  },
  {
   "cell_type": "code",
   "execution_count": 132,
   "outputs": [
    {
     "data": {
      "text/plain": "<Figure size 1080x576 with 2 Axes>",
      "image/png": "[encoded data removed]"
     },
     "metadata": {
      "needs_background": "light"
     },
     "output_type": "display_data"
    }
   ],
   "source": [
    "# https://matplotlib.org/stable/tutorials/colors/colormaps.html\n",
    "\n",
    "plot = plot_data.plot(\n",
    "    y=['weekend','working_day'],\n",
    "    stacked=True,\n",
    "    figsize=(15, 8),\n",
    "    title=\"Commits per hour\",\n",
    "    fontsize=8,\n",
    "    kind='bar',\n",
    "    colormap='plasma',\n",
    "    subplots=True,\n",
    "    x='hour',\n",
    "    rot=0\n",
    ")"
   ],
   "metadata": {
    "collapsed": false,
    "pycharm": {
     "name": "#%%\n"
    }
   }
  },
  {
   "cell_type": "code",
   "execution_count": null,
   "outputs": [],
   "source": [
    "con.close()"
   ],
   "metadata": {
    "collapsed": false,
    "pycharm": {
     "name": "#%%\n"
    }
   }
  }
 ],
 "metadata": {
  "kernelspec": {
   "display_name": "Python 3",
   "language": "python",
   "name": "python3"
  },
  "language_info": {
   "codemirror_mode": {
    "name": "ipython",
    "version": 2
   },
   "file_extension": ".py",
   "mimetype": "text/x-python",
   "name": "python",
   "nbconvert_exporter": "python",
   "pygments_lexer": "ipython2",
   "version": "2.7.6"
  }
 },
 "nbformat": 4,
 "nbformat_minor": 0
}