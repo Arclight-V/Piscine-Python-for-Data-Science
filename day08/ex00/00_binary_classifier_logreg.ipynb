{
 "cells": [
  {
   "cell_type": "markdown",
   "metadata": {},
   "source": [
    "# Day 08. Exercise 00\n",
    "# Binary classifier. Logistic regression"
   ]
  },
  {
   "cell_type": "markdown",
   "metadata": {},
   "source": [
    "## 0. Imports"
   ]
  },
  {
   "cell_type": "code",
   "execution_count": 189,
   "metadata": {},
   "outputs": [],
   "source": [
    "import pandas as pd\n",
    "import matplotlib.pyplot as plt\n",
    "from sklearn.linear_model import LogisticRegression\n",
    "from sklearn.metrics import accuracy_score"
   ]
  },
  {
   "cell_type": "markdown",
   "metadata": {},
   "source": [
    "## 1. Preprocessing"
   ]
  },
  {
   "cell_type": "markdown",
   "metadata": {},
   "source": [
    "- Get the data from the file [`checker-timestamp.csv`](https://drive.google.com/file/d/1pooM4cITtG249msX3GK_6W0eEiblzAf5/view?usp=sharing).\n",
    "\n",
    "\n",
    "- Create a dataframe `df` with the columns: `date`, `am`, `pm`, `target`, where `date` is the date of the day, `am` is the number of the commits during the day before midday (integer), `pm` is the number of commits during the day after midday (integer), `target` is weekend/working_day."
   ]
  },
  {
   "cell_type": "code",
   "execution_count": 190,
   "metadata": {},
   "outputs": [
    {
     "data": {
      "text/plain": "                      timestamp\n0    2020-04-17 05:19:02.744528\n1    2020-04-17 05:22:35.249331\n2    2020-04-17 05:22:45.549397\n3    2020-04-17 05:34:14.691200\n4    2020-04-17 05:34:24.422370\n...                         ...\n3202 2020-05-21 20:19:06.872761\n3203 2020-05-21 20:22:41.785725\n3204 2020-05-21 20:22:41.877806\n3205 2020-05-21 20:37:00.129678\n3206 2020-05-21 20:37:00.290491\n\n[3207 rows x 1 columns]",
      "text/html": "<div>\n<style scoped>\n    .dataframe tbody tr th:only-of-type {\n        vertical-align: middle;\n    }\n\n    .dataframe tbody tr th {\n        vertical-align: top;\n    }\n\n    .dataframe thead th {\n        text-align: right;\n    }\n</style>\n<table border=\"1\" class=\"dataframe\">\n  <thead>\n    <tr style=\"text-align: right;\">\n      <th></th>\n      <th>timestamp</th>\n    </tr>\n  </thead>\n  <tbody>\n    <tr>\n      <th>0</th>\n      <td>2020-04-17 05:19:02.744528</td>\n    </tr>\n    <tr>\n      <th>1</th>\n      <td>2020-04-17 05:22:35.249331</td>\n    </tr>\n    <tr>\n      <th>2</th>\n      <td>2020-04-17 05:22:45.549397</td>\n    </tr>\n    <tr>\n      <th>3</th>\n      <td>2020-04-17 05:34:14.691200</td>\n    </tr>\n    <tr>\n      <th>4</th>\n      <td>2020-04-17 05:34:24.422370</td>\n    </tr>\n    <tr>\n      <th>...</th>\n      <td>...</td>\n    </tr>\n    <tr>\n      <th>3202</th>\n      <td>2020-05-21 20:19:06.872761</td>\n    </tr>\n    <tr>\n      <th>3203</th>\n      <td>2020-05-21 20:22:41.785725</td>\n    </tr>\n    <tr>\n      <th>3204</th>\n      <td>2020-05-21 20:22:41.877806</td>\n    </tr>\n    <tr>\n      <th>3205</th>\n      <td>2020-05-21 20:37:00.129678</td>\n    </tr>\n    <tr>\n      <th>3206</th>\n      <td>2020-05-21 20:37:00.290491</td>\n    </tr>\n  </tbody>\n</table>\n<p>3207 rows × 1 columns</p>\n</div>"
     },
     "execution_count": 190,
     "metadata": {},
     "output_type": "execute_result"
    }
   ],
   "source": [
    "df = pd.read_csv('../data/checker_timestamp.csv', parse_dates=['timestamp'])\n",
    "df"
   ]
  },
  {
   "cell_type": "code",
   "execution_count": 191,
   "metadata": {},
   "outputs": [
    {
     "data": {
      "text/plain": "                      timestamp        date time\n0    2020-04-17 05:19:02.744528  2020-04-17   am\n1    2020-04-17 05:22:35.249331  2020-04-17   am\n2    2020-04-17 05:22:45.549397  2020-04-17   am\n3    2020-04-17 05:34:14.691200  2020-04-17   am\n4    2020-04-17 05:34:24.422370  2020-04-17   am\n...                         ...         ...  ...\n3202 2020-05-21 20:19:06.872761  2020-05-21   pm\n3203 2020-05-21 20:22:41.785725  2020-05-21   pm\n3204 2020-05-21 20:22:41.877806  2020-05-21   pm\n3205 2020-05-21 20:37:00.129678  2020-05-21   pm\n3206 2020-05-21 20:37:00.290491  2020-05-21   pm\n\n[3207 rows x 3 columns]",
      "text/html": "<div>\n<style scoped>\n    .dataframe tbody tr th:only-of-type {\n        vertical-align: middle;\n    }\n\n    .dataframe tbody tr th {\n        vertical-align: top;\n    }\n\n    .dataframe thead th {\n        text-align: right;\n    }\n</style>\n<table border=\"1\" class=\"dataframe\">\n  <thead>\n    <tr style=\"text-align: right;\">\n      <th></th>\n      <th>timestamp</th>\n      <th>date</th>\n      <th>time</th>\n    </tr>\n  </thead>\n  <tbody>\n    <tr>\n      <th>0</th>\n      <td>2020-04-17 05:19:02.744528</td>\n      <td>2020-04-17</td>\n      <td>am</td>\n    </tr>\n    <tr>\n      <th>1</th>\n      <td>2020-04-17 05:22:35.249331</td>\n      <td>2020-04-17</td>\n      <td>am</td>\n    </tr>\n    <tr>\n      <th>2</th>\n      <td>2020-04-17 05:22:45.549397</td>\n      <td>2020-04-17</td>\n      <td>am</td>\n    </tr>\n    <tr>\n      <th>3</th>\n      <td>2020-04-17 05:34:14.691200</td>\n      <td>2020-04-17</td>\n      <td>am</td>\n    </tr>\n    <tr>\n      <th>4</th>\n      <td>2020-04-17 05:34:24.422370</td>\n      <td>2020-04-17</td>\n      <td>am</td>\n    </tr>\n    <tr>\n      <th>...</th>\n      <td>...</td>\n      <td>...</td>\n      <td>...</td>\n    </tr>\n    <tr>\n      <th>3202</th>\n      <td>2020-05-21 20:19:06.872761</td>\n      <td>2020-05-21</td>\n      <td>pm</td>\n    </tr>\n    <tr>\n      <th>3203</th>\n      <td>2020-05-21 20:22:41.785725</td>\n      <td>2020-05-21</td>\n      <td>pm</td>\n    </tr>\n    <tr>\n      <th>3204</th>\n      <td>2020-05-21 20:22:41.877806</td>\n      <td>2020-05-21</td>\n      <td>pm</td>\n    </tr>\n    <tr>\n      <th>3205</th>\n      <td>2020-05-21 20:37:00.129678</td>\n      <td>2020-05-21</td>\n      <td>pm</td>\n    </tr>\n    <tr>\n      <th>3206</th>\n      <td>2020-05-21 20:37:00.290491</td>\n      <td>2020-05-21</td>\n      <td>pm</td>\n    </tr>\n  </tbody>\n</table>\n<p>3207 rows × 3 columns</p>\n</div>"
     },
     "execution_count": 191,
     "metadata": {},
     "output_type": "execute_result"
    }
   ],
   "source": [
    "df['date'] = df['timestamp'].dt.date\n",
    "df['time'] = df['timestamp'].dt.hour.apply(lambda x: \"am\" if x < 12 else \"pm\")\n",
    "df"
   ]
  },
  {
   "cell_type": "code",
   "execution_count": 192,
   "metadata": {},
   "outputs": [
    {
     "data": {
      "text/plain": "          date    am     pm       target\n0   2020-04-17  21.0    2.0  working_day\n1   2020-04-18   1.0   68.0      weekend\n2   2020-04-19  18.0   15.0      weekend\n3   2020-04-20   2.0   23.0  working_day\n4   2020-04-21   0.0   25.0  working_day\n5   2020-04-22   0.0   28.0  working_day\n6   2020-04-23  10.0   33.0  working_day\n7   2020-04-24   2.0   14.0  working_day\n8   2020-04-25  30.0   74.0      weekend\n9   2020-04-26  28.0  233.0      weekend\n10  2020-04-27   4.0    2.0  working_day\n11  2020-04-28   4.0    1.0  working_day\n12  2020-04-29   0.0   17.0  working_day\n13  2020-04-30  13.0   40.0  working_day\n14  2020-05-01   8.0   52.0  working_day\n15  2020-05-02  91.0  151.0      weekend\n16  2020-05-03  47.0  133.0      weekend\n17  2020-05-04  11.0   26.0  working_day\n18  2020-05-05  81.0   58.0  working_day\n19  2020-05-06   2.0    0.0  working_day\n20  2020-05-07  14.0   38.0  working_day\n21  2020-05-08   3.0   84.0  working_day\n22  2020-05-09   0.0   86.0      weekend\n23  2020-05-10  10.0  133.0      weekend\n24  2020-05-11   3.0  183.0  working_day\n25  2020-05-12  56.0  267.0  working_day\n26  2020-05-13   6.0  205.0  working_day\n27  2020-05-14  66.0  509.0  working_day\n28  2020-05-15  10.0    0.0  working_day\n29  2020-05-16   0.0    4.0      weekend\n30  2020-05-17   2.0   46.0      weekend\n31  2020-05-18   0.0    3.0  working_day\n32  2020-05-19  20.0   14.0  working_day\n33  2020-05-20   7.0   21.0  working_day\n34  2020-05-21   1.0   48.0  working_day",
      "text/html": "<div>\n<style scoped>\n    .dataframe tbody tr th:only-of-type {\n        vertical-align: middle;\n    }\n\n    .dataframe tbody tr th {\n        vertical-align: top;\n    }\n\n    .dataframe thead th {\n        text-align: right;\n    }\n</style>\n<table border=\"1\" class=\"dataframe\">\n  <thead>\n    <tr style=\"text-align: right;\">\n      <th></th>\n      <th>date</th>\n      <th>am</th>\n      <th>pm</th>\n      <th>target</th>\n    </tr>\n  </thead>\n  <tbody>\n    <tr>\n      <th>0</th>\n      <td>2020-04-17</td>\n      <td>21.0</td>\n      <td>2.0</td>\n      <td>working_day</td>\n    </tr>\n    <tr>\n      <th>1</th>\n      <td>2020-04-18</td>\n      <td>1.0</td>\n      <td>68.0</td>\n      <td>weekend</td>\n    </tr>\n    <tr>\n      <th>2</th>\n      <td>2020-04-19</td>\n      <td>18.0</td>\n      <td>15.0</td>\n      <td>weekend</td>\n    </tr>\n    <tr>\n      <th>3</th>\n      <td>2020-04-20</td>\n      <td>2.0</td>\n      <td>23.0</td>\n      <td>working_day</td>\n    </tr>\n    <tr>\n      <th>4</th>\n      <td>2020-04-21</td>\n      <td>0.0</td>\n      <td>25.0</td>\n      <td>working_day</td>\n    </tr>\n    <tr>\n      <th>5</th>\n      <td>2020-04-22</td>\n      <td>0.0</td>\n      <td>28.0</td>\n      <td>working_day</td>\n    </tr>\n    <tr>\n      <th>6</th>\n      <td>2020-04-23</td>\n      <td>10.0</td>\n      <td>33.0</td>\n      <td>working_day</td>\n    </tr>\n    <tr>\n      <th>7</th>\n      <td>2020-04-24</td>\n      <td>2.0</td>\n      <td>14.0</td>\n      <td>working_day</td>\n    </tr>\n    <tr>\n      <th>8</th>\n      <td>2020-04-25</td>\n      <td>30.0</td>\n      <td>74.0</td>\n      <td>weekend</td>\n    </tr>\n    <tr>\n      <th>9</th>\n      <td>2020-04-26</td>\n      <td>28.0</td>\n      <td>233.0</td>\n      <td>weekend</td>\n    </tr>\n    <tr>\n      <th>10</th>\n      <td>2020-04-27</td>\n      <td>4.0</td>\n      <td>2.0</td>\n      <td>working_day</td>\n    </tr>\n    <tr>\n      <th>11</th>\n      <td>2020-04-28</td>\n      <td>4.0</td>\n      <td>1.0</td>\n      <td>working_day</td>\n    </tr>\n    <tr>\n      <th>12</th>\n      <td>2020-04-29</td>\n      <td>0.0</td>\n      <td>17.0</td>\n      <td>working_day</td>\n    </tr>\n    <tr>\n      <th>13</th>\n      <td>2020-04-30</td>\n      <td>13.0</td>\n      <td>40.0</td>\n      <td>working_day</td>\n    </tr>\n    <tr>\n      <th>14</th>\n      <td>2020-05-01</td>\n      <td>8.0</td>\n      <td>52.0</td>\n      <td>working_day</td>\n    </tr>\n    <tr>\n      <th>15</th>\n      <td>2020-05-02</td>\n      <td>91.0</td>\n      <td>151.0</td>\n      <td>weekend</td>\n    </tr>\n    <tr>\n      <th>16</th>\n      <td>2020-05-03</td>\n      <td>47.0</td>\n      <td>133.0</td>\n      <td>weekend</td>\n    </tr>\n    <tr>\n      <th>17</th>\n      <td>2020-05-04</td>\n      <td>11.0</td>\n      <td>26.0</td>\n      <td>working_day</td>\n    </tr>\n    <tr>\n      <th>18</th>\n      <td>2020-05-05</td>\n      <td>81.0</td>\n      <td>58.0</td>\n      <td>working_day</td>\n    </tr>\n    <tr>\n      <th>19</th>\n      <td>2020-05-06</td>\n      <td>2.0</td>\n      <td>0.0</td>\n      <td>working_day</td>\n    </tr>\n    <tr>\n      <th>20</th>\n      <td>2020-05-07</td>\n      <td>14.0</td>\n      <td>38.0</td>\n      <td>working_day</td>\n    </tr>\n    <tr>\n      <th>21</th>\n      <td>2020-05-08</td>\n      <td>3.0</td>\n      <td>84.0</td>\n      <td>working_day</td>\n    </tr>\n    <tr>\n      <th>22</th>\n      <td>2020-05-09</td>\n      <td>0.0</td>\n      <td>86.0</td>\n      <td>weekend</td>\n    </tr>\n    <tr>\n      <th>23</th>\n      <td>2020-05-10</td>\n      <td>10.0</td>\n      <td>133.0</td>\n      <td>weekend</td>\n    </tr>\n    <tr>\n      <th>24</th>\n      <td>2020-05-11</td>\n      <td>3.0</td>\n      <td>183.0</td>\n      <td>working_day</td>\n    </tr>\n    <tr>\n      <th>25</th>\n      <td>2020-05-12</td>\n      <td>56.0</td>\n      <td>267.0</td>\n      <td>working_day</td>\n    </tr>\n    <tr>\n      <th>26</th>\n      <td>2020-05-13</td>\n      <td>6.0</td>\n      <td>205.0</td>\n      <td>working_day</td>\n    </tr>\n    <tr>\n      <th>27</th>\n      <td>2020-05-14</td>\n      <td>66.0</td>\n      <td>509.0</td>\n      <td>working_day</td>\n    </tr>\n    <tr>\n      <th>28</th>\n      <td>2020-05-15</td>\n      <td>10.0</td>\n      <td>0.0</td>\n      <td>working_day</td>\n    </tr>\n    <tr>\n      <th>29</th>\n      <td>2020-05-16</td>\n      <td>0.0</td>\n      <td>4.0</td>\n      <td>weekend</td>\n    </tr>\n    <tr>\n      <th>30</th>\n      <td>2020-05-17</td>\n      <td>2.0</td>\n      <td>46.0</td>\n      <td>weekend</td>\n    </tr>\n    <tr>\n      <th>31</th>\n      <td>2020-05-18</td>\n      <td>0.0</td>\n      <td>3.0</td>\n      <td>working_day</td>\n    </tr>\n    <tr>\n      <th>32</th>\n      <td>2020-05-19</td>\n      <td>20.0</td>\n      <td>14.0</td>\n      <td>working_day</td>\n    </tr>\n    <tr>\n      <th>33</th>\n      <td>2020-05-20</td>\n      <td>7.0</td>\n      <td>21.0</td>\n      <td>working_day</td>\n    </tr>\n    <tr>\n      <th>34</th>\n      <td>2020-05-21</td>\n      <td>1.0</td>\n      <td>48.0</td>\n      <td>working_day</td>\n    </tr>\n  </tbody>\n</table>\n</div>"
     },
     "execution_count": 192,
     "metadata": {},
     "output_type": "execute_result"
    }
   ],
   "source": [
    "df = df.groupby(['time']).date.value_counts().unstack(0)\n",
    "df = df.rename_axis(None, axis=1)\n",
    "df = df.reset_index()\n",
    "df['target'] = pd.to_datetime(df['date']).dt.dayofweek.apply(lambda x: \"working_day\" if x < 5 else \"weekend\")\n",
    "df['am'].fillna(0, inplace=True)\n",
    "df['pm'].fillna(0, inplace=True)\n",
    "df"
   ]
  },
  {
   "cell_type": "markdown",
   "metadata": {},
   "source": [
    "## 2. Exploratory analysis"
   ]
  },
  {
   "cell_type": "markdown",
   "metadata": {},
   "source": [
    "- Create a plot where `x` is am, `y` is pm, each dot is a day, working days and weekends must have different colors.\n",
    "\n",
    "\n",
    "- By looking at the graph do you think it will be easy to classify the days having those two features? Put your answer in the markdown cell in the end of that sectioin: \"yes, it is easy\" or \"no, it is not easy\"."
   ]
  },
  {
   "cell_type": "code",
   "execution_count": 193,
   "metadata": {},
   "outputs": [
    {
     "data": {
      "text/plain": "<Figure size 1080x576 with 1 Axes>",
      "image/png": "[encoded data removed]"
     },
     "metadata": {
      "needs_background": "light"
     },
     "output_type": "display_data"
    }
   ],
   "source": [
    "fig, ax = plt.subplots(figsize=(15, 8))\n",
    "scatter = ax.scatter(x=df['am'],\n",
    "                     y=df['pm'],\n",
    "                     cmap='spring',\n",
    "                     c=[0 if i == 'working_day' else 1 for i in df['target']])\n",
    "handles, labels = scatter.legend_elements(prop='colors')\n",
    "ax.legend(handles, ['working_day', 'weekend'])\n",
    "ax.set_title('Commits')\n",
    "ax.set_xlabel('am')\n",
    "ax.set_ylabel('pm')\n",
    "plt.show()\n"
   ]
  },
  {
   "cell_type": "markdown",
   "metadata": {},
   "source": [
    "no, it is not easy"
   ]
  },
  {
   "cell_type": "markdown",
   "metadata": {},
   "source": [
    "## 3. Logistic regression"
   ]
  },
  {
   "cell_type": "markdown",
   "metadata": {},
   "source": [
    "- Train logistic regression on your data using `am` and `pm`, parameters are: `random state=21`, `fit_intercept=False`.\n",
    "\n",
    "\n",
    "- Make predictions for every day of your dataset and add them to your dataframe with the column name `predict`.\n",
    "\n",
    "\n",
    "- Save the dataframe into a file in the subfolder of the day `data` with the name `am_pm.csv`.\n",
    "\n",
    "\n",
    "- Draw another plot like you did before, but the color should be taken from the `predict`.\n",
    "\n",
    "\n",
    "- By looking at the graph do you think if it made good predictions? Put your answer in the markdown cell in the end of that section: \"yes, it is good\"; \"no, it is not good\"."
   ]
  },
  {
   "cell_type": "markdown",
   "source": [
    "[sklearn.linear_model.LogisticRegression](https://scikit-learn.org/stable/modules/generated/sklearn.linear_model.LogisticRegression.html)"
   ],
   "metadata": {
    "collapsed": false,
    "pycharm": {
     "name": "#%% md\n"
    }
   }
  },
  {
   "cell_type": "code",
   "execution_count": 196,
   "metadata": {},
   "outputs": [
    {
     "data": {
      "text/plain": "array(['weekend', 'working_day', 'working_day', 'working_day',\n       'working_day', 'working_day', 'working_day', 'working_day',\n       'working_day', 'working_day', 'working_day', 'working_day',\n       'working_day', 'working_day', 'working_day', 'working_day',\n       'working_day', 'working_day', 'working_day', 'weekend',\n       'working_day', 'working_day', 'working_day', 'working_day',\n       'working_day', 'working_day', 'working_day', 'working_day',\n       'weekend', 'working_day', 'working_day', 'working_day',\n       'working_day', 'working_day', 'working_day'], dtype=object)"
     },
     "execution_count": 196,
     "metadata": {},
     "output_type": "execute_result"
    }
   ],
   "source": [
    "x = df[['am', 'pm']].values\n",
    "y = df['target'].values\n",
    "\n",
    "clr = LogisticRegression(random_state=21, fit_intercept=False).fit(x, y)\n",
    "predict_for_every_day = clr.predict(x)\n",
    "predict_for_every_day"
   ]
  },
  {
   "cell_type": "code",
   "execution_count": 197,
   "metadata": {},
   "outputs": [
    {
     "data": {
      "text/plain": "          date    am     pm       target      predict\n0   2020-04-17  21.0    2.0  working_day      weekend\n1   2020-04-18   1.0   68.0      weekend  working_day\n2   2020-04-19  18.0   15.0      weekend  working_day\n3   2020-04-20   2.0   23.0  working_day  working_day\n4   2020-04-21   0.0   25.0  working_day  working_day\n5   2020-04-22   0.0   28.0  working_day  working_day\n6   2020-04-23  10.0   33.0  working_day  working_day\n7   2020-04-24   2.0   14.0  working_day  working_day\n8   2020-04-25  30.0   74.0      weekend  working_day\n9   2020-04-26  28.0  233.0      weekend  working_day\n10  2020-04-27   4.0    2.0  working_day  working_day\n11  2020-04-28   4.0    1.0  working_day  working_day\n12  2020-04-29   0.0   17.0  working_day  working_day\n13  2020-04-30  13.0   40.0  working_day  working_day\n14  2020-05-01   8.0   52.0  working_day  working_day\n15  2020-05-02  91.0  151.0      weekend  working_day\n16  2020-05-03  47.0  133.0      weekend  working_day\n17  2020-05-04  11.0   26.0  working_day  working_day\n18  2020-05-05  81.0   58.0  working_day  working_day\n19  2020-05-06   2.0    0.0  working_day      weekend\n20  2020-05-07  14.0   38.0  working_day  working_day\n21  2020-05-08   3.0   84.0  working_day  working_day\n22  2020-05-09   0.0   86.0      weekend  working_day\n23  2020-05-10  10.0  133.0      weekend  working_day\n24  2020-05-11   3.0  183.0  working_day  working_day\n25  2020-05-12  56.0  267.0  working_day  working_day\n26  2020-05-13   6.0  205.0  working_day  working_day\n27  2020-05-14  66.0  509.0  working_day  working_day\n28  2020-05-15  10.0    0.0  working_day      weekend\n29  2020-05-16   0.0    4.0      weekend  working_day\n30  2020-05-17   2.0   46.0      weekend  working_day\n31  2020-05-18   0.0    3.0  working_day  working_day\n32  2020-05-19  20.0   14.0  working_day  working_day\n33  2020-05-20   7.0   21.0  working_day  working_day\n34  2020-05-21   1.0   48.0  working_day  working_day",
      "text/html": "<div>\n<style scoped>\n    .dataframe tbody tr th:only-of-type {\n        vertical-align: middle;\n    }\n\n    .dataframe tbody tr th {\n        vertical-align: top;\n    }\n\n    .dataframe thead th {\n        text-align: right;\n    }\n</style>\n<table border=\"1\" class=\"dataframe\">\n  <thead>\n    <tr style=\"text-align: right;\">\n      <th></th>\n      <th>date</th>\n      <th>am</th>\n      <th>pm</th>\n      <th>target</th>\n      <th>predict</th>\n    </tr>\n  </thead>\n  <tbody>\n    <tr>\n      <th>0</th>\n      <td>2020-04-17</td>\n      <td>21.0</td>\n      <td>2.0</td>\n      <td>working_day</td>\n      <td>weekend</td>\n    </tr>\n    <tr>\n      <th>1</th>\n      <td>2020-04-18</td>\n      <td>1.0</td>\n      <td>68.0</td>\n      <td>weekend</td>\n      <td>working_day</td>\n    </tr>\n    <tr>\n      <th>2</th>\n      <td>2020-04-19</td>\n      <td>18.0</td>\n      <td>15.0</td>\n      <td>weekend</td>\n      <td>working_day</td>\n    </tr>\n    <tr>\n      <th>3</th>\n      <td>2020-04-20</td>\n      <td>2.0</td>\n      <td>23.0</td>\n      <td>working_day</td>\n      <td>working_day</td>\n    </tr>\n    <tr>\n      <th>4</th>\n      <td>2020-04-21</td>\n      <td>0.0</td>\n      <td>25.0</td>\n      <td>working_day</td>\n      <td>working_day</td>\n    </tr>\n    <tr>\n      <th>5</th>\n      <td>2020-04-22</td>\n      <td>0.0</td>\n      <td>28.0</td>\n      <td>working_day</td>\n      <td>working_day</td>\n    </tr>\n    <tr>\n      <th>6</th>\n      <td>2020-04-23</td>\n      <td>10.0</td>\n      <td>33.0</td>\n      <td>working_day</td>\n      <td>working_day</td>\n    </tr>\n    <tr>\n      <th>7</th>\n      <td>2020-04-24</td>\n      <td>2.0</td>\n      <td>14.0</td>\n      <td>working_day</td>\n      <td>working_day</td>\n    </tr>\n    <tr>\n      <th>8</th>\n      <td>2020-04-25</td>\n      <td>30.0</td>\n      <td>74.0</td>\n      <td>weekend</td>\n      <td>working_day</td>\n    </tr>\n    <tr>\n      <th>9</th>\n      <td>2020-04-26</td>\n      <td>28.0</td>\n      <td>233.0</td>\n      <td>weekend</td>\n      <td>working_day</td>\n    </tr>\n    <tr>\n      <th>10</th>\n      <td>2020-04-27</td>\n      <td>4.0</td>\n      <td>2.0</td>\n      <td>working_day</td>\n      <td>working_day</td>\n    </tr>\n    <tr>\n      <th>11</th>\n      <td>2020-04-28</td>\n      <td>4.0</td>\n      <td>1.0</td>\n      <td>working_day</td>\n      <td>working_day</td>\n    </tr>\n    <tr>\n      <th>12</th>\n      <td>2020-04-29</td>\n      <td>0.0</td>\n      <td>17.0</td>\n      <td>working_day</td>\n      <td>working_day</td>\n    </tr>\n    <tr>\n      <th>13</th>\n      <td>2020-04-30</td>\n      <td>13.0</td>\n      <td>40.0</td>\n      <td>working_day</td>\n      <td>working_day</td>\n    </tr>\n    <tr>\n      <th>14</th>\n      <td>2020-05-01</td>\n      <td>8.0</td>\n      <td>52.0</td>\n      <td>working_day</td>\n      <td>working_day</td>\n    </tr>\n    <tr>\n      <th>15</th>\n      <td>2020-05-02</td>\n      <td>91.0</td>\n      <td>151.0</td>\n      <td>weekend</td>\n      <td>working_day</td>\n    </tr>\n    <tr>\n      <th>16</th>\n      <td>2020-05-03</td>\n      <td>47.0</td>\n      <td>133.0</td>\n      <td>weekend</td>\n      <td>working_day</td>\n    </tr>\n    <tr>\n      <th>17</th>\n      <td>2020-05-04</td>\n      <td>11.0</td>\n      <td>26.0</td>\n      <td>working_day</td>\n      <td>working_day</td>\n    </tr>\n    <tr>\n      <th>18</th>\n      <td>2020-05-05</td>\n      <td>81.0</td>\n      <td>58.0</td>\n      <td>working_day</td>\n      <td>working_day</td>\n    </tr>\n    <tr>\n      <th>19</th>\n      <td>2020-05-06</td>\n      <td>2.0</td>\n      <td>0.0</td>\n      <td>working_day</td>\n      <td>weekend</td>\n    </tr>\n    <tr>\n      <th>20</th>\n      <td>2020-05-07</td>\n      <td>14.0</td>\n      <td>38.0</td>\n      <td>working_day</td>\n      <td>working_day</td>\n    </tr>\n    <tr>\n      <th>21</th>\n      <td>2020-05-08</td>\n      <td>3.0</td>\n      <td>84.0</td>\n      <td>working_day</td>\n      <td>working_day</td>\n    </tr>\n    <tr>\n      <th>22</th>\n      <td>2020-05-09</td>\n      <td>0.0</td>\n      <td>86.0</td>\n      <td>weekend</td>\n      <td>working_day</td>\n    </tr>\n    <tr>\n      <th>23</th>\n      <td>2020-05-10</td>\n      <td>10.0</td>\n      <td>133.0</td>\n      <td>weekend</td>\n      <td>working_day</td>\n    </tr>\n    <tr>\n      <th>24</th>\n      <td>2020-05-11</td>\n      <td>3.0</td>\n      <td>183.0</td>\n      <td>working_day</td>\n      <td>working_day</td>\n    </tr>\n    <tr>\n      <th>25</th>\n      <td>2020-05-12</td>\n      <td>56.0</td>\n      <td>267.0</td>\n      <td>working_day</td>\n      <td>working_day</td>\n    </tr>\n    <tr>\n      <th>26</th>\n      <td>2020-05-13</td>\n      <td>6.0</td>\n      <td>205.0</td>\n      <td>working_day</td>\n      <td>working_day</td>\n    </tr>\n    <tr>\n      <th>27</th>\n      <td>2020-05-14</td>\n      <td>66.0</td>\n      <td>509.0</td>\n      <td>working_day</td>\n      <td>working_day</td>\n    </tr>\n    <tr>\n      <th>28</th>\n      <td>2020-05-15</td>\n      <td>10.0</td>\n      <td>0.0</td>\n      <td>working_day</td>\n      <td>weekend</td>\n    </tr>\n    <tr>\n      <th>29</th>\n      <td>2020-05-16</td>\n      <td>0.0</td>\n      <td>4.0</td>\n      <td>weekend</td>\n      <td>working_day</td>\n    </tr>\n    <tr>\n      <th>30</th>\n      <td>2020-05-17</td>\n      <td>2.0</td>\n      <td>46.0</td>\n      <td>weekend</td>\n      <td>working_day</td>\n    </tr>\n    <tr>\n      <th>31</th>\n      <td>2020-05-18</td>\n      <td>0.0</td>\n      <td>3.0</td>\n      <td>working_day</td>\n      <td>working_day</td>\n    </tr>\n    <tr>\n      <th>32</th>\n      <td>2020-05-19</td>\n      <td>20.0</td>\n      <td>14.0</td>\n      <td>working_day</td>\n      <td>working_day</td>\n    </tr>\n    <tr>\n      <th>33</th>\n      <td>2020-05-20</td>\n      <td>7.0</td>\n      <td>21.0</td>\n      <td>working_day</td>\n      <td>working_day</td>\n    </tr>\n    <tr>\n      <th>34</th>\n      <td>2020-05-21</td>\n      <td>1.0</td>\n      <td>48.0</td>\n      <td>working_day</td>\n      <td>working_day</td>\n    </tr>\n  </tbody>\n</table>\n</div>"
     },
     "execution_count": 197,
     "metadata": {},
     "output_type": "execute_result"
    }
   ],
   "source": [
    "df['predict'] = predict_for_every_day\n",
    "df\n"
   ]
  },
  {
   "cell_type": "code",
   "execution_count": 198,
   "metadata": {},
   "outputs": [],
   "source": [
    "df.to_csv('../data/am_pm.csv')\n"
   ]
  },
  {
   "cell_type": "code",
   "execution_count": 203,
   "metadata": {},
   "outputs": [
    {
     "data": {
      "text/plain": "<Figure size 1080x576 with 1 Axes>",
      "image/png": "[encoded data removed]"
     },
     "metadata": {
      "needs_background": "light"
     },
     "output_type": "display_data"
    }
   ],
   "source": [
    "fig, ax = plt.subplots(figsize=(15, 8))\n",
    "scatter = ax.scatter(x=df['am'],\n",
    "                     y=df['pm'],\n",
    "                     cmap='spring',\n",
    "                     c=[0 if i == 'working_day' else 1 for i in df['predict']])\n",
    "handles, labels = scatter.legend_elements(prop='colors')\n",
    "ax.legend(handles, ['working_day', 'weekend'])\n",
    "ax.set_title('Commits predict')\n",
    "ax.set_xlabel('am')\n",
    "ax.set_ylabel('pm')\n",
    "plt.show()\n"
   ]
  },
  {
   "cell_type": "markdown",
   "metadata": {},
   "source": [
    "## 4. Evaluation"
   ]
  },
  {
   "cell_type": "markdown",
   "metadata": {},
   "source": [
    "- Calculate `accuracy` for your predictions.\n",
    "\n",
    "\n",
    "- Calculate `accuracy` for the naive case when each of your prediction is the value of your most popular class of the day.\n",
    "\n",
    "\n",
    "- Comparing the accuracies do you think that the classifier made good predictions? Put your answer in the markdown cell in the end of the secion: \"yes, it is good\"; \"no, it is not good\"."
   ]
  },
  {
   "cell_type": "code",
   "execution_count": 200,
   "metadata": {},
   "outputs": [
    {
     "data": {
      "text/plain": "0.6285714285714286"
     },
     "execution_count": 200,
     "metadata": {},
     "output_type": "execute_result"
    }
   ],
   "source": [
    "accuracy_score(y, predict_for_every_day)\n"
   ]
  },
  {
   "cell_type": "code",
   "execution_count": 201,
   "metadata": {},
   "outputs": [
    {
     "data": {
      "text/plain": "0.7142857142857143"
     },
     "execution_count": 201,
     "metadata": {},
     "output_type": "execute_result"
    }
   ],
   "source": [
    "accuracy_score(y, [df['target'].max()] * len(y))\n"
   ]
  },
  {
   "cell_type": "markdown",
   "metadata": {},
   "source": [
    "no, it is not good"
   ]
  }
 ],
 "metadata": {
  "kernelspec": {
   "display_name": "Python 3",
   "language": "python",
   "name": "python3"
  },
  "language_info": {
   "codemirror_mode": {
    "name": "ipython",
    "version": 3
   },
   "file_extension": ".py",
   "mimetype": "text/x-python",
   "name": "python",
   "nbconvert_exporter": "python",
   "pygments_lexer": "ipython3",
   "version": "3.7.7"
  }
 },
 "nbformat": 4,
 "nbformat_minor": 4
}