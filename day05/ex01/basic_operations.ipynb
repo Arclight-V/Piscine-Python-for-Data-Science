{
 "cells": [
  {
   "cell_type": "markdown",
   "source": [
    "Import library"
   ],
   "metadata": {
    "collapsed": false,
    "pycharm": {
     "name": "#%% md\n"
    }
   }
  },
  {
   "cell_type": "code",
   "execution_count": 2,
   "metadata": {
    "collapsed": true
   },
   "outputs": [],
   "source": [
    "import pandas as pd"
   ]
  },
  {
   "cell_type": "markdown",
   "source": [
    "### Create a dataframe views with two columns: datetime and user by reading feed- views.log"
   ],
   "metadata": {
    "collapsed": false,
    "pycharm": {
     "name": "#%% md\n"
    }
   }
  },
  {
   "cell_type": "code",
   "execution_count": 6,
   "outputs": [
    {
     "data": {
      "text/plain": "                        datetime       user\n0     2020-04-17 12:01:08.463179      artem\n1     2020-04-17 12:01:23.743946      artem\n2     2020-04-17 12:27:30.646665      artem\n3     2020-04-17 12:35:44.884757      artem\n4     2020-04-17 12:35:52.735016      artem\n...                          ...        ...\n1071  2020-05-21 18:45:20.441142  valentina\n1072  2020-05-21 23:03:06.457819      maxim\n1073  2020-05-21 23:23:49.995349      pavel\n1074  2020-05-21 23:49:22.386789      artem\n1075  2020-05-22 10:36:14.662600      artem\n\n[1076 rows x 2 columns]",
      "text/html": "<div>\n<style scoped>\n    .dataframe tbody tr th:only-of-type {\n        vertical-align: middle;\n    }\n\n    .dataframe tbody tr th {\n        vertical-align: top;\n    }\n\n    .dataframe thead th {\n        text-align: right;\n    }\n</style>\n<table border=\"1\" class=\"dataframe\">\n  <thead>\n    <tr style=\"text-align: right;\">\n      <th></th>\n      <th>datetime</th>\n      <th>user</th>\n    </tr>\n  </thead>\n  <tbody>\n    <tr>\n      <th>0</th>\n      <td>2020-04-17 12:01:08.463179</td>\n      <td>artem</td>\n    </tr>\n    <tr>\n      <th>1</th>\n      <td>2020-04-17 12:01:23.743946</td>\n      <td>artem</td>\n    </tr>\n    <tr>\n      <th>2</th>\n      <td>2020-04-17 12:27:30.646665</td>\n      <td>artem</td>\n    </tr>\n    <tr>\n      <th>3</th>\n      <td>2020-04-17 12:35:44.884757</td>\n      <td>artem</td>\n    </tr>\n    <tr>\n      <th>4</th>\n      <td>2020-04-17 12:35:52.735016</td>\n      <td>artem</td>\n    </tr>\n    <tr>\n      <th>...</th>\n      <td>...</td>\n      <td>...</td>\n    </tr>\n    <tr>\n      <th>1071</th>\n      <td>2020-05-21 18:45:20.441142</td>\n      <td>valentina</td>\n    </tr>\n    <tr>\n      <th>1072</th>\n      <td>2020-05-21 23:03:06.457819</td>\n      <td>maxim</td>\n    </tr>\n    <tr>\n      <th>1073</th>\n      <td>2020-05-21 23:23:49.995349</td>\n      <td>pavel</td>\n    </tr>\n    <tr>\n      <th>1074</th>\n      <td>2020-05-21 23:49:22.386789</td>\n      <td>artem</td>\n    </tr>\n    <tr>\n      <th>1075</th>\n      <td>2020-05-22 10:36:14.662600</td>\n      <td>artem</td>\n    </tr>\n  </tbody>\n</table>\n<p>1076 rows × 2 columns</p>\n</div>"
     },
     "execution_count": 6,
     "metadata": {},
     "output_type": "execute_result"
    }
   ],
   "source": [
    "df = pd.DataFrame(pd.read_csv('../data/feed-views.log',\n",
    "                              delimiter='\\t',\n",
    "                              names=['datetime', 'user']))"
   ],
   "metadata": {
    "collapsed": false,
    "pycharm": {
     "name": "#%%\n"
    }
   }
  },
  {
   "cell_type": "markdown",
   "source": [
    "Convert the datetime to the datetime64[ns] Dtype"
   ],
   "metadata": {
    "collapsed": false,
    "pycharm": {
     "name": "#%% md\n"
    }
   }
  },
  {
   "cell_type": "code",
   "execution_count": 11,
   "outputs": [
    {
     "data": {
      "text/plain": "0      2020-04-17 12:01:08.463179\n1      2020-04-17 12:01:23.743946\n2      2020-04-17 12:27:30.646665\n3      2020-04-17 12:35:44.884757\n4      2020-04-17 12:35:52.735016\n                  ...            \n1071   2020-05-21 18:45:20.441142\n1072   2020-05-21 23:03:06.457819\n1073   2020-05-21 23:23:49.995349\n1074   2020-05-21 23:49:22.386789\n1075   2020-05-22 10:36:14.662600\nName: datetime, Length: 1076, dtype: datetime64[ns]"
     },
     "execution_count": 11,
     "metadata": {},
     "output_type": "execute_result"
    }
   ],
   "source": [
    "df['datetime'] = pd.to_datetime(df['datetime'])"
   ],
   "metadata": {
    "collapsed": false,
    "pycharm": {
     "name": "#%%\n"
    }
   }
  },
  {
   "cell_type": "markdown",
   "source": [
    "extract the year, month, day, hour, minute, and second from the values of that\n",
    "column to the new columns"
   ],
   "metadata": {
    "collapsed": false,
    "pycharm": {
     "name": "#%% md\n"
    }
   }
  },
  {
   "cell_type": "code",
   "execution_count": 17,
   "outputs": [
    {
     "data": {
      "text/plain": "                       datetime       user  year  month  day  hour  minute  \\\n0    2020-04-17 12:01:08.463179      artem  2020      4   17    12       1   \n1    2020-04-17 12:01:23.743946      artem  2020      4   17    12       1   \n2    2020-04-17 12:27:30.646665      artem  2020      4   17    12      27   \n3    2020-04-17 12:35:44.884757      artem  2020      4   17    12      35   \n4    2020-04-17 12:35:52.735016      artem  2020      4   17    12      35   \n...                         ...        ...   ...    ...  ...   ...     ...   \n1071 2020-05-21 18:45:20.441142  valentina  2020      5   21    18      45   \n1072 2020-05-21 23:03:06.457819      maxim  2020      5   21    23       3   \n1073 2020-05-21 23:23:49.995349      pavel  2020      5   21    23      23   \n1074 2020-05-21 23:49:22.386789      artem  2020      5   21    23      49   \n1075 2020-05-22 10:36:14.662600      artem  2020      5   22    10      36   \n\n      second  \n0          8  \n1         23  \n2         30  \n3         44  \n4         52  \n...      ...  \n1071      20  \n1072       6  \n1073      49  \n1074      22  \n1075      14  \n\n[1076 rows x 8 columns]",
      "text/html": "<div>\n<style scoped>\n    .dataframe tbody tr th:only-of-type {\n        vertical-align: middle;\n    }\n\n    .dataframe tbody tr th {\n        vertical-align: top;\n    }\n\n    .dataframe thead th {\n        text-align: right;\n    }\n</style>\n<table border=\"1\" class=\"dataframe\">\n  <thead>\n    <tr style=\"text-align: right;\">\n      <th></th>\n      <th>datetime</th>\n      <th>user</th>\n      <th>year</th>\n      <th>month</th>\n      <th>day</th>\n      <th>hour</th>\n      <th>minute</th>\n      <th>second</th>\n    </tr>\n  </thead>\n  <tbody>\n    <tr>\n      <th>0</th>\n      <td>2020-04-17 12:01:08.463179</td>\n      <td>artem</td>\n      <td>2020</td>\n      <td>4</td>\n      <td>17</td>\n      <td>12</td>\n      <td>1</td>\n      <td>8</td>\n    </tr>\n    <tr>\n      <th>1</th>\n      <td>2020-04-17 12:01:23.743946</td>\n      <td>artem</td>\n      <td>2020</td>\n      <td>4</td>\n      <td>17</td>\n      <td>12</td>\n      <td>1</td>\n      <td>23</td>\n    </tr>\n    <tr>\n      <th>2</th>\n      <td>2020-04-17 12:27:30.646665</td>\n      <td>artem</td>\n      <td>2020</td>\n      <td>4</td>\n      <td>17</td>\n      <td>12</td>\n      <td>27</td>\n      <td>30</td>\n    </tr>\n    <tr>\n      <th>3</th>\n      <td>2020-04-17 12:35:44.884757</td>\n      <td>artem</td>\n      <td>2020</td>\n      <td>4</td>\n      <td>17</td>\n      <td>12</td>\n      <td>35</td>\n      <td>44</td>\n    </tr>\n    <tr>\n      <th>4</th>\n      <td>2020-04-17 12:35:52.735016</td>\n      <td>artem</td>\n      <td>2020</td>\n      <td>4</td>\n      <td>17</td>\n      <td>12</td>\n      <td>35</td>\n      <td>52</td>\n    </tr>\n    <tr>\n      <th>...</th>\n      <td>...</td>\n      <td>...</td>\n      <td>...</td>\n      <td>...</td>\n      <td>...</td>\n      <td>...</td>\n      <td>...</td>\n      <td>...</td>\n    </tr>\n    <tr>\n      <th>1071</th>\n      <td>2020-05-21 18:45:20.441142</td>\n      <td>valentina</td>\n      <td>2020</td>\n      <td>5</td>\n      <td>21</td>\n      <td>18</td>\n      <td>45</td>\n      <td>20</td>\n    </tr>\n    <tr>\n      <th>1072</th>\n      <td>2020-05-21 23:03:06.457819</td>\n      <td>maxim</td>\n      <td>2020</td>\n      <td>5</td>\n      <td>21</td>\n      <td>23</td>\n      <td>3</td>\n      <td>6</td>\n    </tr>\n    <tr>\n      <th>1073</th>\n      <td>2020-05-21 23:23:49.995349</td>\n      <td>pavel</td>\n      <td>2020</td>\n      <td>5</td>\n      <td>21</td>\n      <td>23</td>\n      <td>23</td>\n      <td>49</td>\n    </tr>\n    <tr>\n      <th>1074</th>\n      <td>2020-05-21 23:49:22.386789</td>\n      <td>artem</td>\n      <td>2020</td>\n      <td>5</td>\n      <td>21</td>\n      <td>23</td>\n      <td>49</td>\n      <td>22</td>\n    </tr>\n    <tr>\n      <th>1075</th>\n      <td>2020-05-22 10:36:14.662600</td>\n      <td>artem</td>\n      <td>2020</td>\n      <td>5</td>\n      <td>22</td>\n      <td>10</td>\n      <td>36</td>\n      <td>14</td>\n    </tr>\n  </tbody>\n</table>\n<p>1076 rows × 8 columns</p>\n</div>"
     },
     "execution_count": 17,
     "metadata": {},
     "output_type": "execute_result"
    }
   ],
   "source": [
    "dt64 = pd.DatetimeIndex(df['datetime'])\n",
    "df['year'] = dt64.year\n",
    "df['month'] = dt64.month\n",
    "df['day'] = dt64.day\n",
    "df['hour'] =dt64.hour\n",
    "df['minute'] = dt64.minute\n",
    "df['second'] = dt64.second"
   ],
   "metadata": {
    "collapsed": false,
    "pycharm": {
     "name": "#%%\n"
    }
   }
  },
  {
   "cell_type": "markdown",
   "source": [
    "### create the new column daytime"
   ],
   "metadata": {
    "collapsed": false,
    "pycharm": {
     "name": "#%% md\n"
    }
   }
  },
  {
   "cell_type": "code",
   "execution_count": 26,
   "outputs": [
    {
     "data": {
      "text/plain": "                            datetime  year  month  day  hour  minute  second  \\\nuser                                                                           \nartem     2020-04-17 12:01:08.463179  2020      4   17    12       1       8   \nartem     2020-04-17 12:01:23.743946  2020      4   17    12       1      23   \nartem     2020-04-17 12:27:30.646665  2020      4   17    12      27      30   \nartem     2020-04-17 12:35:44.884757  2020      4   17    12      35      44   \nartem     2020-04-17 12:35:52.735016  2020      4   17    12      35      52   \n...                              ...   ...    ...  ...   ...     ...     ...   \nvalentina 2020-05-21 18:45:20.441142  2020      5   21    18      45      20   \nmaxim     2020-05-21 23:03:06.457819  2020      5   21    23       3       6   \npavel     2020-05-21 23:23:49.995349  2020      5   21    23      23      49   \nartem     2020-05-21 23:49:22.386789  2020      5   21    23      49      22   \nartem     2020-05-22 10:36:14.662600  2020      5   22    10      36      14   \n\n                 daytime  \nuser                      \nartem          afternoon  \nartem          afternoon  \nartem          afternoon  \nartem          afternoon  \nartem          afternoon  \n...                  ...  \nvalentina  early evening  \nmaxim            evening  \npavel            evening  \nartem            evening  \nartem            morning  \n\n[1076 rows x 8 columns]",
      "text/html": "<div>\n<style scoped>\n    .dataframe tbody tr th:only-of-type {\n        vertical-align: middle;\n    }\n\n    .dataframe tbody tr th {\n        vertical-align: top;\n    }\n\n    .dataframe thead th {\n        text-align: right;\n    }\n</style>\n<table border=\"1\" class=\"dataframe\">\n  <thead>\n    <tr style=\"text-align: right;\">\n      <th></th>\n      <th>datetime</th>\n      <th>year</th>\n      <th>month</th>\n      <th>day</th>\n      <th>hour</th>\n      <th>minute</th>\n      <th>second</th>\n      <th>daytime</th>\n    </tr>\n    <tr>\n      <th>user</th>\n      <th></th>\n      <th></th>\n      <th></th>\n      <th></th>\n      <th></th>\n      <th></th>\n      <th></th>\n      <th></th>\n    </tr>\n  </thead>\n  <tbody>\n    <tr>\n      <th>artem</th>\n      <td>2020-04-17 12:01:08.463179</td>\n      <td>2020</td>\n      <td>4</td>\n      <td>17</td>\n      <td>12</td>\n      <td>1</td>\n      <td>8</td>\n      <td>afternoon</td>\n    </tr>\n    <tr>\n      <th>artem</th>\n      <td>2020-04-17 12:01:23.743946</td>\n      <td>2020</td>\n      <td>4</td>\n      <td>17</td>\n      <td>12</td>\n      <td>1</td>\n      <td>23</td>\n      <td>afternoon</td>\n    </tr>\n    <tr>\n      <th>artem</th>\n      <td>2020-04-17 12:27:30.646665</td>\n      <td>2020</td>\n      <td>4</td>\n      <td>17</td>\n      <td>12</td>\n      <td>27</td>\n      <td>30</td>\n      <td>afternoon</td>\n    </tr>\n    <tr>\n      <th>artem</th>\n      <td>2020-04-17 12:35:44.884757</td>\n      <td>2020</td>\n      <td>4</td>\n      <td>17</td>\n      <td>12</td>\n      <td>35</td>\n      <td>44</td>\n      <td>afternoon</td>\n    </tr>\n    <tr>\n      <th>artem</th>\n      <td>2020-04-17 12:35:52.735016</td>\n      <td>2020</td>\n      <td>4</td>\n      <td>17</td>\n      <td>12</td>\n      <td>35</td>\n      <td>52</td>\n      <td>afternoon</td>\n    </tr>\n    <tr>\n      <th>...</th>\n      <td>...</td>\n      <td>...</td>\n      <td>...</td>\n      <td>...</td>\n      <td>...</td>\n      <td>...</td>\n      <td>...</td>\n      <td>...</td>\n    </tr>\n    <tr>\n      <th>valentina</th>\n      <td>2020-05-21 18:45:20.441142</td>\n      <td>2020</td>\n      <td>5</td>\n      <td>21</td>\n      <td>18</td>\n      <td>45</td>\n      <td>20</td>\n      <td>early evening</td>\n    </tr>\n    <tr>\n      <th>maxim</th>\n      <td>2020-05-21 23:03:06.457819</td>\n      <td>2020</td>\n      <td>5</td>\n      <td>21</td>\n      <td>23</td>\n      <td>3</td>\n      <td>6</td>\n      <td>evening</td>\n    </tr>\n    <tr>\n      <th>pavel</th>\n      <td>2020-05-21 23:23:49.995349</td>\n      <td>2020</td>\n      <td>5</td>\n      <td>21</td>\n      <td>23</td>\n      <td>23</td>\n      <td>49</td>\n      <td>evening</td>\n    </tr>\n    <tr>\n      <th>artem</th>\n      <td>2020-05-21 23:49:22.386789</td>\n      <td>2020</td>\n      <td>5</td>\n      <td>21</td>\n      <td>23</td>\n      <td>49</td>\n      <td>22</td>\n      <td>evening</td>\n    </tr>\n    <tr>\n      <th>artem</th>\n      <td>2020-05-22 10:36:14.662600</td>\n      <td>2020</td>\n      <td>5</td>\n      <td>22</td>\n      <td>10</td>\n      <td>36</td>\n      <td>14</td>\n      <td>morning</td>\n    </tr>\n  </tbody>\n</table>\n<p>1076 rows × 8 columns</p>\n</div>"
     },
     "execution_count": 26,
     "metadata": {},
     "output_type": "execute_result"
    }
   ],
   "source": [
    "intervals = [0, 4, 7, 11, 17, 19, 24]\n",
    "labels = ['night', 'early morning', 'morning',\n",
    "          'afternoon', 'early evening', 'evening']\n",
    "df['daytime'] = pd.cut(df['hour'], intervals, right=False, labels=labels)"
   ],
   "metadata": {
    "collapsed": false,
    "pycharm": {
     "name": "#%%\n"
    }
   }
  },
  {
   "cell_type": "markdown",
   "source": [
    "### calculate the number of elements in your dataframe"
   ],
   "metadata": {
    "collapsed": false,
    "pycharm": {
     "name": "#%% md\n"
    }
   }
  },
  {
   "cell_type": "markdown",
   "source": [
    "◦ use the method count()\n",
    "\n"
   ],
   "metadata": {
    "collapsed": false,
    "pycharm": {
     "name": "#%% md\n"
    }
   }
  },
  {
   "cell_type": "code",
   "execution_count": 27,
   "outputs": [
    {
     "data": {
      "text/plain": "datetime    1076\nyear        1076\nmonth       1076\nday         1076\nhour        1076\nminute      1076\nsecond      1076\ndaytime     1076\ndtype: int64"
     },
     "execution_count": 27,
     "metadata": {},
     "output_type": "execute_result"
    }
   ],
   "source": [
    "df.count()"
   ],
   "metadata": {
    "collapsed": false,
    "pycharm": {
     "name": "#%%\n"
    }
   }
  },
  {
   "cell_type": "markdown",
   "source": [
    "◦ calculate the number of elements in each time of day category using the method value_counts()"
   ],
   "metadata": {
    "collapsed": false,
    "pycharm": {
     "name": "#%% md\n"
    }
   }
  },
  {
   "cell_type": "code",
   "execution_count": 31,
   "outputs": [
    {
     "data": {
      "text/plain": "evening          548\nafternoon        252\nnight            129\nearly evening    106\nmorning           36\nearly morning      5\nName: daytime, dtype: int64"
     },
     "execution_count": 31,
     "metadata": {},
     "output_type": "execute_result"
    }
   ],
   "source": [
    "df['daytime'].value_counts()"
   ],
   "metadata": {
    "collapsed": false,
    "pycharm": {
     "name": "#%%\n"
    }
   }
  },
  {
   "cell_type": "markdown",
   "source": [
    "### • sort values in your dataframe by hour, minute, and second in ascending order (simultaneously and not one by one)\n"
   ],
   "metadata": {
    "collapsed": false,
    "pycharm": {
     "name": "#%% md\n"
    }
   }
  },
  {
   "cell_type": "code",
   "execution_count": 33,
   "outputs": [
    {
     "data": {
      "text/plain": "                            datetime  year  month  day  hour  minute  second  \\\nuser                                                                           \nvalentina 2020-05-15 00:00:13.222265  2020      5   15     0       0      13   \nvalentina 2020-05-15 00:01:05.153738  2020      5   15     0       1       5   \npavel     2020-05-12 00:01:27.764025  2020      5   12     0       1      27   \npavel     2020-05-12 00:01:38.444917  2020      5   12     0       1      38   \npavel     2020-05-12 00:01:55.395042  2020      5   12     0       1      55   \n...                              ...   ...    ...  ...   ...     ...     ...   \nartem     2020-05-21 23:49:22.386789  2020      5   21    23      49      22   \nanatoliy  2020-05-09 23:53:55.599821  2020      5    9    23      53      55   \npavel     2020-05-09 23:54:54.260791  2020      5    9    23      54      54   \nvalentina 2020-05-14 23:58:56.754866  2020      5   14    23      58      56   \nalexander 2020-05-14 23:59:38.758438  2020      5   14    23      59      38   \n\n           daytime  \nuser                \nvalentina    night  \nvalentina    night  \npavel        night  \npavel        night  \npavel        night  \n...            ...  \nartem      evening  \nanatoliy   evening  \npavel      evening  \nvalentina  evening  \nalexander  evening  \n\n[1076 rows x 8 columns]",
      "text/html": "<div>\n<style scoped>\n    .dataframe tbody tr th:only-of-type {\n        vertical-align: middle;\n    }\n\n    .dataframe tbody tr th {\n        vertical-align: top;\n    }\n\n    .dataframe thead th {\n        text-align: right;\n    }\n</style>\n<table border=\"1\" class=\"dataframe\">\n  <thead>\n    <tr style=\"text-align: right;\">\n      <th></th>\n      <th>datetime</th>\n      <th>year</th>\n      <th>month</th>\n      <th>day</th>\n      <th>hour</th>\n      <th>minute</th>\n      <th>second</th>\n      <th>daytime</th>\n    </tr>\n    <tr>\n      <th>user</th>\n      <th></th>\n      <th></th>\n      <th></th>\n      <th></th>\n      <th></th>\n      <th></th>\n      <th></th>\n      <th></th>\n    </tr>\n  </thead>\n  <tbody>\n    <tr>\n      <th>valentina</th>\n      <td>2020-05-15 00:00:13.222265</td>\n      <td>2020</td>\n      <td>5</td>\n      <td>15</td>\n      <td>0</td>\n      <td>0</td>\n      <td>13</td>\n      <td>night</td>\n    </tr>\n    <tr>\n      <th>valentina</th>\n      <td>2020-05-15 00:01:05.153738</td>\n      <td>2020</td>\n      <td>5</td>\n      <td>15</td>\n      <td>0</td>\n      <td>1</td>\n      <td>5</td>\n      <td>night</td>\n    </tr>\n    <tr>\n      <th>pavel</th>\n      <td>2020-05-12 00:01:27.764025</td>\n      <td>2020</td>\n      <td>5</td>\n      <td>12</td>\n      <td>0</td>\n      <td>1</td>\n      <td>27</td>\n      <td>night</td>\n    </tr>\n    <tr>\n      <th>pavel</th>\n      <td>2020-05-12 00:01:38.444917</td>\n      <td>2020</td>\n      <td>5</td>\n      <td>12</td>\n      <td>0</td>\n      <td>1</td>\n      <td>38</td>\n      <td>night</td>\n    </tr>\n    <tr>\n      <th>pavel</th>\n      <td>2020-05-12 00:01:55.395042</td>\n      <td>2020</td>\n      <td>5</td>\n      <td>12</td>\n      <td>0</td>\n      <td>1</td>\n      <td>55</td>\n      <td>night</td>\n    </tr>\n    <tr>\n      <th>...</th>\n      <td>...</td>\n      <td>...</td>\n      <td>...</td>\n      <td>...</td>\n      <td>...</td>\n      <td>...</td>\n      <td>...</td>\n      <td>...</td>\n    </tr>\n    <tr>\n      <th>artem</th>\n      <td>2020-05-21 23:49:22.386789</td>\n      <td>2020</td>\n      <td>5</td>\n      <td>21</td>\n      <td>23</td>\n      <td>49</td>\n      <td>22</td>\n      <td>evening</td>\n    </tr>\n    <tr>\n      <th>anatoliy</th>\n      <td>2020-05-09 23:53:55.599821</td>\n      <td>2020</td>\n      <td>5</td>\n      <td>9</td>\n      <td>23</td>\n      <td>53</td>\n      <td>55</td>\n      <td>evening</td>\n    </tr>\n    <tr>\n      <th>pavel</th>\n      <td>2020-05-09 23:54:54.260791</td>\n      <td>2020</td>\n      <td>5</td>\n      <td>9</td>\n      <td>23</td>\n      <td>54</td>\n      <td>54</td>\n      <td>evening</td>\n    </tr>\n    <tr>\n      <th>valentina</th>\n      <td>2020-05-14 23:58:56.754866</td>\n      <td>2020</td>\n      <td>5</td>\n      <td>14</td>\n      <td>23</td>\n      <td>58</td>\n      <td>56</td>\n      <td>evening</td>\n    </tr>\n    <tr>\n      <th>alexander</th>\n      <td>2020-05-14 23:59:38.758438</td>\n      <td>2020</td>\n      <td>5</td>\n      <td>14</td>\n      <td>23</td>\n      <td>59</td>\n      <td>38</td>\n      <td>evening</td>\n    </tr>\n  </tbody>\n</table>\n<p>1076 rows × 8 columns</p>\n</div>"
     },
     "execution_count": 33,
     "metadata": {},
     "output_type": "execute_result"
    }
   ],
   "source": [
    "df.sort_values(by=['hour', 'minute', 'second'])"
   ],
   "metadata": {
    "collapsed": false,
    "pycharm": {
     "name": "#%%\n"
    }
   }
  },
  {
   "cell_type": "markdown",
   "source": [
    "### • calculate the minimum and maximum for the hours and the mode for the daytime categories"
   ],
   "metadata": {
    "collapsed": false,
    "pycharm": {
     "name": "#%% md\n"
    }
   }
  },
  {
   "cell_type": "markdown",
   "source": [
    "◦ calculate the maximum of hour for the rows where the time of day is night\n"
   ],
   "metadata": {
    "collapsed": false,
    "pycharm": {
     "name": "#%% md\n"
    }
   }
  },
  {
   "cell_type": "code",
   "execution_count": 35,
   "outputs": [
    {
     "name": "stdout",
     "output_type": "stream",
     "text": [
      "3\n"
     ]
    }
   ],
   "source": [
    "max_hours_night = df[df['daytime'] == 'night']['hour'].max()\n",
    "print(max_hours_night)\n"
   ],
   "metadata": {
    "collapsed": false,
    "pycharm": {
     "name": "#%%\n"
    }
   }
  },
  {
   "cell_type": "markdown",
   "source": [
    "◦ calculate the minimum of hour for the rows where the time of day is morning"
   ],
   "metadata": {
    "collapsed": false,
    "pycharm": {
     "name": "#%% md\n"
    }
   }
  },
  {
   "cell_type": "code",
   "execution_count": 41,
   "outputs": [
    {
     "name": "stdout",
     "output_type": "stream",
     "text": [
      "8\n"
     ]
    }
   ],
   "source": [
    "min_hours_morning = df[df['daytime'] == 'morning']['hour'].min()\n",
    "print(min_hours_morning)\n"
   ],
   "metadata": {
    "collapsed": false,
    "pycharm": {
     "name": "#%%\n"
    }
   }
  },
  {
   "cell_type": "markdown",
   "source": [
    "\n",
    "◦ In addition to this, find out who visited the page at those hours (make one example from that"
   ],
   "metadata": {
    "collapsed": false,
    "pycharm": {
     "name": "#%% md\n"
    }
   }
  },
  {
   "cell_type": "code",
   "execution_count": 45,
   "outputs": [
    {
     "data": {
      "text/plain": "'konstantin'"
     },
     "execution_count": 45,
     "metadata": {},
     "output_type": "execute_result"
    }
   ],
   "source": [
    "df[df['hour'] == max_hours_night].index[0]\n"
   ],
   "metadata": {
    "collapsed": false,
    "pycharm": {
     "name": "#%%\n"
    }
   }
  },
  {
   "cell_type": "markdown",
   "source": [
    "◦ calculate the mode for the hour and daytime"
   ],
   "metadata": {
    "collapsed": false,
    "pycharm": {
     "name": "#%% md\n"
    }
   }
  },
  {
   "cell_type": "code",
   "execution_count": 49,
   "outputs": [
    {
     "data": {
      "text/plain": "0    22\ndtype: int64"
     },
     "execution_count": 49,
     "metadata": {},
     "output_type": "execute_result"
    }
   ],
   "source": [
    "df['hour'].mode()"
   ],
   "metadata": {
    "collapsed": false,
    "pycharm": {
     "name": "#%%\n"
    }
   }
  },
  {
   "cell_type": "code",
   "execution_count": 48,
   "outputs": [
    {
     "data": {
      "text/plain": "0    evening\nName: daytime, dtype: category\nCategories (6, object): ['night' < 'early morning' < 'morning' < 'afternoon' < 'early evening' < 'evening']"
     },
     "execution_count": 48,
     "metadata": {},
     "output_type": "execute_result"
    }
   ],
   "source": [
    "df['daytime'].mode()"
   ],
   "metadata": {
    "collapsed": false,
    "pycharm": {
     "name": "#%%\n"
    }
   }
  },
  {
   "cell_type": "markdown",
   "source": [
    "### • show the 3 earliest hours in the morning and the corresponding usernames and the 3 latest hours and the usernames using nsmallest() and nlargest()"
   ],
   "metadata": {
    "collapsed": false,
    "pycharm": {
     "name": "#%% md\n"
    }
   }
  },
  {
   "cell_type": "code",
   "execution_count": 51,
   "outputs": [
    {
     "data": {
      "text/plain": "                            datetime  year  month  day  hour  minute  second  \\\nuser                                                                           \nalexander 2020-05-15 08:16:03.918402  2020      5   15     8      16       3   \nalexander 2020-05-15 08:35:01.471463  2020      5   15     8      35       1   \nartem     2020-04-24 09:42:47.598208  2020      4   24     9      42      47   \n\n           daytime  \nuser                \nalexander  morning  \nalexander  morning  \nartem      morning  ",
      "text/html": "<div>\n<style scoped>\n    .dataframe tbody tr th:only-of-type {\n        vertical-align: middle;\n    }\n\n    .dataframe tbody tr th {\n        vertical-align: top;\n    }\n\n    .dataframe thead th {\n        text-align: right;\n    }\n</style>\n<table border=\"1\" class=\"dataframe\">\n  <thead>\n    <tr style=\"text-align: right;\">\n      <th></th>\n      <th>datetime</th>\n      <th>year</th>\n      <th>month</th>\n      <th>day</th>\n      <th>hour</th>\n      <th>minute</th>\n      <th>second</th>\n      <th>daytime</th>\n    </tr>\n    <tr>\n      <th>user</th>\n      <th></th>\n      <th></th>\n      <th></th>\n      <th></th>\n      <th></th>\n      <th></th>\n      <th></th>\n      <th></th>\n    </tr>\n  </thead>\n  <tbody>\n    <tr>\n      <th>alexander</th>\n      <td>2020-05-15 08:16:03.918402</td>\n      <td>2020</td>\n      <td>5</td>\n      <td>15</td>\n      <td>8</td>\n      <td>16</td>\n      <td>3</td>\n      <td>morning</td>\n    </tr>\n    <tr>\n      <th>alexander</th>\n      <td>2020-05-15 08:35:01.471463</td>\n      <td>2020</td>\n      <td>5</td>\n      <td>15</td>\n      <td>8</td>\n      <td>35</td>\n      <td>1</td>\n      <td>morning</td>\n    </tr>\n    <tr>\n      <th>artem</th>\n      <td>2020-04-24 09:42:47.598208</td>\n      <td>2020</td>\n      <td>4</td>\n      <td>24</td>\n      <td>9</td>\n      <td>42</td>\n      <td>47</td>\n      <td>morning</td>\n    </tr>\n  </tbody>\n</table>\n</div>"
     },
     "execution_count": 51,
     "metadata": {},
     "output_type": "execute_result"
    }
   ],
   "source": [
    "morning = df[df['daytime'] == 'morning']\n",
    "morning.nsmallest(3, 'hour')"
   ],
   "metadata": {
    "collapsed": false,
    "pycharm": {
     "name": "#%%\n"
    }
   }
  },
  {
   "cell_type": "code",
   "execution_count": 52,
   "outputs": [
    {
     "data": {
      "text/plain": "                             datetime  year  month  day  hour  minute  second  \\\nuser                                                                            \nkonstantin 2020-04-18 10:53:52.623447  2020      4   18    10      53      52   \nmaxim      2020-04-18 10:56:55.833899  2020      4   18    10      56      55   \nkonstantin 2020-04-18 10:57:37.331258  2020      4   18    10      57      37   \n\n            daytime  \nuser                 \nkonstantin  morning  \nmaxim       morning  \nkonstantin  morning  ",
      "text/html": "<div>\n<style scoped>\n    .dataframe tbody tr th:only-of-type {\n        vertical-align: middle;\n    }\n\n    .dataframe tbody tr th {\n        vertical-align: top;\n    }\n\n    .dataframe thead th {\n        text-align: right;\n    }\n</style>\n<table border=\"1\" class=\"dataframe\">\n  <thead>\n    <tr style=\"text-align: right;\">\n      <th></th>\n      <th>datetime</th>\n      <th>year</th>\n      <th>month</th>\n      <th>day</th>\n      <th>hour</th>\n      <th>minute</th>\n      <th>second</th>\n      <th>daytime</th>\n    </tr>\n    <tr>\n      <th>user</th>\n      <th></th>\n      <th></th>\n      <th></th>\n      <th></th>\n      <th></th>\n      <th></th>\n      <th></th>\n      <th></th>\n    </tr>\n  </thead>\n  <tbody>\n    <tr>\n      <th>konstantin</th>\n      <td>2020-04-18 10:53:52.623447</td>\n      <td>2020</td>\n      <td>4</td>\n      <td>18</td>\n      <td>10</td>\n      <td>53</td>\n      <td>52</td>\n      <td>morning</td>\n    </tr>\n    <tr>\n      <th>maxim</th>\n      <td>2020-04-18 10:56:55.833899</td>\n      <td>2020</td>\n      <td>4</td>\n      <td>18</td>\n      <td>10</td>\n      <td>56</td>\n      <td>55</td>\n      <td>morning</td>\n    </tr>\n    <tr>\n      <th>konstantin</th>\n      <td>2020-04-18 10:57:37.331258</td>\n      <td>2020</td>\n      <td>4</td>\n      <td>18</td>\n      <td>10</td>\n      <td>57</td>\n      <td>37</td>\n      <td>morning</td>\n    </tr>\n  </tbody>\n</table>\n</div>"
     },
     "execution_count": 52,
     "metadata": {},
     "output_type": "execute_result"
    }
   ],
   "source": [
    "morning.nlargest(3, 'hour')"
   ],
   "metadata": {
    "collapsed": false,
    "pycharm": {
     "name": "#%%\n"
    }
   }
  },
  {
   "cell_type": "markdown",
   "source": [
    "### • use the method describe() to get the basic statistics for the columns\n",
    "[IRQ](https://www.geeksforgeeks.org/how-to-use-pandas-filter-with-iqr/)"
   ],
   "metadata": {
    "collapsed": false,
    "pycharm": {
     "name": "#%% md\n"
    }
   }
  },
  {
   "cell_type": "code",
   "execution_count": 55,
   "outputs": [],
   "source": [
    "descriptive_statistics =df['hour'].describe()"
   ],
   "metadata": {
    "collapsed": false,
    "pycharm": {
     "name": "#%%\n"
    }
   }
  },
  {
   "cell_type": "code",
   "execution_count": 56,
   "outputs": [
    {
     "name": "stdout",
     "output_type": "stream",
     "text": [
      "9.0\n"
     ]
    }
   ],
   "source": [
    "IRQ = descriptive_statistics['75%'] - descriptive_statistics['25%']\n",
    "print(IRQ)"
   ],
   "metadata": {
    "collapsed": false,
    "pycharm": {
     "name": "#%%\n"
    }
   }
  }
 ],
 "metadata": {
  "kernelspec": {
   "display_name": "Python 3",
   "language": "python",
   "name": "python3"
  },
  "language_info": {
   "codemirror_mode": {
    "name": "ipython",
    "version": 2
   },
   "file_extension": ".py",
   "mimetype": "text/x-python",
   "name": "python",
   "nbconvert_exporter": "python",
   "pygments_lexer": "ipython2",
   "version": "2.7.6"
  }
 },
 "nbformat": 4,
 "nbformat_minor": 0
}