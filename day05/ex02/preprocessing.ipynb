{
 "cells": [
  {
   "cell_type": "code",
   "execution_count": 3,
   "metadata": {
    "collapsed": true
   },
   "outputs": [],
   "source": [
    "import pandas as pd"
   ]
  },
  {
   "cell_type": "markdown",
   "source": [
    "## • download and read the CSV file and make ID the index column"
   ],
   "metadata": {
    "collapsed": false,
    "pycharm": {
     "name": "#%% md\n"
    }
   }
  },
  {
   "cell_type": "code",
   "execution_count": 27,
   "outputs": [],
   "source": [
    "df = pd.DataFrame(pd.read_csv('../data/auto.csv',\n",
    "                              delimiter=','))\n",
    "\n",
    "df.set_index('ID', inplace=True)"
   ],
   "metadata": {
    "collapsed": false,
    "pycharm": {
     "name": "#%%\n"
    }
   }
  },
  {
   "cell_type": "markdown",
   "source": [
    "## • count the number of observations using the method count()"
   ],
   "metadata": {
    "collapsed": false,
    "pycharm": {
     "name": "#%% md\n"
    }
   }
  },
  {
   "cell_type": "code",
   "execution_count": 28,
   "outputs": [
    {
     "data": {
      "text/plain": "CarNumber       931\nMake_n_model    931\nRefund          914\nFines           869\nHistory          82\ndtype: int64"
     },
     "execution_count": 28,
     "metadata": {},
     "output_type": "execute_result"
    }
   ],
   "source": [
    "df.count()"
   ],
   "metadata": {
    "collapsed": false,
    "pycharm": {
     "name": "#%%\n"
    }
   }
  },
  {
   "cell_type": "markdown",
   "source": [
    "## • drop the duplicates, taking into account only the following columns: CarNumber, Make_n_model, Fines"
   ],
   "metadata": {
    "collapsed": false,
    "pycharm": {
     "name": "#%% md\n"
    }
   }
  },
  {
   "cell_type": "code",
   "execution_count": 29,
   "outputs": [],
   "source": [
    "df.drop_duplicates(subset=['CarNumber', 'Make_n_model', 'Fines'], keep='last', inplace=True)"
   ],
   "metadata": {
    "collapsed": false,
    "pycharm": {
     "name": "#%%\n"
    }
   }
  },
  {
   "cell_type": "code",
   "execution_count": 30,
   "outputs": [
    {
     "data": {
      "text/plain": "CarNumber       725\nMake_n_model    725\nRefund          713\nFines           665\nHistory          65\ndtype: int64"
     },
     "execution_count": 30,
     "metadata": {},
     "output_type": "execute_result"
    }
   ],
   "source": [
    "df.count()"
   ],
   "metadata": {
    "collapsed": false,
    "pycharm": {
     "name": "#%%\n"
    }
   }
  },
  {
   "cell_type": "code",
   "execution_count": null,
   "outputs": [],
   "source": [
    "names = ['CarNumber', 'Make_n_model', 'Refund', 'Fines', 'History']"
   ],
   "metadata": {
    "collapsed": false,
    "pycharm": {
     "name": "#%%\n"
    }
   }
  },
  {
   "cell_type": "markdown",
   "source": [
    "## • work with missing values\n",
    "## [How To Get Number of Missing Values in Each Column in Pandas](https://cmdlinetips.com/2020/11/how-to-get-number-of-missing-values-in-each-column-in-pandas/)"
   ],
   "metadata": {
    "collapsed": false,
    "pycharm": {
     "name": "#%% md\n"
    }
   }
  },
  {
   "cell_type": "code",
   "execution_count": 36,
   "outputs": [],
   "source": [
    "def print_isna(names, dframe):\n",
    "    for name in names:\n",
    "        if (name in dframe):\n",
    "            print(f'In {name} missing {dframe[name].isna().sum()} values', sep='\\n')"
   ],
   "metadata": {
    "collapsed": false,
    "pycharm": {
     "name": "#%%\n"
    }
   }
  },
  {
   "cell_type": "code",
   "execution_count": 32,
   "outputs": [
    {
     "name": "stdout",
     "output_type": "stream",
     "text": [
      "In CarNumber missing 0 values\n",
      "In Make_n_model missing 0 values\n",
      "In Refund missing 12 values\n",
      "In Fines missing 60 values\n",
      "In History missing 660 values\n"
     ]
    }
   ],
   "source": [
    "print_isna(names, df)"
   ],
   "metadata": {
    "collapsed": false,
    "pycharm": {
     "name": "#%%\n"
    }
   }
  },
  {
   "cell_type": "markdown",
   "source": [
    "## [Remove missing values.](https://pandas.pydata.org/docs/reference/api/pandas.DataFrame.dropna.html)"
   ],
   "metadata": {
    "collapsed": false,
    "pycharm": {
     "name": "#%% md\n"
    }
   }
  },
  {
   "cell_type": "code",
   "execution_count": 37,
   "outputs": [],
   "source": [
    "df.dropna(axis='columns', thresh=501, inplace=True)"
   ],
   "metadata": {
    "collapsed": false,
    "pycharm": {
     "name": "#%%\n"
    }
   }
  },
  {
   "cell_type": "code",
   "execution_count": 38,
   "outputs": [
    {
     "name": "stdout",
     "output_type": "stream",
     "text": [
      "In CarNumber missing 0 values\n",
      "In Make_n_model missing 0 values\n",
      "In Refund missing 12 values\n",
      "In Fines missing 60 values\n"
     ]
    }
   ],
   "source": [
    "print_isna(names, df)\n"
   ],
   "metadata": {
    "collapsed": false,
    "pycharm": {
     "name": "#%%\n"
    }
   }
  },
  {
   "cell_type": "markdown",
   "source": [
    "## [replace all the missing values in thecolumn with the previous value ](https://pandas.pydata.org/docs/reference/api/pandas.DataFrame.fillna.html)"
   ],
   "metadata": {
    "collapsed": false,
    "pycharm": {
     "name": "#%% md\n"
    }
   }
  },
  {
   "cell_type": "code",
   "execution_count": 39,
   "outputs": [],
   "source": [
    "df['Refund'].fillna(method=\"ffill\", inplace=True)"
   ],
   "metadata": {
    "collapsed": false,
    "pycharm": {
     "name": "#%%\n"
    }
   }
  },
  {
   "cell_type": "code",
   "execution_count": 41,
   "outputs": [
    {
     "name": "stdout",
     "output_type": "stream",
     "text": [
      "In CarNumber missing 0 values\n",
      "In Make_n_model missing 0 values\n",
      "In Refund missing 0 values\n",
      "In Fines missing 60 values\n"
     ]
    }
   ],
   "source": [
    "print_isna(names, df)"
   ],
   "metadata": {
    "collapsed": false,
    "pycharm": {
     "name": "#%%\n"
    }
   }
  },
  {
   "cell_type": "code",
   "execution_count": 42,
   "outputs": [],
   "source": [
    "mean_fines = df['Fines'].mean(skipna=True)\n",
    "df['Fines'].fillna(mean_fines, inplace=True)"
   ],
   "metadata": {
    "collapsed": false,
    "pycharm": {
     "name": "#%%\n"
    }
   }
  },
  {
   "cell_type": "code",
   "execution_count": 43,
   "outputs": [
    {
     "name": "stdout",
     "output_type": "stream",
     "text": [
      "In CarNumber missing 0 values\n",
      "In Make_n_model missing 0 values\n",
      "In Refund missing 0 values\n",
      "In Fines missing 0 values\n"
     ]
    }
   ],
   "source": [
    "print_isna(names, df)"
   ],
   "metadata": {
    "collapsed": false,
    "pycharm": {
     "name": "#%%\n"
    }
   }
  },
  {
   "cell_type": "markdown",
   "source": [
    "## • split and parse the make and model"
   ],
   "metadata": {
    "collapsed": false,
    "pycharm": {
     "name": "#%% md\n"
    }
   }
  },
  {
   "cell_type": "markdown",
   "source": [
    "## [apply](https://pandas.pydata.org/docs/reference/api/pandas.DataFrame.apply.html)"
   ],
   "metadata": {
    "collapsed": false,
    "pycharm": {
     "name": "#%% md\n"
    }
   }
  },
  {
   "cell_type": "code",
   "execution_count": 46,
   "outputs": [
    {
     "data": {
      "text/plain": "        CarNumber    Make_n_model  Refund         Fines    Make    Model\nID                                                                      \n0    Y163O8161RUS      Ford Focus     2.0   3200.000000    Ford    Focus\n1     E432XX77RUS    Toyota Camry     1.0   6500.000000  Toyota    Camry\n2     7184TT36RUS      Ford Focus     1.0   2100.000000    Ford    Focus\n3    X582HE161RUS      Ford Focus     2.0   2000.000000    Ford    Focus\n5    92918M178RUS      Ford Focus     1.0   5700.000000    Ford    Focus\n..            ...             ...     ...           ...     ...      ...\n926  Y163O8161RUS      Ford Focus     2.0   1600.000000    Ford    Focus\n927  M0309X197RUS      Ford Focus     1.0  22300.000000    Ford    Focus\n928  O673E8197RUS      Ford Focus     2.0    600.000000    Ford    Focus\n929  8610T8154RUS      Ford Focus     1.0   2000.000000    Ford    Focus\n930  H419XE197RUS  Toyota Corolla     2.0   8594.586466  Toyota  Corolla\n\n[725 rows x 6 columns]",
      "text/html": "<div>\n<style scoped>\n    .dataframe tbody tr th:only-of-type {\n        vertical-align: middle;\n    }\n\n    .dataframe tbody tr th {\n        vertical-align: top;\n    }\n\n    .dataframe thead th {\n        text-align: right;\n    }\n</style>\n<table border=\"1\" class=\"dataframe\">\n  <thead>\n    <tr style=\"text-align: right;\">\n      <th></th>\n      <th>CarNumber</th>\n      <th>Make_n_model</th>\n      <th>Refund</th>\n      <th>Fines</th>\n      <th>Make</th>\n      <th>Model</th>\n    </tr>\n    <tr>\n      <th>ID</th>\n      <th></th>\n      <th></th>\n      <th></th>\n      <th></th>\n      <th></th>\n      <th></th>\n    </tr>\n  </thead>\n  <tbody>\n    <tr>\n      <th>0</th>\n      <td>Y163O8161RUS</td>\n      <td>Ford Focus</td>\n      <td>2.0</td>\n      <td>3200.000000</td>\n      <td>Ford</td>\n      <td>Focus</td>\n    </tr>\n    <tr>\n      <th>1</th>\n      <td>E432XX77RUS</td>\n      <td>Toyota Camry</td>\n      <td>1.0</td>\n      <td>6500.000000</td>\n      <td>Toyota</td>\n      <td>Camry</td>\n    </tr>\n    <tr>\n      <th>2</th>\n      <td>7184TT36RUS</td>\n      <td>Ford Focus</td>\n      <td>1.0</td>\n      <td>2100.000000</td>\n      <td>Ford</td>\n      <td>Focus</td>\n    </tr>\n    <tr>\n      <th>3</th>\n      <td>X582HE161RUS</td>\n      <td>Ford Focus</td>\n      <td>2.0</td>\n      <td>2000.000000</td>\n      <td>Ford</td>\n      <td>Focus</td>\n    </tr>\n    <tr>\n      <th>5</th>\n      <td>92918M178RUS</td>\n      <td>Ford Focus</td>\n      <td>1.0</td>\n      <td>5700.000000</td>\n      <td>Ford</td>\n      <td>Focus</td>\n    </tr>\n    <tr>\n      <th>...</th>\n      <td>...</td>\n      <td>...</td>\n      <td>...</td>\n      <td>...</td>\n      <td>...</td>\n      <td>...</td>\n    </tr>\n    <tr>\n      <th>926</th>\n      <td>Y163O8161RUS</td>\n      <td>Ford Focus</td>\n      <td>2.0</td>\n      <td>1600.000000</td>\n      <td>Ford</td>\n      <td>Focus</td>\n    </tr>\n    <tr>\n      <th>927</th>\n      <td>M0309X197RUS</td>\n      <td>Ford Focus</td>\n      <td>1.0</td>\n      <td>22300.000000</td>\n      <td>Ford</td>\n      <td>Focus</td>\n    </tr>\n    <tr>\n      <th>928</th>\n      <td>O673E8197RUS</td>\n      <td>Ford Focus</td>\n      <td>2.0</td>\n      <td>600.000000</td>\n      <td>Ford</td>\n      <td>Focus</td>\n    </tr>\n    <tr>\n      <th>929</th>\n      <td>8610T8154RUS</td>\n      <td>Ford Focus</td>\n      <td>1.0</td>\n      <td>2000.000000</td>\n      <td>Ford</td>\n      <td>Focus</td>\n    </tr>\n    <tr>\n      <th>930</th>\n      <td>H419XE197RUS</td>\n      <td>Toyota Corolla</td>\n      <td>2.0</td>\n      <td>8594.586466</td>\n      <td>Toyota</td>\n      <td>Corolla</td>\n    </tr>\n  </tbody>\n</table>\n<p>725 rows × 6 columns</p>\n</div>"
     },
     "execution_count": 46,
     "metadata": {},
     "output_type": "execute_result"
    }
   ],
   "source": [
    "df[['Make', 'Model']] = df['Make_n_model'].apply(lambda x: pd.Series(x.split(' ')))\n",
    "\n"
   ],
   "metadata": {
    "collapsed": false,
    "pycharm": {
     "name": "#%%\n"
    }
   }
  },
  {
   "cell_type": "code",
   "execution_count": 47,
   "outputs": [
    {
     "data": {
      "text/plain": "        CarNumber  Refund         Fines    Make    Model\nID                                                      \n0    Y163O8161RUS     2.0   3200.000000    Ford    Focus\n1     E432XX77RUS     1.0   6500.000000  Toyota    Camry\n2     7184TT36RUS     1.0   2100.000000    Ford    Focus\n3    X582HE161RUS     2.0   2000.000000    Ford    Focus\n5    92918M178RUS     1.0   5700.000000    Ford    Focus\n..            ...     ...           ...     ...      ...\n926  Y163O8161RUS     2.0   1600.000000    Ford    Focus\n927  M0309X197RUS     1.0  22300.000000    Ford    Focus\n928  O673E8197RUS     2.0    600.000000    Ford    Focus\n929  8610T8154RUS     1.0   2000.000000    Ford    Focus\n930  H419XE197RUS     2.0   8594.586466  Toyota  Corolla\n\n[725 rows x 5 columns]",
      "text/html": "<div>\n<style scoped>\n    .dataframe tbody tr th:only-of-type {\n        vertical-align: middle;\n    }\n\n    .dataframe tbody tr th {\n        vertical-align: top;\n    }\n\n    .dataframe thead th {\n        text-align: right;\n    }\n</style>\n<table border=\"1\" class=\"dataframe\">\n  <thead>\n    <tr style=\"text-align: right;\">\n      <th></th>\n      <th>CarNumber</th>\n      <th>Refund</th>\n      <th>Fines</th>\n      <th>Make</th>\n      <th>Model</th>\n    </tr>\n    <tr>\n      <th>ID</th>\n      <th></th>\n      <th></th>\n      <th></th>\n      <th></th>\n      <th></th>\n    </tr>\n  </thead>\n  <tbody>\n    <tr>\n      <th>0</th>\n      <td>Y163O8161RUS</td>\n      <td>2.0</td>\n      <td>3200.000000</td>\n      <td>Ford</td>\n      <td>Focus</td>\n    </tr>\n    <tr>\n      <th>1</th>\n      <td>E432XX77RUS</td>\n      <td>1.0</td>\n      <td>6500.000000</td>\n      <td>Toyota</td>\n      <td>Camry</td>\n    </tr>\n    <tr>\n      <th>2</th>\n      <td>7184TT36RUS</td>\n      <td>1.0</td>\n      <td>2100.000000</td>\n      <td>Ford</td>\n      <td>Focus</td>\n    </tr>\n    <tr>\n      <th>3</th>\n      <td>X582HE161RUS</td>\n      <td>2.0</td>\n      <td>2000.000000</td>\n      <td>Ford</td>\n      <td>Focus</td>\n    </tr>\n    <tr>\n      <th>5</th>\n      <td>92918M178RUS</td>\n      <td>1.0</td>\n      <td>5700.000000</td>\n      <td>Ford</td>\n      <td>Focus</td>\n    </tr>\n    <tr>\n      <th>...</th>\n      <td>...</td>\n      <td>...</td>\n      <td>...</td>\n      <td>...</td>\n      <td>...</td>\n    </tr>\n    <tr>\n      <th>926</th>\n      <td>Y163O8161RUS</td>\n      <td>2.0</td>\n      <td>1600.000000</td>\n      <td>Ford</td>\n      <td>Focus</td>\n    </tr>\n    <tr>\n      <th>927</th>\n      <td>M0309X197RUS</td>\n      <td>1.0</td>\n      <td>22300.000000</td>\n      <td>Ford</td>\n      <td>Focus</td>\n    </tr>\n    <tr>\n      <th>928</th>\n      <td>O673E8197RUS</td>\n      <td>2.0</td>\n      <td>600.000000</td>\n      <td>Ford</td>\n      <td>Focus</td>\n    </tr>\n    <tr>\n      <th>929</th>\n      <td>8610T8154RUS</td>\n      <td>1.0</td>\n      <td>2000.000000</td>\n      <td>Ford</td>\n      <td>Focus</td>\n    </tr>\n    <tr>\n      <th>930</th>\n      <td>H419XE197RUS</td>\n      <td>2.0</td>\n      <td>8594.586466</td>\n      <td>Toyota</td>\n      <td>Corolla</td>\n    </tr>\n  </tbody>\n</table>\n<p>725 rows × 5 columns</p>\n</div>"
     },
     "execution_count": 47,
     "metadata": {},
     "output_type": "execute_result"
    }
   ],
   "source": [
    "df.drop('Make_n_model', axis='columns', inplace=True)"
   ],
   "metadata": {
    "collapsed": false,
    "pycharm": {
     "name": "#%%\n"
    }
   }
  },
  {
   "cell_type": "code",
   "execution_count": 49,
   "outputs": [],
   "source": [
    "df.to_json('../data/auto.json', orient='records')"
   ],
   "metadata": {
    "collapsed": false,
    "pycharm": {
     "name": "#%%\n"
    }
   }
  }
 ],
 "metadata": {
  "kernelspec": {
   "display_name": "Python 3",
   "language": "python",
   "name": "python3"
  },
  "language_info": {
   "codemirror_mode": {
    "name": "ipython",
    "version": 2
   },
   "file_extension": ".py",
   "mimetype": "text/x-python",
   "name": "python",
   "nbconvert_exporter": "python",
   "pygments_lexer": "ipython2",
   "version": "2.7.6"
  }
 },
 "nbformat": 4,
 "nbformat_minor": 0
}