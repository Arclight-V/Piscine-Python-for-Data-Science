{
 "cells": [
  {
   "cell_type": "code",
   "execution_count": 1,
   "metadata": {
    "collapsed": true
   },
   "outputs": [],
   "source": [
    "import pandas as pd"
   ]
  },
  {
   "cell_type": "markdown",
   "source": [
    "## • load the JSON file that you created in the previous exercise into a dataframe\n",
    "## ◦ set CarNumber as the index column\n"
   ],
   "metadata": {
    "collapsed": false,
    "pycharm": {
     "name": "#%% md\n"
    }
   }
  },
  {
   "cell_type": "code",
   "execution_count": 6,
   "outputs": [
    {
     "data": {
      "text/plain": "              Refund         Fines    Make    Model\nCarNumber                                          \nY163O8161RUS       2   3200.000000    Ford    Focus\nE432XX77RUS        1   6500.000000  Toyota    Camry\n7184TT36RUS        1   2100.000000    Ford    Focus\nX582HE161RUS       2   2000.000000    Ford    Focus\n92918M178RUS       1   5700.000000    Ford    Focus\n...              ...           ...     ...      ...\nY163O8161RUS       2   1600.000000    Ford    Focus\nM0309X197RUS       1  22300.000000    Ford    Focus\nO673E8197RUS       2    600.000000    Ford    Focus\n8610T8154RUS       1   2000.000000    Ford    Focus\nH419XE197RUS       2   8594.586466  Toyota  Corolla\n\n[725 rows x 4 columns]",
      "text/html": "<div>\n<style scoped>\n    .dataframe tbody tr th:only-of-type {\n        vertical-align: middle;\n    }\n\n    .dataframe tbody tr th {\n        vertical-align: top;\n    }\n\n    .dataframe thead th {\n        text-align: right;\n    }\n</style>\n<table border=\"1\" class=\"dataframe\">\n  <thead>\n    <tr style=\"text-align: right;\">\n      <th></th>\n      <th>Refund</th>\n      <th>Fines</th>\n      <th>Make</th>\n      <th>Model</th>\n    </tr>\n    <tr>\n      <th>CarNumber</th>\n      <th></th>\n      <th></th>\n      <th></th>\n      <th></th>\n    </tr>\n  </thead>\n  <tbody>\n    <tr>\n      <th>Y163O8161RUS</th>\n      <td>2</td>\n      <td>3200.000000</td>\n      <td>Ford</td>\n      <td>Focus</td>\n    </tr>\n    <tr>\n      <th>E432XX77RUS</th>\n      <td>1</td>\n      <td>6500.000000</td>\n      <td>Toyota</td>\n      <td>Camry</td>\n    </tr>\n    <tr>\n      <th>7184TT36RUS</th>\n      <td>1</td>\n      <td>2100.000000</td>\n      <td>Ford</td>\n      <td>Focus</td>\n    </tr>\n    <tr>\n      <th>X582HE161RUS</th>\n      <td>2</td>\n      <td>2000.000000</td>\n      <td>Ford</td>\n      <td>Focus</td>\n    </tr>\n    <tr>\n      <th>92918M178RUS</th>\n      <td>1</td>\n      <td>5700.000000</td>\n      <td>Ford</td>\n      <td>Focus</td>\n    </tr>\n    <tr>\n      <th>...</th>\n      <td>...</td>\n      <td>...</td>\n      <td>...</td>\n      <td>...</td>\n    </tr>\n    <tr>\n      <th>Y163O8161RUS</th>\n      <td>2</td>\n      <td>1600.000000</td>\n      <td>Ford</td>\n      <td>Focus</td>\n    </tr>\n    <tr>\n      <th>M0309X197RUS</th>\n      <td>1</td>\n      <td>22300.000000</td>\n      <td>Ford</td>\n      <td>Focus</td>\n    </tr>\n    <tr>\n      <th>O673E8197RUS</th>\n      <td>2</td>\n      <td>600.000000</td>\n      <td>Ford</td>\n      <td>Focus</td>\n    </tr>\n    <tr>\n      <th>8610T8154RUS</th>\n      <td>1</td>\n      <td>2000.000000</td>\n      <td>Ford</td>\n      <td>Focus</td>\n    </tr>\n    <tr>\n      <th>H419XE197RUS</th>\n      <td>2</td>\n      <td>8594.586466</td>\n      <td>Toyota</td>\n      <td>Corolla</td>\n    </tr>\n  </tbody>\n</table>\n<p>725 rows × 4 columns</p>\n</div>"
     },
     "execution_count": 6,
     "metadata": {},
     "output_type": "execute_result"
    }
   ],
   "source": [
    "df = pd.read_json('../data/auto.json', orient='records')\n",
    "df.set_index('CarNumber', inplace=True)"
   ],
   "metadata": {
    "collapsed": false,
    "pycharm": {
     "name": "#%%\n"
    }
   }
  },
  {
   "cell_type": "markdown",
   "source": [
    "## • make the following selects"
   ],
   "metadata": {
    "collapsed": false,
    "pycharm": {
     "name": "#%% md\n"
    }
   }
  },
  {
   "cell_type": "markdown",
   "source": [
    "## ◦ display the rows only where the fines are more than 2,100"
   ],
   "metadata": {
    "collapsed": false,
    "pycharm": {
     "name": "#%% md\n"
    }
   }
  },
  {
   "cell_type": "code",
   "execution_count": 7,
   "outputs": [
    {
     "data": {
      "text/plain": "              Refund         Fines        Make    Model\nCarNumber                                              \nY163O8161RUS       2   3200.000000        Ford    Focus\nE432XX77RUS        1   6500.000000      Toyota    Camry\n92918M178RUS       1   5700.000000        Ford    Focus\nH234YH197RUS       2   6000.000000        Ford    Focus\nE40577152RUS       1   8594.586466        Ford    Focus\n...              ...           ...         ...      ...\nO718MM163RUS       2   8594.586466        Ford    Focus\n7065C8197RUS       2  11400.000000  Volkswagen   Passat\nO22097197RUS       1  24300.000000        Ford    Focus\nM0309X197RUS       1  22300.000000        Ford    Focus\nH419XE197RUS       2   8594.586466      Toyota  Corolla\n\n[455 rows x 4 columns]",
      "text/html": "<div>\n<style scoped>\n    .dataframe tbody tr th:only-of-type {\n        vertical-align: middle;\n    }\n\n    .dataframe tbody tr th {\n        vertical-align: top;\n    }\n\n    .dataframe thead th {\n        text-align: right;\n    }\n</style>\n<table border=\"1\" class=\"dataframe\">\n  <thead>\n    <tr style=\"text-align: right;\">\n      <th></th>\n      <th>Refund</th>\n      <th>Fines</th>\n      <th>Make</th>\n      <th>Model</th>\n    </tr>\n    <tr>\n      <th>CarNumber</th>\n      <th></th>\n      <th></th>\n      <th></th>\n      <th></th>\n    </tr>\n  </thead>\n  <tbody>\n    <tr>\n      <th>Y163O8161RUS</th>\n      <td>2</td>\n      <td>3200.000000</td>\n      <td>Ford</td>\n      <td>Focus</td>\n    </tr>\n    <tr>\n      <th>E432XX77RUS</th>\n      <td>1</td>\n      <td>6500.000000</td>\n      <td>Toyota</td>\n      <td>Camry</td>\n    </tr>\n    <tr>\n      <th>92918M178RUS</th>\n      <td>1</td>\n      <td>5700.000000</td>\n      <td>Ford</td>\n      <td>Focus</td>\n    </tr>\n    <tr>\n      <th>H234YH197RUS</th>\n      <td>2</td>\n      <td>6000.000000</td>\n      <td>Ford</td>\n      <td>Focus</td>\n    </tr>\n    <tr>\n      <th>E40577152RUS</th>\n      <td>1</td>\n      <td>8594.586466</td>\n      <td>Ford</td>\n      <td>Focus</td>\n    </tr>\n    <tr>\n      <th>...</th>\n      <td>...</td>\n      <td>...</td>\n      <td>...</td>\n      <td>...</td>\n    </tr>\n    <tr>\n      <th>O718MM163RUS</th>\n      <td>2</td>\n      <td>8594.586466</td>\n      <td>Ford</td>\n      <td>Focus</td>\n    </tr>\n    <tr>\n      <th>7065C8197RUS</th>\n      <td>2</td>\n      <td>11400.000000</td>\n      <td>Volkswagen</td>\n      <td>Passat</td>\n    </tr>\n    <tr>\n      <th>O22097197RUS</th>\n      <td>1</td>\n      <td>24300.000000</td>\n      <td>Ford</td>\n      <td>Focus</td>\n    </tr>\n    <tr>\n      <th>M0309X197RUS</th>\n      <td>1</td>\n      <td>22300.000000</td>\n      <td>Ford</td>\n      <td>Focus</td>\n    </tr>\n    <tr>\n      <th>H419XE197RUS</th>\n      <td>2</td>\n      <td>8594.586466</td>\n      <td>Toyota</td>\n      <td>Corolla</td>\n    </tr>\n  </tbody>\n</table>\n<p>455 rows × 4 columns</p>\n</div>"
     },
     "execution_count": 7,
     "metadata": {},
     "output_type": "execute_result"
    }
   ],
   "source": [
    "df[df['Fines'] > 2100]"
   ],
   "metadata": {
    "collapsed": false,
    "pycharm": {
     "name": "#%%\n"
    }
   }
  },
  {
   "cell_type": "markdown",
   "source": [
    "## ◦ display the rows only where the fines are more than 2,100 and the refund equals 2\n",
    "## [&](https://stackoverflow.com/questions/21415661/logical-operators-for-boolean-indexing-in-pandas)"
   ],
   "metadata": {
    "collapsed": false,
    "pycharm": {
     "name": "#%% md\n"
    }
   }
  },
  {
   "cell_type": "code",
   "execution_count": 13,
   "outputs": [
    {
     "data": {
      "text/plain": "              Refund         Fines        Make    Model\nCarNumber                                              \nY163O8161RUS       2   3200.000000        Ford    Focus\nH234YH197RUS       2   6000.000000        Ford    Focus\n707987163RUS       2   2200.000000        Ford    Focus\nK330T8197RUS       2   8200.000000       Skoda  Octavia\nM592CH197RUS       2   8594.586466       Skoda  Octavia\n...              ...           ...         ...      ...\nO136HO197RUS       2   7800.000000      Toyota  Corolla\nO68897197RUS       2  12300.000000        Ford    Focus\nO718MM163RUS       2   8594.586466        Ford    Focus\n7065C8197RUS       2  11400.000000  Volkswagen   Passat\nH419XE197RUS       2   8594.586466      Toyota  Corolla\n\n[309 rows x 4 columns]",
      "text/html": "<div>\n<style scoped>\n    .dataframe tbody tr th:only-of-type {\n        vertical-align: middle;\n    }\n\n    .dataframe tbody tr th {\n        vertical-align: top;\n    }\n\n    .dataframe thead th {\n        text-align: right;\n    }\n</style>\n<table border=\"1\" class=\"dataframe\">\n  <thead>\n    <tr style=\"text-align: right;\">\n      <th></th>\n      <th>Refund</th>\n      <th>Fines</th>\n      <th>Make</th>\n      <th>Model</th>\n    </tr>\n    <tr>\n      <th>CarNumber</th>\n      <th></th>\n      <th></th>\n      <th></th>\n      <th></th>\n    </tr>\n  </thead>\n  <tbody>\n    <tr>\n      <th>Y163O8161RUS</th>\n      <td>2</td>\n      <td>3200.000000</td>\n      <td>Ford</td>\n      <td>Focus</td>\n    </tr>\n    <tr>\n      <th>H234YH197RUS</th>\n      <td>2</td>\n      <td>6000.000000</td>\n      <td>Ford</td>\n      <td>Focus</td>\n    </tr>\n    <tr>\n      <th>707987163RUS</th>\n      <td>2</td>\n      <td>2200.000000</td>\n      <td>Ford</td>\n      <td>Focus</td>\n    </tr>\n    <tr>\n      <th>K330T8197RUS</th>\n      <td>2</td>\n      <td>8200.000000</td>\n      <td>Skoda</td>\n      <td>Octavia</td>\n    </tr>\n    <tr>\n      <th>M592CH197RUS</th>\n      <td>2</td>\n      <td>8594.586466</td>\n      <td>Skoda</td>\n      <td>Octavia</td>\n    </tr>\n    <tr>\n      <th>...</th>\n      <td>...</td>\n      <td>...</td>\n      <td>...</td>\n      <td>...</td>\n    </tr>\n    <tr>\n      <th>O136HO197RUS</th>\n      <td>2</td>\n      <td>7800.000000</td>\n      <td>Toyota</td>\n      <td>Corolla</td>\n    </tr>\n    <tr>\n      <th>O68897197RUS</th>\n      <td>2</td>\n      <td>12300.000000</td>\n      <td>Ford</td>\n      <td>Focus</td>\n    </tr>\n    <tr>\n      <th>O718MM163RUS</th>\n      <td>2</td>\n      <td>8594.586466</td>\n      <td>Ford</td>\n      <td>Focus</td>\n    </tr>\n    <tr>\n      <th>7065C8197RUS</th>\n      <td>2</td>\n      <td>11400.000000</td>\n      <td>Volkswagen</td>\n      <td>Passat</td>\n    </tr>\n    <tr>\n      <th>H419XE197RUS</th>\n      <td>2</td>\n      <td>8594.586466</td>\n      <td>Toyota</td>\n      <td>Corolla</td>\n    </tr>\n  </tbody>\n</table>\n<p>309 rows × 4 columns</p>\n</div>"
     },
     "execution_count": 13,
     "metadata": {},
     "output_type": "execute_result"
    }
   ],
   "source": [
    "df[(df['Fines'] > 2100) & (df['Refund'] == 2)]"
   ],
   "metadata": {
    "collapsed": false,
    "pycharm": {
     "name": "#%%\n"
    }
   }
  },
  {
   "cell_type": "markdown",
   "source": [
    "## ◦ display the rows only where the models are from the list: [’Focus’, ’Corolla’]"
   ],
   "metadata": {
    "collapsed": false,
    "pycharm": {
     "name": "#%% md\n"
    }
   }
  },
  {
   "cell_type": "code",
   "execution_count": 16,
   "outputs": [
    {
     "data": {
      "text/plain": "              Refund         Fines    Make    Model\nCarNumber                                          \nY163O8161RUS       2   3200.000000    Ford    Focus\n7184TT36RUS        1   2100.000000    Ford    Focus\nX582HE161RUS       2   2000.000000    Ford    Focus\n92918M178RUS       1   5700.000000    Ford    Focus\nH234YH197RUS       2   6000.000000    Ford    Focus\n...              ...           ...     ...      ...\nY163O8161RUS       2   1600.000000    Ford    Focus\nM0309X197RUS       1  22300.000000    Ford    Focus\nO673E8197RUS       2    600.000000    Ford    Focus\n8610T8154RUS       1   2000.000000    Ford    Focus\nH419XE197RUS       2   8594.586466  Toyota  Corolla\n\n[593 rows x 4 columns]",
      "text/html": "<div>\n<style scoped>\n    .dataframe tbody tr th:only-of-type {\n        vertical-align: middle;\n    }\n\n    .dataframe tbody tr th {\n        vertical-align: top;\n    }\n\n    .dataframe thead th {\n        text-align: right;\n    }\n</style>\n<table border=\"1\" class=\"dataframe\">\n  <thead>\n    <tr style=\"text-align: right;\">\n      <th></th>\n      <th>Refund</th>\n      <th>Fines</th>\n      <th>Make</th>\n      <th>Model</th>\n    </tr>\n    <tr>\n      <th>CarNumber</th>\n      <th></th>\n      <th></th>\n      <th></th>\n      <th></th>\n    </tr>\n  </thead>\n  <tbody>\n    <tr>\n      <th>Y163O8161RUS</th>\n      <td>2</td>\n      <td>3200.000000</td>\n      <td>Ford</td>\n      <td>Focus</td>\n    </tr>\n    <tr>\n      <th>7184TT36RUS</th>\n      <td>1</td>\n      <td>2100.000000</td>\n      <td>Ford</td>\n      <td>Focus</td>\n    </tr>\n    <tr>\n      <th>X582HE161RUS</th>\n      <td>2</td>\n      <td>2000.000000</td>\n      <td>Ford</td>\n      <td>Focus</td>\n    </tr>\n    <tr>\n      <th>92918M178RUS</th>\n      <td>1</td>\n      <td>5700.000000</td>\n      <td>Ford</td>\n      <td>Focus</td>\n    </tr>\n    <tr>\n      <th>H234YH197RUS</th>\n      <td>2</td>\n      <td>6000.000000</td>\n      <td>Ford</td>\n      <td>Focus</td>\n    </tr>\n    <tr>\n      <th>...</th>\n      <td>...</td>\n      <td>...</td>\n      <td>...</td>\n      <td>...</td>\n    </tr>\n    <tr>\n      <th>Y163O8161RUS</th>\n      <td>2</td>\n      <td>1600.000000</td>\n      <td>Ford</td>\n      <td>Focus</td>\n    </tr>\n    <tr>\n      <th>M0309X197RUS</th>\n      <td>1</td>\n      <td>22300.000000</td>\n      <td>Ford</td>\n      <td>Focus</td>\n    </tr>\n    <tr>\n      <th>O673E8197RUS</th>\n      <td>2</td>\n      <td>600.000000</td>\n      <td>Ford</td>\n      <td>Focus</td>\n    </tr>\n    <tr>\n      <th>8610T8154RUS</th>\n      <td>1</td>\n      <td>2000.000000</td>\n      <td>Ford</td>\n      <td>Focus</td>\n    </tr>\n    <tr>\n      <th>H419XE197RUS</th>\n      <td>2</td>\n      <td>8594.586466</td>\n      <td>Toyota</td>\n      <td>Corolla</td>\n    </tr>\n  </tbody>\n</table>\n<p>593 rows × 4 columns</p>\n</div>"
     },
     "execution_count": 16,
     "metadata": {},
     "output_type": "execute_result"
    }
   ],
   "source": [
    "df[(df['Model'] == 'Focus') | (df['Model'] == 'Corolla')]\n"
   ],
   "metadata": {
    "collapsed": false,
    "pycharm": {
     "name": "#%%\n"
    }
   }
  },
  {
   "cell_type": "code",
   "execution_count": 18,
   "outputs": [
    {
     "data": {
      "text/plain": "              Refund         Fines    Make    Model\nCarNumber                                          \nY163O8161RUS       2   3200.000000    Ford    Focus\n7184TT36RUS        1   2100.000000    Ford    Focus\nX582HE161RUS       2   2000.000000    Ford    Focus\n92918M178RUS       1   5700.000000    Ford    Focus\nH234YH197RUS       2   6000.000000    Ford    Focus\n...              ...           ...     ...      ...\nY163O8161RUS       2   1600.000000    Ford    Focus\nM0309X197RUS       1  22300.000000    Ford    Focus\nO673E8197RUS       2    600.000000    Ford    Focus\n8610T8154RUS       1   2000.000000    Ford    Focus\nH419XE197RUS       2   8594.586466  Toyota  Corolla\n\n[593 rows x 4 columns]",
      "text/html": "<div>\n<style scoped>\n    .dataframe tbody tr th:only-of-type {\n        vertical-align: middle;\n    }\n\n    .dataframe tbody tr th {\n        vertical-align: top;\n    }\n\n    .dataframe thead th {\n        text-align: right;\n    }\n</style>\n<table border=\"1\" class=\"dataframe\">\n  <thead>\n    <tr style=\"text-align: right;\">\n      <th></th>\n      <th>Refund</th>\n      <th>Fines</th>\n      <th>Make</th>\n      <th>Model</th>\n    </tr>\n    <tr>\n      <th>CarNumber</th>\n      <th></th>\n      <th></th>\n      <th></th>\n      <th></th>\n    </tr>\n  </thead>\n  <tbody>\n    <tr>\n      <th>Y163O8161RUS</th>\n      <td>2</td>\n      <td>3200.000000</td>\n      <td>Ford</td>\n      <td>Focus</td>\n    </tr>\n    <tr>\n      <th>7184TT36RUS</th>\n      <td>1</td>\n      <td>2100.000000</td>\n      <td>Ford</td>\n      <td>Focus</td>\n    </tr>\n    <tr>\n      <th>X582HE161RUS</th>\n      <td>2</td>\n      <td>2000.000000</td>\n      <td>Ford</td>\n      <td>Focus</td>\n    </tr>\n    <tr>\n      <th>92918M178RUS</th>\n      <td>1</td>\n      <td>5700.000000</td>\n      <td>Ford</td>\n      <td>Focus</td>\n    </tr>\n    <tr>\n      <th>H234YH197RUS</th>\n      <td>2</td>\n      <td>6000.000000</td>\n      <td>Ford</td>\n      <td>Focus</td>\n    </tr>\n    <tr>\n      <th>...</th>\n      <td>...</td>\n      <td>...</td>\n      <td>...</td>\n      <td>...</td>\n    </tr>\n    <tr>\n      <th>Y163O8161RUS</th>\n      <td>2</td>\n      <td>1600.000000</td>\n      <td>Ford</td>\n      <td>Focus</td>\n    </tr>\n    <tr>\n      <th>M0309X197RUS</th>\n      <td>1</td>\n      <td>22300.000000</td>\n      <td>Ford</td>\n      <td>Focus</td>\n    </tr>\n    <tr>\n      <th>O673E8197RUS</th>\n      <td>2</td>\n      <td>600.000000</td>\n      <td>Ford</td>\n      <td>Focus</td>\n    </tr>\n    <tr>\n      <th>8610T8154RUS</th>\n      <td>1</td>\n      <td>2000.000000</td>\n      <td>Ford</td>\n      <td>Focus</td>\n    </tr>\n    <tr>\n      <th>H419XE197RUS</th>\n      <td>2</td>\n      <td>8594.586466</td>\n      <td>Toyota</td>\n      <td>Corolla</td>\n    </tr>\n  </tbody>\n</table>\n<p>593 rows × 4 columns</p>\n</div>"
     },
     "execution_count": 18,
     "metadata": {},
     "output_type": "execute_result"
    }
   ],
   "source": [
    "df[df['Model'].isin(['Focus', 'Corolla'])]"
   ],
   "metadata": {
    "collapsed": false,
    "pycharm": {
     "name": "#%%\n"
    }
   }
  },
  {
   "cell_type": "markdown",
   "source": [
    "## ◦ display the rows only where the car number is from the list: [’Y7689C197RUS’,’92928M178RUS’, ’7788KT197RUS’, ’H115YO163RUS’, ’X758HY197RUS’]"
   ],
   "metadata": {
    "collapsed": false,
    "pycharm": {
     "name": "#%% md\n"
    }
   }
  },
  {
   "cell_type": "code",
   "execution_count": 19,
   "outputs": [
    {
     "data": {
      "text/plain": "              Refund          Fines  Make  Model\nCarNumber                                       \nY7689C197RUS       1   27000.000000  Ford  Focus\nY7689C197RUS       2    9000.000000  Ford  Focus\nY7689C197RUS       2   45000.000000  Ford  Focus\nY7689C197RUS       1   36000.000000  Ford  Focus\n92928M178RUS       1    8594.586466  Ford  Focus\n92928M178RUS       1     600.000000  Ford  Focus\n92928M178RUS       1    1200.000000  Ford  Focus\n92928M178RUS       2    3000.000000  Ford  Focus\n7788KT197RUS       2   12000.000000  Ford  Focus\n7788KT197RUS       2    8594.586466  Ford  Focus\n7788KT197RUS       1   20000.000000  Ford  Focus\n7788KT197RUS       2    4000.000000  Ford  Focus\nH115YO163RUS       1    2200.000000  Ford  Focus\nH115YO163RUS       1    8594.586466  Ford  Focus\nH115YO163RUS       2    1100.000000  Ford  Focus\nX758HY197RUS       2   24200.000000  Ford  Focus\nX758HY197RUS       2   72600.000000  Ford  Focus\nX758HY197RUS       2  145200.000000  Ford  Focus",
      "text/html": "<div>\n<style scoped>\n    .dataframe tbody tr th:only-of-type {\n        vertical-align: middle;\n    }\n\n    .dataframe tbody tr th {\n        vertical-align: top;\n    }\n\n    .dataframe thead th {\n        text-align: right;\n    }\n</style>\n<table border=\"1\" class=\"dataframe\">\n  <thead>\n    <tr style=\"text-align: right;\">\n      <th></th>\n      <th>Refund</th>\n      <th>Fines</th>\n      <th>Make</th>\n      <th>Model</th>\n    </tr>\n    <tr>\n      <th>CarNumber</th>\n      <th></th>\n      <th></th>\n      <th></th>\n      <th></th>\n    </tr>\n  </thead>\n  <tbody>\n    <tr>\n      <th>Y7689C197RUS</th>\n      <td>1</td>\n      <td>27000.000000</td>\n      <td>Ford</td>\n      <td>Focus</td>\n    </tr>\n    <tr>\n      <th>Y7689C197RUS</th>\n      <td>2</td>\n      <td>9000.000000</td>\n      <td>Ford</td>\n      <td>Focus</td>\n    </tr>\n    <tr>\n      <th>Y7689C197RUS</th>\n      <td>2</td>\n      <td>45000.000000</td>\n      <td>Ford</td>\n      <td>Focus</td>\n    </tr>\n    <tr>\n      <th>Y7689C197RUS</th>\n      <td>1</td>\n      <td>36000.000000</td>\n      <td>Ford</td>\n      <td>Focus</td>\n    </tr>\n    <tr>\n      <th>92928M178RUS</th>\n      <td>1</td>\n      <td>8594.586466</td>\n      <td>Ford</td>\n      <td>Focus</td>\n    </tr>\n    <tr>\n      <th>92928M178RUS</th>\n      <td>1</td>\n      <td>600.000000</td>\n      <td>Ford</td>\n      <td>Focus</td>\n    </tr>\n    <tr>\n      <th>92928M178RUS</th>\n      <td>1</td>\n      <td>1200.000000</td>\n      <td>Ford</td>\n      <td>Focus</td>\n    </tr>\n    <tr>\n      <th>92928M178RUS</th>\n      <td>2</td>\n      <td>3000.000000</td>\n      <td>Ford</td>\n      <td>Focus</td>\n    </tr>\n    <tr>\n      <th>7788KT197RUS</th>\n      <td>2</td>\n      <td>12000.000000</td>\n      <td>Ford</td>\n      <td>Focus</td>\n    </tr>\n    <tr>\n      <th>7788KT197RUS</th>\n      <td>2</td>\n      <td>8594.586466</td>\n      <td>Ford</td>\n      <td>Focus</td>\n    </tr>\n    <tr>\n      <th>7788KT197RUS</th>\n      <td>1</td>\n      <td>20000.000000</td>\n      <td>Ford</td>\n      <td>Focus</td>\n    </tr>\n    <tr>\n      <th>7788KT197RUS</th>\n      <td>2</td>\n      <td>4000.000000</td>\n      <td>Ford</td>\n      <td>Focus</td>\n    </tr>\n    <tr>\n      <th>H115YO163RUS</th>\n      <td>1</td>\n      <td>2200.000000</td>\n      <td>Ford</td>\n      <td>Focus</td>\n    </tr>\n    <tr>\n      <th>H115YO163RUS</th>\n      <td>1</td>\n      <td>8594.586466</td>\n      <td>Ford</td>\n      <td>Focus</td>\n    </tr>\n    <tr>\n      <th>H115YO163RUS</th>\n      <td>2</td>\n      <td>1100.000000</td>\n      <td>Ford</td>\n      <td>Focus</td>\n    </tr>\n    <tr>\n      <th>X758HY197RUS</th>\n      <td>2</td>\n      <td>24200.000000</td>\n      <td>Ford</td>\n      <td>Focus</td>\n    </tr>\n    <tr>\n      <th>X758HY197RUS</th>\n      <td>2</td>\n      <td>72600.000000</td>\n      <td>Ford</td>\n      <td>Focus</td>\n    </tr>\n    <tr>\n      <th>X758HY197RUS</th>\n      <td>2</td>\n      <td>145200.000000</td>\n      <td>Ford</td>\n      <td>Focus</td>\n    </tr>\n  </tbody>\n</table>\n</div>"
     },
     "execution_count": 19,
     "metadata": {},
     "output_type": "execute_result"
    }
   ],
   "source": [
    "list_number = ['Y7689C197RUS','92928M178RUS', '7788KT197RUS', 'H115YO163RUS', 'X758HY197RUS']\n",
    "df.loc[list_number]"
   ],
   "metadata": {
    "collapsed": false,
    "pycharm": {
     "name": "#%%\n"
    }
   }
  },
  {
   "cell_type": "markdown",
   "source": [
    "## • make the aggregations with the make and the model"
   ],
   "metadata": {
    "collapsed": false,
    "pycharm": {
     "name": "#%% md\n"
    }
   }
  },
  {
   "cell_type": "markdown",
   "source": [
    "## ◦ display the median fines grouped by the make"
   ],
   "metadata": {
    "collapsed": false,
    "pycharm": {
     "name": "#%% md\n"
    }
   }
  },
  {
   "cell_type": "code",
   "execution_count": 22,
   "outputs": [
    {
     "data": {
      "text/plain": "Make\nAudi          4200.0\nBMW           6500.0\nFord          3500.0\nSkoda         3250.0\nToyota        7700.0\nVolkswagen    4300.0\nVolvo         8500.0\nName: Fines, dtype: float64"
     },
     "execution_count": 22,
     "metadata": {},
     "output_type": "execute_result"
    }
   ],
   "source": [
    "df.groupby('Make')['Fines'].median()"
   ],
   "metadata": {
    "collapsed": false,
    "pycharm": {
     "name": "#%%\n"
    }
   }
  },
  {
   "cell_type": "markdown",
   "source": [
    "## ◦ display the median fines grouped by the make and the model"
   ],
   "metadata": {
    "collapsed": false,
    "pycharm": {
     "name": "#%% md\n"
    }
   }
  },
  {
   "cell_type": "code",
   "execution_count": 23,
   "outputs": [
    {
     "data": {
      "text/plain": "Make        Model  \nFord        Focus      3500.0\n            Mondeo     7650.0\nSkoda       Octavia    3250.0\nToyota      Camry      7700.0\n            Corolla    7700.0\nVolkswagen  Golf       4800.0\n            Jetta      2800.0\n            Passat     3500.0\n            Touareg    5800.0\nName: Fines, dtype: float64"
     },
     "execution_count": 23,
     "metadata": {},
     "output_type": "execute_result"
    }
   ],
   "source": [
    "df.groupby(['Make', 'Model'])['Fines'].median()"
   ],
   "metadata": {
    "collapsed": false,
    "pycharm": {
     "name": "#%%\n"
    }
   }
  },
  {
   "cell_type": "markdown",
   "source": [
    "## ◦ display the number of fines grouped by the make and the model in order to understand if we can trust the median values"
   ],
   "metadata": {
    "collapsed": false,
    "pycharm": {
     "name": "#%% md\n"
    }
   }
  },
  {
   "cell_type": "code",
   "execution_count": 24,
   "outputs": [
    {
     "data": {
      "text/plain": "Make        Model  \nFord        Focus      575\n            Mondeo       6\nSkoda       Octavia     48\nToyota      Camry       16\n            Corolla     18\nVolkswagen  Golf        20\n            Jetta        6\n            Passat      22\n            Touareg      5\nName: Fines, dtype: int64"
     },
     "execution_count": 24,
     "metadata": {},
     "output_type": "execute_result"
    }
   ],
   "source": [
    "df.groupby(['Make', 'Model'])['Fines'].count()\n"
   ],
   "metadata": {
    "collapsed": false,
    "pycharm": {
     "name": "#%%\n"
    }
   }
  },
  {
   "cell_type": "markdown",
   "source": [
    "## ◦ display the minimum and the maximum fines grouped by the make and the model in order to better understand the variance"
   ],
   "metadata": {
    "collapsed": false,
    "pycharm": {
     "name": "#%% md\n"
    }
   }
  },
  {
   "cell_type": "code",
   "execution_count": 28,
   "outputs": [
    {
     "data": {
      "text/plain": "                       min            max\nMake       Model                         \nFord       Focus     100.0  180000.000000\n           Mondeo   1100.0   46200.000000\nSkoda      Octavia   300.0  145000.000000\nToyota     Camry     500.0   22400.000000\n           Corolla   900.0   34300.000000\nVolkswagen Golf      200.0  168000.000000\n           Jetta     500.0   46000.000000\n           Passat    100.0   29700.000000\n           Touareg   500.0    8594.586466",
      "text/html": "<div>\n<style scoped>\n    .dataframe tbody tr th:only-of-type {\n        vertical-align: middle;\n    }\n\n    .dataframe tbody tr th {\n        vertical-align: top;\n    }\n\n    .dataframe thead th {\n        text-align: right;\n    }\n</style>\n<table border=\"1\" class=\"dataframe\">\n  <thead>\n    <tr style=\"text-align: right;\">\n      <th></th>\n      <th></th>\n      <th>min</th>\n      <th>max</th>\n    </tr>\n    <tr>\n      <th>Make</th>\n      <th>Model</th>\n      <th></th>\n      <th></th>\n    </tr>\n  </thead>\n  <tbody>\n    <tr>\n      <th rowspan=\"2\" valign=\"top\">Ford</th>\n      <th>Focus</th>\n      <td>100.0</td>\n      <td>180000.000000</td>\n    </tr>\n    <tr>\n      <th>Mondeo</th>\n      <td>1100.0</td>\n      <td>46200.000000</td>\n    </tr>\n    <tr>\n      <th>Skoda</th>\n      <th>Octavia</th>\n      <td>300.0</td>\n      <td>145000.000000</td>\n    </tr>\n    <tr>\n      <th rowspan=\"2\" valign=\"top\">Toyota</th>\n      <th>Camry</th>\n      <td>500.0</td>\n      <td>22400.000000</td>\n    </tr>\n    <tr>\n      <th>Corolla</th>\n      <td>900.0</td>\n      <td>34300.000000</td>\n    </tr>\n    <tr>\n      <th rowspan=\"4\" valign=\"top\">Volkswagen</th>\n      <th>Golf</th>\n      <td>200.0</td>\n      <td>168000.000000</td>\n    </tr>\n    <tr>\n      <th>Jetta</th>\n      <td>500.0</td>\n      <td>46000.000000</td>\n    </tr>\n    <tr>\n      <th>Passat</th>\n      <td>100.0</td>\n      <td>29700.000000</td>\n    </tr>\n    <tr>\n      <th>Touareg</th>\n      <td>500.0</td>\n      <td>8594.586466</td>\n    </tr>\n  </tbody>\n</table>\n</div>"
     },
     "execution_count": 28,
     "metadata": {},
     "output_type": "execute_result"
    }
   ],
   "source": [
    "df.groupby(['Make', 'Model'])['Fines'].describe()[['min', 'max']]"
   ],
   "metadata": {
    "collapsed": false,
    "pycharm": {
     "name": "#%%\n"
    }
   }
  },
  {
   "cell_type": "markdown",
   "source": [
    "## ◦ display the standard deviation of the fines grouped by the make and the model in order to better understand the variance"
   ],
   "metadata": {
    "collapsed": false,
    "pycharm": {
     "name": "#%% md\n"
    }
   }
  },
  {
   "cell_type": "code",
   "execution_count": 30,
   "outputs": [
    {
     "data": {
      "text/plain": "Make        Model  \nFord        Focus      15041.269437\n            Mondeo     18987.329108\nSkoda       Octavia    24339.742174\nToyota      Camry       6410.250654\n            Corolla     9629.325617\nVolkswagen  Golf       36950.839950\n            Jetta      17743.026799\n            Passat      6969.739135\n            Touareg     3461.778173\nName: std, dtype: float64"
     },
     "execution_count": 30,
     "metadata": {},
     "output_type": "execute_result"
    }
   ],
   "source": [
    "df.groupby(['Make', 'Model'])['Fines'].describe()['std']"
   ],
   "metadata": {
    "collapsed": false,
    "pycharm": {
     "name": "#%%\n"
    }
   }
  }
 ],
 "metadata": {
  "kernelspec": {
   "display_name": "Python 3",
   "language": "python",
   "name": "python3"
  },
  "language_info": {
   "codemirror_mode": {
    "name": "ipython",
    "version": 2
   },
   "file_extension": ".py",
   "mimetype": "text/x-python",
   "name": "python",
   "nbconvert_exporter": "python",
   "pygments_lexer": "ipython2",
   "version": "2.7.6"
  }
 },
 "nbformat": 4,
 "nbformat_minor": 0
}