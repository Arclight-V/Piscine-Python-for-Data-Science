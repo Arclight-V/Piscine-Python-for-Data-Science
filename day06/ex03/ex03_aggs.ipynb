{
 "cells": [
  {
   "cell_type": "code",
   "execution_count": 36,
   "outputs": [],
   "source": [
    "import pandas as pd\n",
    "import sqlite3"
   ],
   "metadata": {
    "collapsed": false,
    "pycharm": {
     "name": "#%%\n"
    }
   }
  },
  {
   "cell_type": "markdown",
   "source": [
    "## • create a connection to the database using the library sqlite3"
   ],
   "metadata": {
    "collapsed": false
   }
  },
  {
   "cell_type": "code",
   "execution_count": 37,
   "outputs": [],
   "source": [
    "con = sqlite3.connect('../data/checking-logs.sqlite.sqlite copy')"
   ],
   "metadata": {
    "collapsed": false,
    "pycharm": {
     "name": "#%%\n"
    }
   }
  },
  {
   "cell_type": "markdown",
   "source": [
    "## • get the schema of the table test"
   ],
   "metadata": {
    "collapsed": false
   }
  },
  {
   "cell_type": "code",
   "execution_count": 38,
   "outputs": [
    {
     "data": {
      "text/plain": "                name       type  notnull dflt_value  pk\ncid                                                    \n0              index    INTEGER        0       None   0\n1                uid       TEXT        0       None   0\n2            labname       TEXT        0       None   0\n3    first_commit_ts  TIMESTAMP        0       None   0\n4      first_view_ts  TIMESTAMP        0       None   0",
      "text/html": "<div>\n<style scoped>\n    .dataframe tbody tr th:only-of-type {\n        vertical-align: middle;\n    }\n\n    .dataframe tbody tr th {\n        vertical-align: top;\n    }\n\n    .dataframe thead th {\n        text-align: right;\n    }\n</style>\n<table border=\"1\" class=\"dataframe\">\n  <thead>\n    <tr style=\"text-align: right;\">\n      <th></th>\n      <th>name</th>\n      <th>type</th>\n      <th>notnull</th>\n      <th>dflt_value</th>\n      <th>pk</th>\n    </tr>\n    <tr>\n      <th>cid</th>\n      <th></th>\n      <th></th>\n      <th></th>\n      <th></th>\n      <th></th>\n    </tr>\n  </thead>\n  <tbody>\n    <tr>\n      <th>0</th>\n      <td>index</td>\n      <td>INTEGER</td>\n      <td>0</td>\n      <td>None</td>\n      <td>0</td>\n    </tr>\n    <tr>\n      <th>1</th>\n      <td>uid</td>\n      <td>TEXT</td>\n      <td>0</td>\n      <td>None</td>\n      <td>0</td>\n    </tr>\n    <tr>\n      <th>2</th>\n      <td>labname</td>\n      <td>TEXT</td>\n      <td>0</td>\n      <td>None</td>\n      <td>0</td>\n    </tr>\n    <tr>\n      <th>3</th>\n      <td>first_commit_ts</td>\n      <td>TIMESTAMP</td>\n      <td>0</td>\n      <td>None</td>\n      <td>0</td>\n    </tr>\n    <tr>\n      <th>4</th>\n      <td>first_view_ts</td>\n      <td>TIMESTAMP</td>\n      <td>0</td>\n      <td>None</td>\n      <td>0</td>\n    </tr>\n  </tbody>\n</table>\n</div>"
     },
     "execution_count": 38,
     "metadata": {},
     "output_type": "execute_result"
    }
   ],
   "source": [
    "table_test = 'test'\n",
    "query = f'PRAGMA table_info({table_test});'\n",
    "pd.io.sql.read_sql(query, con, index_col='cid')"
   ],
   "metadata": {
    "collapsed": false,
    "pycharm": {
     "name": "#%%\n"
    }
   }
  },
  {
   "cell_type": "markdown",
   "source": [
    "## • get only the first 10 rows of the table checker to check what the table looks like"
   ],
   "metadata": {
    "collapsed": false
   }
  },
  {
   "cell_type": "code",
   "execution_count": 39,
   "outputs": [
    {
     "data": {
      "text/plain": "           uid   labname             first_commit_ts  \\\nindex                                                  \n3      user_17  project1  2020-04-18 07:56:45.408648   \n4      user_30    laba04  2020-04-18 13:36:53.971502   \n7      user_30   laba04s  2020-04-18 14:51:37.498399   \n8      user_14    laba04  2020-04-18 15:14:00.312338   \n11     user_14   laba04s  2020-04-18 22:30:30.247628   \n18     user_19    laba04  2020-04-20 19:05:01.297780   \n19     user_25    laba04  2020-04-20 19:16:50.673054   \n20     user_21    laba04  2020-04-21 17:48:00.487806   \n21     user_30  project1  2020-04-22 12:36:24.053518   \n23     user_21   laba04s  2020-04-22 20:09:21.857747   \n\n                    first_view_ts  \nindex                              \n3      2020-04-18 10:56:55.833899  \n4      2020-04-17 22:46:26.785035  \n7      2020-04-17 22:46:26.785035  \n8      2020-04-18 10:53:52.623447  \n11     2020-04-18 10:53:52.623447  \n18     2020-04-21 20:30:38.034966  \n19     2020-05-09 23:54:54.260791  \n20     2020-04-22 22:40:36.824081  \n21     2020-04-17 22:46:26.785035  \n23     2020-04-22 22:40:36.824081  ",
      "text/html": "<div>\n<style scoped>\n    .dataframe tbody tr th:only-of-type {\n        vertical-align: middle;\n    }\n\n    .dataframe tbody tr th {\n        vertical-align: top;\n    }\n\n    .dataframe thead th {\n        text-align: right;\n    }\n</style>\n<table border=\"1\" class=\"dataframe\">\n  <thead>\n    <tr style=\"text-align: right;\">\n      <th></th>\n      <th>uid</th>\n      <th>labname</th>\n      <th>first_commit_ts</th>\n      <th>first_view_ts</th>\n    </tr>\n    <tr>\n      <th>index</th>\n      <th></th>\n      <th></th>\n      <th></th>\n      <th></th>\n    </tr>\n  </thead>\n  <tbody>\n    <tr>\n      <th>3</th>\n      <td>user_17</td>\n      <td>project1</td>\n      <td>2020-04-18 07:56:45.408648</td>\n      <td>2020-04-18 10:56:55.833899</td>\n    </tr>\n    <tr>\n      <th>4</th>\n      <td>user_30</td>\n      <td>laba04</td>\n      <td>2020-04-18 13:36:53.971502</td>\n      <td>2020-04-17 22:46:26.785035</td>\n    </tr>\n    <tr>\n      <th>7</th>\n      <td>user_30</td>\n      <td>laba04s</td>\n      <td>2020-04-18 14:51:37.498399</td>\n      <td>2020-04-17 22:46:26.785035</td>\n    </tr>\n    <tr>\n      <th>8</th>\n      <td>user_14</td>\n      <td>laba04</td>\n      <td>2020-04-18 15:14:00.312338</td>\n      <td>2020-04-18 10:53:52.623447</td>\n    </tr>\n    <tr>\n      <th>11</th>\n      <td>user_14</td>\n      <td>laba04s</td>\n      <td>2020-04-18 22:30:30.247628</td>\n      <td>2020-04-18 10:53:52.623447</td>\n    </tr>\n    <tr>\n      <th>18</th>\n      <td>user_19</td>\n      <td>laba04</td>\n      <td>2020-04-20 19:05:01.297780</td>\n      <td>2020-04-21 20:30:38.034966</td>\n    </tr>\n    <tr>\n      <th>19</th>\n      <td>user_25</td>\n      <td>laba04</td>\n      <td>2020-04-20 19:16:50.673054</td>\n      <td>2020-05-09 23:54:54.260791</td>\n    </tr>\n    <tr>\n      <th>20</th>\n      <td>user_21</td>\n      <td>laba04</td>\n      <td>2020-04-21 17:48:00.487806</td>\n      <td>2020-04-22 22:40:36.824081</td>\n    </tr>\n    <tr>\n      <th>21</th>\n      <td>user_30</td>\n      <td>project1</td>\n      <td>2020-04-22 12:36:24.053518</td>\n      <td>2020-04-17 22:46:26.785035</td>\n    </tr>\n    <tr>\n      <th>23</th>\n      <td>user_21</td>\n      <td>laba04s</td>\n      <td>2020-04-22 20:09:21.857747</td>\n      <td>2020-04-22 22:40:36.824081</td>\n    </tr>\n  </tbody>\n</table>\n</div>"
     },
     "execution_count": 39,
     "metadata": {},
     "output_type": "execute_result"
    }
   ],
   "source": [
    "count = 10\n",
    "firstRows = f'SELECT * FROM {table_test} LIMIT {count};'\n",
    "pd.io.sql.read_sql(firstRows, con, index_col='index')"
   ],
   "metadata": {
    "collapsed": false,
    "pycharm": {
     "name": "#%%\n"
    }
   }
  },
  {
   "cell_type": "code",
   "execution_count": 40,
   "outputs": [
    {
     "data": {
      "text/plain": "   cid       name     type  notnull dflt_value  pk\n0    0      index  INTEGER        0       None   0\n1    1       labs     TEXT        0       None   0\n2    2  deadlines  INTEGER        0       None   0",
      "text/html": "<div>\n<style scoped>\n    .dataframe tbody tr th:only-of-type {\n        vertical-align: middle;\n    }\n\n    .dataframe tbody tr th {\n        vertical-align: top;\n    }\n\n    .dataframe thead th {\n        text-align: right;\n    }\n</style>\n<table border=\"1\" class=\"dataframe\">\n  <thead>\n    <tr style=\"text-align: right;\">\n      <th></th>\n      <th>cid</th>\n      <th>name</th>\n      <th>type</th>\n      <th>notnull</th>\n      <th>dflt_value</th>\n      <th>pk</th>\n    </tr>\n  </thead>\n  <tbody>\n    <tr>\n      <th>0</th>\n      <td>0</td>\n      <td>index</td>\n      <td>INTEGER</td>\n      <td>0</td>\n      <td>None</td>\n      <td>0</td>\n    </tr>\n    <tr>\n      <th>1</th>\n      <td>1</td>\n      <td>labs</td>\n      <td>TEXT</td>\n      <td>0</td>\n      <td>None</td>\n      <td>0</td>\n    </tr>\n    <tr>\n      <th>2</th>\n      <td>2</td>\n      <td>deadlines</td>\n      <td>INTEGER</td>\n      <td>0</td>\n      <td>None</td>\n      <td>0</td>\n    </tr>\n  </tbody>\n</table>\n</div>"
     },
     "execution_count": 40,
     "metadata": {},
     "output_type": "execute_result"
    }
   ],
   "source": [
    "table_deadlines = 'deadlines'\n",
    "query = f'PRAGMA table_info({table_deadlines});'\n",
    "pd.io.sql.read_sql(query, con)\n"
   ],
   "metadata": {
    "collapsed": false,
    "pycharm": {
     "name": "#%%\n"
    }
   }
  },
  {
   "cell_type": "markdown",
   "source": [
    "## be sure to use parse_date to parse as dates."
   ],
   "metadata": {
    "collapsed": false,
    "pycharm": {
     "name": "#%% md\n"
    }
   }
  },
  {
   "cell_type": "code",
   "execution_count": 58,
   "outputs": [
    {
     "data": {
      "text/plain": "           labs           deadlines\nindex                              \n0        laba04 2020-04-26 23:59:59\n1       laba04s 2020-04-26 23:59:59\n2        laba05 2020-05-03 23:59:59\n4        laba06 2020-05-24 23:59:59\n5       laba06s 2020-05-24 23:59:59\n3      project1 2020-05-16 23:59:59",
      "text/html": "<div>\n<style scoped>\n    .dataframe tbody tr th:only-of-type {\n        vertical-align: middle;\n    }\n\n    .dataframe tbody tr th {\n        vertical-align: top;\n    }\n\n    .dataframe thead th {\n        text-align: right;\n    }\n</style>\n<table border=\"1\" class=\"dataframe\">\n  <thead>\n    <tr style=\"text-align: right;\">\n      <th></th>\n      <th>labs</th>\n      <th>deadlines</th>\n    </tr>\n    <tr>\n      <th>index</th>\n      <th></th>\n      <th></th>\n    </tr>\n  </thead>\n  <tbody>\n    <tr>\n      <th>0</th>\n      <td>laba04</td>\n      <td>2020-04-26 23:59:59</td>\n    </tr>\n    <tr>\n      <th>1</th>\n      <td>laba04s</td>\n      <td>2020-04-26 23:59:59</td>\n    </tr>\n    <tr>\n      <th>2</th>\n      <td>laba05</td>\n      <td>2020-05-03 23:59:59</td>\n    </tr>\n    <tr>\n      <th>4</th>\n      <td>laba06</td>\n      <td>2020-05-24 23:59:59</td>\n    </tr>\n    <tr>\n      <th>5</th>\n      <td>laba06s</td>\n      <td>2020-05-24 23:59:59</td>\n    </tr>\n    <tr>\n      <th>3</th>\n      <td>project1</td>\n      <td>2020-05-16 23:59:59</td>\n    </tr>\n  </tbody>\n</table>\n</div>"
     },
     "execution_count": 58,
     "metadata": {},
     "output_type": "execute_result"
    }
   ],
   "source": [
    "count = 10\n",
    "firstRows = f'SELECT * FROM {table_deadlines} LIMIT {count};'\n",
    "pd.io.sql.read_sql(firstRows, con, index_col='index', parse_dates=[table_deadlines])"
   ],
   "metadata": {
    "collapsed": false,
    "pycharm": {
     "name": "#%%\n"
    }
   }
  },
  {
   "cell_type": "markdown",
   "source": [
    "[Absolute Delta](https://sciencing.com/calculate-delta-between-two-numbers-5893964.html)\n",
    "\n",
    "[Разница между двумя датами в Sqlite3](https://coderoad.ru/55543509/%D0%A0%D0%B0%D0%B7%D0%BD%D0%B8%D1%86%D0%B0-%D0%BC%D0%B5%D0%B6%D0%B4%D1%83-%D0%B4%D0%B2%D1%83%D0%BC%D1%8F-%D0%B4%D0%B0%D1%82%D0%B0%D0%BC%D0%B8-%D0%B2-Sqlite3)\n",
    "\n",
    "[Разница между двумя датами в SQLite](https://overcoder.net/q/1305/%D1%80%D0%B0%D0%B7%D0%BD%D0%B8%D1%86%D0%B0-%D0%BC%D0%B5%D0%B6%D0%B4%D1%83-%D0%B4%D0%B2%D1%83%D0%BC%D1%8F-%D0%B4%D0%B0%D1%82%D0%B0%D0%BC%D0%B8-%D0%B2-sqlite)\n",
    "\n",
    "[Difference between 2 dates in SQLite](https://stackoverflow.com/questions/289680/difference-between-2-dates-in-sqlite)\n",
    "\n",
    "[SQLite: julianday Function](https://www.techonthenet.com/sqlite/functions/julianday.php)\n",
    "\n",
    "\n",
    "• find among all the users the minimum value of the delta between the first commit of the user and the deadline of the corresponding lab using only one query\n",
    "\n",
    "◦ do this by joining the table with the table deadlines\n",
    "\n",
    "◦ the difference should be displayed in hours\n",
    "\n",
    "◦ do not take the lab ’project1’ into account, it has longer deadlines and will be an outlier\n",
    "\n",
    "◦ the value should be stored in the dataframe df_min with the corresponding uid"
   ],
   "metadata": {
    "collapsed": false,
    "pycharm": {
     "name": "#%% md\n"
    }
   }
  },
  {
   "cell_type": "code",
   "execution_count": 100,
   "outputs": [
    {
     "data": {
      "text/plain": "       uid  delta\n0  user_30   -202",
      "text/html": "<div>\n<style scoped>\n    .dataframe tbody tr th:only-of-type {\n        vertical-align: middle;\n    }\n\n    .dataframe tbody tr th {\n        vertical-align: top;\n    }\n\n    .dataframe thead th {\n        text-align: right;\n    }\n</style>\n<table border=\"1\" class=\"dataframe\">\n  <thead>\n    <tr style=\"text-align: right;\">\n      <th></th>\n      <th>uid</th>\n      <th>delta</th>\n    </tr>\n  </thead>\n  <tbody>\n    <tr>\n      <th>0</th>\n      <td>user_30</td>\n      <td>-202</td>\n    </tr>\n  </tbody>\n</table>\n</div>"
     },
     "execution_count": 100,
     "metadata": {},
     "output_type": "execute_result"
    }
   ],
   "source": [
    "aggregated_query_min = \"\"\"\n",
    "SELECT  uid,\n",
    "        MIN (\n",
    "                CAST (\n",
    "                        (julianday(test.first_commit_ts) - julianday(DATETIME(deadlines.deadlines, 'unixepoch'))) * 24 AS INTEGER\n",
    "                     )\n",
    "            ) AS delta\n",
    "FROM test LEFT JOIN deadlines\n",
    "ON test.labname = deadlines.labs\n",
    "WHERE NOT test.labname = 'project1'\n",
    "\"\"\"\n",
    "\n",
    "df_min = pd.io.sql.read_sql(aggregated_query_min, con)\n",
    "df_min\n"
   ],
   "metadata": {
    "collapsed": false,
    "pycharm": {
     "name": "#%%\n"
    }
   }
  },
  {
   "cell_type": "markdown",
   "source": [
    "• do the same thing, but for the maximum, using only one query, the dataframe name is df_max"
   ],
   "metadata": {
    "collapsed": false,
    "pycharm": {
     "name": "#%% md\n"
    }
   }
  },
  {
   "cell_type": "code",
   "execution_count": 101,
   "outputs": [
    {
     "data": {
      "text/plain": "       uid  delta\n0  user_25     -2",
      "text/html": "<div>\n<style scoped>\n    .dataframe tbody tr th:only-of-type {\n        vertical-align: middle;\n    }\n\n    .dataframe tbody tr th {\n        vertical-align: top;\n    }\n\n    .dataframe thead th {\n        text-align: right;\n    }\n</style>\n<table border=\"1\" class=\"dataframe\">\n  <thead>\n    <tr style=\"text-align: right;\">\n      <th></th>\n      <th>uid</th>\n      <th>delta</th>\n    </tr>\n  </thead>\n  <tbody>\n    <tr>\n      <th>0</th>\n      <td>user_25</td>\n      <td>-2</td>\n    </tr>\n  </tbody>\n</table>\n</div>"
     },
     "execution_count": 101,
     "metadata": {},
     "output_type": "execute_result"
    }
   ],
   "source": [
    "aggregated_query_max = \"\"\"\n",
    "SELECT  uid,\n",
    "        MAX (\n",
    "                CAST (\n",
    "                        (julianday(test.first_commit_ts) - julianday(DATETIME(deadlines.deadlines, 'unixepoch'))) * 24 AS INTEGER\n",
    "                     )\n",
    "            ) AS delta\n",
    "FROM test LEFT JOIN deadlines\n",
    "ON test.labname = deadlines.labs\n",
    "WHERE NOT test.labname = 'project1'\n",
    "\"\"\"\n",
    "\n",
    "df_max = pd.io.sql.read_sql(aggregated_query_max, con)\n",
    "df_max"
   ],
   "metadata": {
    "collapsed": false,
    "pycharm": {
     "name": "#%%\n"
    }
   }
  },
  {
   "cell_type": "markdown",
   "source": [
    "• do the samething but for the average,using only one query,this time your dataframe should not include the uid column, and the dataframe name is df_avg"
   ],
   "metadata": {
    "collapsed": false,
    "pycharm": {
     "name": "#%% md\n"
    }
   }
  },
  {
   "cell_type": "code",
   "execution_count": 102,
   "outputs": [
    {
     "data": {
      "text/plain": "    delta\n0 -89.125",
      "text/html": "<div>\n<style scoped>\n    .dataframe tbody tr th:only-of-type {\n        vertical-align: middle;\n    }\n\n    .dataframe tbody tr th {\n        vertical-align: top;\n    }\n\n    .dataframe thead th {\n        text-align: right;\n    }\n</style>\n<table border=\"1\" class=\"dataframe\">\n  <thead>\n    <tr style=\"text-align: right;\">\n      <th></th>\n      <th>delta</th>\n    </tr>\n  </thead>\n  <tbody>\n    <tr>\n      <th>0</th>\n      <td>-89.125</td>\n    </tr>\n  </tbody>\n</table>\n</div>"
     },
     "execution_count": 102,
     "metadata": {},
     "output_type": "execute_result"
    }
   ],
   "source": [
    "aggregated_query_average = \"\"\"\n",
    "SELECT  AVG (\n",
    "                CAST (\n",
    "                        (julianday(test.first_commit_ts) - julianday(DATETIME(deadlines.deadlines, 'unixepoch'))) * 24 AS INTEGER\n",
    "                     )\n",
    "            ) AS delta\n",
    "FROM test LEFT JOIN deadlines\n",
    "ON test.labname = deadlines.labs\n",
    "WHERE NOT test.labname = 'project1'\n",
    "\"\"\"\n",
    "\n",
    "df_average = pd.io.sql.read_sql(aggregated_query_average, con)\n",
    "df_average\n"
   ],
   "metadata": {
    "collapsed": false,
    "pycharm": {
     "name": "#%%\n"
    }
   }
  },
  {
   "cell_type": "markdown",
   "source": [
    " we want to test the hypothesis that the users who visited the newsfeed just a few times have the lower delta between the first commit and the deadline. To do this, you need to calculate the correlation coefficient between the number of pageviews and the difference\n",
    "\n",
    "◦ using only one query, create a table with the columns: uid, avg_diff, pageviews\n",
    "\n",
    "◦ uid is the uids that exist in the test\n",
    "\n",
    "◦ avg_diff is the average delta between the first commit and the lab deadline per user\n",
    "\n",
    "◦ pageviews is the number of Newsfeed visits per user\n",
    "\n",
    "◦ do not take the lab ’project1’ into account\n",
    "\n",
    "◦ store it to the dataframe views_diff\n",
    "\n",
    "◦ use the Pandas method corr() to calculate the correlation coefficient between the number of pageviews and the difference"
   ],
   "metadata": {
    "collapsed": false,
    "pycharm": {
     "name": "#%% md\n"
    }
   }
  },
  {
   "cell_type": "code",
   "execution_count": 107,
   "outputs": [
    {
     "data": {
      "text/plain": "        uid       delta  pageviews\n0    user_1  -64.400000         28\n1   user_10  -74.800000         89\n2   user_14 -159.000000        143\n3   user_17  -61.600000         47\n4   user_18   -5.666667          3\n5   user_19  -98.750000         16\n6   user_21  -95.500000         10\n7   user_25  -92.600000        179\n8   user_28  -86.400000        149\n9    user_3 -105.400000        317\n10  user_30 -145.250000          3",
      "text/html": "<div>\n<style scoped>\n    .dataframe tbody tr th:only-of-type {\n        vertical-align: middle;\n    }\n\n    .dataframe tbody tr th {\n        vertical-align: top;\n    }\n\n    .dataframe thead th {\n        text-align: right;\n    }\n</style>\n<table border=\"1\" class=\"dataframe\">\n  <thead>\n    <tr style=\"text-align: right;\">\n      <th></th>\n      <th>uid</th>\n      <th>delta</th>\n      <th>pageviews</th>\n    </tr>\n  </thead>\n  <tbody>\n    <tr>\n      <th>0</th>\n      <td>user_1</td>\n      <td>-64.400000</td>\n      <td>28</td>\n    </tr>\n    <tr>\n      <th>1</th>\n      <td>user_10</td>\n      <td>-74.800000</td>\n      <td>89</td>\n    </tr>\n    <tr>\n      <th>2</th>\n      <td>user_14</td>\n      <td>-159.000000</td>\n      <td>143</td>\n    </tr>\n    <tr>\n      <th>3</th>\n      <td>user_17</td>\n      <td>-61.600000</td>\n      <td>47</td>\n    </tr>\n    <tr>\n      <th>4</th>\n      <td>user_18</td>\n      <td>-5.666667</td>\n      <td>3</td>\n    </tr>\n    <tr>\n      <th>5</th>\n      <td>user_19</td>\n      <td>-98.750000</td>\n      <td>16</td>\n    </tr>\n    <tr>\n      <th>6</th>\n      <td>user_21</td>\n      <td>-95.500000</td>\n      <td>10</td>\n    </tr>\n    <tr>\n      <th>7</th>\n      <td>user_25</td>\n      <td>-92.600000</td>\n      <td>179</td>\n    </tr>\n    <tr>\n      <th>8</th>\n      <td>user_28</td>\n      <td>-86.400000</td>\n      <td>149</td>\n    </tr>\n    <tr>\n      <th>9</th>\n      <td>user_3</td>\n      <td>-105.400000</td>\n      <td>317</td>\n    </tr>\n    <tr>\n      <th>10</th>\n      <td>user_30</td>\n      <td>-145.250000</td>\n      <td>3</td>\n    </tr>\n  </tbody>\n</table>\n</div>"
     },
     "execution_count": 107,
     "metadata": {},
     "output_type": "execute_result"
    }
   ],
   "source": [
    "aggregated_query_test_the_hypothesis = \"\"\"\n",
    "SELECT  test.uid,\n",
    "        AVG (\n",
    "                CAST (\n",
    "                        (julianday(test.first_commit_ts) - julianday(DATETIME(deadlines.deadlines, 'unixepoch'))) * 24 AS INTEGER\n",
    "                     )\n",
    "            ) AS delta,\n",
    "        pageviews\n",
    "FROM test\n",
    "LEFT JOIN deadlines ON test.labname = deadlines.labs\n",
    "LEFT JOIN (\n",
    "            SELECT  uid,\n",
    "                    count(*) AS pageviews\n",
    "            FROM pageviews\n",
    "            GROUP BY uid\n",
    "          ) AS number_of_Newsfeed_visits_per_user ON test.uid = number_of_Newsfeed_visits_per_user.uid\n",
    "WHERE NOT test.labname = 'project1'\n",
    "GROUP BY test.uid\n",
    "\"\"\"\n",
    "\n",
    "df_test_the_hypothisis = pd.io.sql.read_sql(aggregated_query_test_the_hypothesis, con)\n",
    "df_test_the_hypothisis"
   ],
   "metadata": {
    "collapsed": false,
    "pycharm": {
     "name": "#%%\n"
    }
   }
  },
  {
   "cell_type": "code",
   "execution_count": 108,
   "outputs": [
    {
     "data": {
      "text/plain": "              delta  pageviews\ndelta      1.000000  -0.279736\npageviews -0.279736   1.000000",
      "text/html": "<div>\n<style scoped>\n    .dataframe tbody tr th:only-of-type {\n        vertical-align: middle;\n    }\n\n    .dataframe tbody tr th {\n        vertical-align: top;\n    }\n\n    .dataframe thead th {\n        text-align: right;\n    }\n</style>\n<table border=\"1\" class=\"dataframe\">\n  <thead>\n    <tr style=\"text-align: right;\">\n      <th></th>\n      <th>delta</th>\n      <th>pageviews</th>\n    </tr>\n  </thead>\n  <tbody>\n    <tr>\n      <th>delta</th>\n      <td>1.000000</td>\n      <td>-0.279736</td>\n    </tr>\n    <tr>\n      <th>pageviews</th>\n      <td>-0.279736</td>\n      <td>1.000000</td>\n    </tr>\n  </tbody>\n</table>\n</div>"
     },
     "execution_count": 108,
     "metadata": {},
     "output_type": "execute_result"
    }
   ],
   "source": [
    "df_test_the_hypothisis.corr()"
   ],
   "metadata": {
    "collapsed": false,
    "pycharm": {
     "name": "#%%\n"
    }
   }
  },
  {
   "cell_type": "code",
   "execution_count": null,
   "outputs": [],
   "source": [
    "con.close()"
   ],
   "metadata": {
    "collapsed": false,
    "pycharm": {
     "name": "#%%\n"
    }
   }
  }
 ],
 "metadata": {
  "kernelspec": {
   "display_name": "Python 3",
   "language": "python",
   "name": "python3"
  },
  "language_info": {
   "codemirror_mode": {
    "name": "ipython",
    "version": 2
   },
   "file_extension": ".py",
   "mimetype": "text/x-python",
   "name": "python",
   "nbconvert_exporter": "python",
   "pygments_lexer": "ipython2",
   "version": "2.7.6"
  }
 },
 "nbformat": 4,
 "nbformat_minor": 0
}