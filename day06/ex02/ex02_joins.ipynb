{
 "cells": [
  {
   "cell_type": "code",
   "execution_count": 1,
   "metadata": {
    "collapsed": true
   },
   "outputs": [],
   "source": [
    "import pandas as pd\n",
    "import sqlite3"
   ]
  },
  {
   "cell_type": "markdown",
   "source": [
    "## • create a connection to the database using the library sqlite3"
   ],
   "metadata": {
    "collapsed": false
   }
  },
  {
   "cell_type": "code",
   "execution_count": 2,
   "outputs": [],
   "source": [
    "con = sqlite3.connect('../data/checking-logs.sqlite.sqlite copy')"
   ],
   "metadata": {
    "collapsed": false,
    "pycharm": {
     "name": "#%%\n"
    }
   }
  },
  {
   "cell_type": "code",
   "execution_count": 3,
   "outputs": [
    {
     "data": {
      "text/plain": "   index      uid                    datetime\n0      0  admin_1  2020-04-17 12:01:08.463179\n1      1  admin_1  2020-04-17 12:01:23.743946\n2      2  admin_3  2020-04-17 12:17:39.287778\n3      3  admin_3  2020-04-17 12:17:40.001768\n4      4  admin_1  2020-04-17 12:27:30.646665\n5      5  admin_1  2020-04-17 12:35:44.884757\n6      6  admin_1  2020-04-17 12:35:52.735016\n7      7  admin_3  2020-04-17 12:36:21.401412\n8      8  admin_3  2020-04-17 12:36:22.023355\n9      9  admin_1  2020-04-17 13:55:19.129243",
      "text/html": "<div>\n<style scoped>\n    .dataframe tbody tr th:only-of-type {\n        vertical-align: middle;\n    }\n\n    .dataframe tbody tr th {\n        vertical-align: top;\n    }\n\n    .dataframe thead th {\n        text-align: right;\n    }\n</style>\n<table border=\"1\" class=\"dataframe\">\n  <thead>\n    <tr style=\"text-align: right;\">\n      <th></th>\n      <th>index</th>\n      <th>uid</th>\n      <th>datetime</th>\n    </tr>\n  </thead>\n  <tbody>\n    <tr>\n      <th>0</th>\n      <td>0</td>\n      <td>admin_1</td>\n      <td>2020-04-17 12:01:08.463179</td>\n    </tr>\n    <tr>\n      <th>1</th>\n      <td>1</td>\n      <td>admin_1</td>\n      <td>2020-04-17 12:01:23.743946</td>\n    </tr>\n    <tr>\n      <th>2</th>\n      <td>2</td>\n      <td>admin_3</td>\n      <td>2020-04-17 12:17:39.287778</td>\n    </tr>\n    <tr>\n      <th>3</th>\n      <td>3</td>\n      <td>admin_3</td>\n      <td>2020-04-17 12:17:40.001768</td>\n    </tr>\n    <tr>\n      <th>4</th>\n      <td>4</td>\n      <td>admin_1</td>\n      <td>2020-04-17 12:27:30.646665</td>\n    </tr>\n    <tr>\n      <th>5</th>\n      <td>5</td>\n      <td>admin_1</td>\n      <td>2020-04-17 12:35:44.884757</td>\n    </tr>\n    <tr>\n      <th>6</th>\n      <td>6</td>\n      <td>admin_1</td>\n      <td>2020-04-17 12:35:52.735016</td>\n    </tr>\n    <tr>\n      <th>7</th>\n      <td>7</td>\n      <td>admin_3</td>\n      <td>2020-04-17 12:36:21.401412</td>\n    </tr>\n    <tr>\n      <th>8</th>\n      <td>8</td>\n      <td>admin_3</td>\n      <td>2020-04-17 12:36:22.023355</td>\n    </tr>\n    <tr>\n      <th>9</th>\n      <td>9</td>\n      <td>admin_1</td>\n      <td>2020-04-17 13:55:19.129243</td>\n    </tr>\n  </tbody>\n</table>\n</div>"
     },
     "execution_count": 3,
     "metadata": {},
     "output_type": "execute_result"
    }
   ],
   "source": [
    "count = 10\n",
    "firstRows = f'SELECT * FROM pageviews LIMIT {count};'\n",
    "pd.io.sql.read_sql(firstRows, con)"
   ],
   "metadata": {
    "collapsed": false,
    "pycharm": {
     "name": "#%%\n"
    }
   }
  },
  {
   "cell_type": "code",
   "execution_count": 4,
   "outputs": [
    {
     "data": {
      "text/plain": "   index    status  success                   timestamp  numTrials   labname  \\\n0      0  checking        0  2020-04-16 21:12:50.740474          5      None   \n1      1     ready        0  2020-04-16 21:12:54.708365          5  code_rvw   \n2      2  checking        0  2020-04-16 21:46:47.769088          7      None   \n3      3     ready        0  2020-04-16 21:46:48.121217          7     lab02   \n4      4  checking        0  2020-04-16 21:53:01.862637          6  code_rvw   \n5      5     ready        0  2020-04-16 21:53:05.373389          6  code_rvw   \n6      6  checking        0  2020-04-17 05:18:51.965864          1      None   \n7      7     ready        0  2020-04-17 05:19:02.744528          1  project1   \n8      8  checking        0  2020-04-17 05:22:35.249331          2  project1   \n9      9     ready        1  2020-04-17 05:22:45.549397          2  project1   \n\n       uid  \n0  admin_1  \n1  admin_1  \n2  admin_1  \n3  admin_1  \n4  admin_1  \n5  admin_1  \n6     None  \n7   user_4  \n8   user_4  \n9   user_4  ",
      "text/html": "<div>\n<style scoped>\n    .dataframe tbody tr th:only-of-type {\n        vertical-align: middle;\n    }\n\n    .dataframe tbody tr th {\n        vertical-align: top;\n    }\n\n    .dataframe thead th {\n        text-align: right;\n    }\n</style>\n<table border=\"1\" class=\"dataframe\">\n  <thead>\n    <tr style=\"text-align: right;\">\n      <th></th>\n      <th>index</th>\n      <th>status</th>\n      <th>success</th>\n      <th>timestamp</th>\n      <th>numTrials</th>\n      <th>labname</th>\n      <th>uid</th>\n    </tr>\n  </thead>\n  <tbody>\n    <tr>\n      <th>0</th>\n      <td>0</td>\n      <td>checking</td>\n      <td>0</td>\n      <td>2020-04-16 21:12:50.740474</td>\n      <td>5</td>\n      <td>None</td>\n      <td>admin_1</td>\n    </tr>\n    <tr>\n      <th>1</th>\n      <td>1</td>\n      <td>ready</td>\n      <td>0</td>\n      <td>2020-04-16 21:12:54.708365</td>\n      <td>5</td>\n      <td>code_rvw</td>\n      <td>admin_1</td>\n    </tr>\n    <tr>\n      <th>2</th>\n      <td>2</td>\n      <td>checking</td>\n      <td>0</td>\n      <td>2020-04-16 21:46:47.769088</td>\n      <td>7</td>\n      <td>None</td>\n      <td>admin_1</td>\n    </tr>\n    <tr>\n      <th>3</th>\n      <td>3</td>\n      <td>ready</td>\n      <td>0</td>\n      <td>2020-04-16 21:46:48.121217</td>\n      <td>7</td>\n      <td>lab02</td>\n      <td>admin_1</td>\n    </tr>\n    <tr>\n      <th>4</th>\n      <td>4</td>\n      <td>checking</td>\n      <td>0</td>\n      <td>2020-04-16 21:53:01.862637</td>\n      <td>6</td>\n      <td>code_rvw</td>\n      <td>admin_1</td>\n    </tr>\n    <tr>\n      <th>5</th>\n      <td>5</td>\n      <td>ready</td>\n      <td>0</td>\n      <td>2020-04-16 21:53:05.373389</td>\n      <td>6</td>\n      <td>code_rvw</td>\n      <td>admin_1</td>\n    </tr>\n    <tr>\n      <th>6</th>\n      <td>6</td>\n      <td>checking</td>\n      <td>0</td>\n      <td>2020-04-17 05:18:51.965864</td>\n      <td>1</td>\n      <td>None</td>\n      <td>None</td>\n    </tr>\n    <tr>\n      <th>7</th>\n      <td>7</td>\n      <td>ready</td>\n      <td>0</td>\n      <td>2020-04-17 05:19:02.744528</td>\n      <td>1</td>\n      <td>project1</td>\n      <td>user_4</td>\n    </tr>\n    <tr>\n      <th>8</th>\n      <td>8</td>\n      <td>checking</td>\n      <td>0</td>\n      <td>2020-04-17 05:22:35.249331</td>\n      <td>2</td>\n      <td>project1</td>\n      <td>user_4</td>\n    </tr>\n    <tr>\n      <th>9</th>\n      <td>9</td>\n      <td>ready</td>\n      <td>1</td>\n      <td>2020-04-17 05:22:45.549397</td>\n      <td>2</td>\n      <td>project1</td>\n      <td>user_4</td>\n    </tr>\n  </tbody>\n</table>\n</div>"
     },
     "execution_count": 4,
     "metadata": {},
     "output_type": "execute_result"
    }
   ],
   "source": [
    "\n",
    "count = 10\n",
    "firstRows = f'SELECT * FROM checker LIMIT {count};'\n",
    "pd.io.sql.read_sql(firstRows, con)"
   ],
   "metadata": {
    "collapsed": false,
    "pycharm": {
     "name": "#%%\n"
    }
   }
  },
  {
   "cell_type": "markdown",
   "source": [
    "### [join](https://function-x.ru/sql_join.html)\n",
    "### [and](https://sql-language.ru/sql-and-or.html)\n",
    "### [in](https://www.w3schools.com/sql/sql_in.asp)"
   ],
   "metadata": {
    "collapsed": false,
    "pycharm": {
     "name": "#%% md\n"
    }
   }
  },
  {
   "cell_type": "code",
   "execution_count": 41,
   "outputs": [
    {
     "data": {
      "text/plain": "         uid   labname            first_commit_ts              first_view_ts\n0     user_4  project1 2020-04-17 05:19:02.744528                        NaT\n1     user_4    laba04 2020-04-17 11:33:17.366400                        NaT\n2     user_4   laba04s 2020-04-17 11:48:41.992466                        NaT\n3    user_17  project1 2020-04-18 07:56:45.408648 2020-04-18 10:56:55.833899\n4    user_30    laba04 2020-04-18 13:36:53.971502 2020-04-17 22:46:26.785035\n..       ...       ...                        ...                        ...\n135  user_23    laba06 2020-05-21 08:34:10.517205                        NaT\n136  user_19   laba06s 2020-05-21 13:27:06.705881 2020-04-21 20:30:38.034966\n137  user_23   laba06s 2020-05-21 14:29:15.709568                        NaT\n138  user_17    laba06 2020-05-21 15:21:31.567615 2020-04-18 10:56:55.833899\n139  user_17   laba06s 2020-05-21 17:39:17.783615 2020-04-18 10:56:55.833899\n\n[140 rows x 4 columns]",
      "text/html": "<div>\n<style scoped>\n    .dataframe tbody tr th:only-of-type {\n        vertical-align: middle;\n    }\n\n    .dataframe tbody tr th {\n        vertical-align: top;\n    }\n\n    .dataframe thead th {\n        text-align: right;\n    }\n</style>\n<table border=\"1\" class=\"dataframe\">\n  <thead>\n    <tr style=\"text-align: right;\">\n      <th></th>\n      <th>uid</th>\n      <th>labname</th>\n      <th>first_commit_ts</th>\n      <th>first_view_ts</th>\n    </tr>\n  </thead>\n  <tbody>\n    <tr>\n      <th>0</th>\n      <td>user_4</td>\n      <td>project1</td>\n      <td>2020-04-17 05:19:02.744528</td>\n      <td>NaT</td>\n    </tr>\n    <tr>\n      <th>1</th>\n      <td>user_4</td>\n      <td>laba04</td>\n      <td>2020-04-17 11:33:17.366400</td>\n      <td>NaT</td>\n    </tr>\n    <tr>\n      <th>2</th>\n      <td>user_4</td>\n      <td>laba04s</td>\n      <td>2020-04-17 11:48:41.992466</td>\n      <td>NaT</td>\n    </tr>\n    <tr>\n      <th>3</th>\n      <td>user_17</td>\n      <td>project1</td>\n      <td>2020-04-18 07:56:45.408648</td>\n      <td>2020-04-18 10:56:55.833899</td>\n    </tr>\n    <tr>\n      <th>4</th>\n      <td>user_30</td>\n      <td>laba04</td>\n      <td>2020-04-18 13:36:53.971502</td>\n      <td>2020-04-17 22:46:26.785035</td>\n    </tr>\n    <tr>\n      <th>...</th>\n      <td>...</td>\n      <td>...</td>\n      <td>...</td>\n      <td>...</td>\n    </tr>\n    <tr>\n      <th>135</th>\n      <td>user_23</td>\n      <td>laba06</td>\n      <td>2020-05-21 08:34:10.517205</td>\n      <td>NaT</td>\n    </tr>\n    <tr>\n      <th>136</th>\n      <td>user_19</td>\n      <td>laba06s</td>\n      <td>2020-05-21 13:27:06.705881</td>\n      <td>2020-04-21 20:30:38.034966</td>\n    </tr>\n    <tr>\n      <th>137</th>\n      <td>user_23</td>\n      <td>laba06s</td>\n      <td>2020-05-21 14:29:15.709568</td>\n      <td>NaT</td>\n    </tr>\n    <tr>\n      <th>138</th>\n      <td>user_17</td>\n      <td>laba06</td>\n      <td>2020-05-21 15:21:31.567615</td>\n      <td>2020-04-18 10:56:55.833899</td>\n    </tr>\n    <tr>\n      <th>139</th>\n      <td>user_17</td>\n      <td>laba06s</td>\n      <td>2020-05-21 17:39:17.783615</td>\n      <td>2020-04-18 10:56:55.833899</td>\n    </tr>\n  </tbody>\n</table>\n<p>140 rows × 4 columns</p>\n</div>"
     },
     "execution_count": 41,
     "metadata": {},
     "output_type": "execute_result"
    }
   ],
   "source": [
    "join_query = \"\"\"\n",
    "SELECT checker.uid, checker.labname, checker.timestamp as first_commit_ts, pageviews.datetime as first_view_ts\n",
    "FROM checker LEFT JOIN pageviews\n",
    "ON checker.uid = pageviews.uid\n",
    "WHERE checker.status = 'ready' AND checker.numTrials = 1 AND checker.labname IN ('laba04', 'laba04s', 'laba05', 'laba06', 'laba06s', 'project1') AND checker.uid LIKE 'user_%'\n",
    "AND (pageviews.datetime = (SELECT MIN(pageviews.datetime)\n",
    "                           FROM pageviews\n",
    "                           WHERE uid=checker.uid)\n",
    "                           OR pageviews.datetime IS NULL)\n",
    "\"\"\"\n",
    "\n",
    "datamart = pd.io.sql.read_sql(join_query, con, parse_dates=['first_commit_ts', 'first_view_ts'])\n",
    "datamart"
   ],
   "metadata": {
    "collapsed": false,
    "pycharm": {
     "name": "#%%\n"
    }
   }
  },
  {
   "cell_type": "markdown",
   "source": [
    "## test should have the users that have the values in first_view_ts\n"
   ],
   "metadata": {
    "collapsed": false,
    "pycharm": {
     "name": "#%% md\n"
    }
   }
  },
  {
   "cell_type": "code",
   "execution_count": 42,
   "outputs": [
    {
     "data": {
      "text/plain": "         uid   labname            first_commit_ts              first_view_ts\n3    user_17  project1 2020-04-18 07:56:45.408648 2020-04-18 10:56:55.833899\n4    user_30    laba04 2020-04-18 13:36:53.971502 2020-04-17 22:46:26.785035\n7    user_30   laba04s 2020-04-18 14:51:37.498399 2020-04-17 22:46:26.785035\n8    user_14    laba04 2020-04-18 15:14:00.312338 2020-04-18 10:53:52.623447\n11   user_14   laba04s 2020-04-18 22:30:30.247628 2020-04-18 10:53:52.623447\n18   user_19    laba04 2020-04-20 19:05:01.297780 2020-04-21 20:30:38.034966\n19   user_25    laba04 2020-04-20 19:16:50.673054 2020-05-09 23:54:54.260791\n20   user_21    laba04 2020-04-21 17:48:00.487806 2020-04-22 22:40:36.824081\n21   user_30  project1 2020-04-22 12:36:24.053518 2020-04-17 22:46:26.785035\n23   user_21   laba04s 2020-04-22 20:09:21.857747 2020-04-22 22:40:36.824081\n24   user_28    laba04 2020-04-22 21:47:19.707242 2020-05-10 21:07:50.350946\n27   user_17    laba04 2020-04-23 14:24:29.947554 2020-04-18 10:56:55.833899\n28    user_3    laba04 2020-04-23 20:29:14.054364 2020-05-08 10:53:47.123832\n29    user_3   laba04s 2020-04-23 20:40:26.883591 2020-05-08 10:53:47.123832\n33   user_10    laba04 2020-04-25 08:24:52.696624 2020-04-18 12:19:50.182714\n34   user_10   laba04s 2020-04-25 08:37:54.604222 2020-04-18 12:19:50.182714\n35   user_17   laba04s 2020-04-25 12:10:56.414175 2020-04-18 10:56:55.833899\n41   user_28   laba04s 2020-04-26 15:53:44.906136 2020-05-10 21:07:50.350946\n43    user_1    laba04 2020-04-26 17:06:18.462708 2020-04-26 21:53:59.624136\n44    user_1   laba04s 2020-04-26 17:12:11.843671 2020-04-26 21:53:59.624136\n46   user_18    laba04 2020-04-26 19:48:11.822365 2020-04-26 22:49:29.243278\n47   user_18   laba04s 2020-04-26 20:03:56.935458 2020-04-26 22:49:29.243278\n49   user_25   laba04s 2020-04-26 21:07:56.952117 2020-05-09 23:54:54.260791\n54   user_14    laba05 2020-04-30 11:33:04.523118 2020-04-18 10:53:52.623447\n57    user_3    laba05 2020-05-01 11:29:17.988118 2020-05-08 10:53:47.123832\n58   user_25    laba05 2020-05-01 13:02:27.357650 2020-05-09 23:54:54.260791\n60   user_28    laba05 2020-05-01 18:29:11.968537 2020-05-10 21:07:50.350946\n61   user_10    laba05 2020-05-01 19:27:26.063245 2020-04-18 12:19:50.182714\n62   user_30    laba05 2020-05-01 19:31:18.375833 2020-04-17 22:46:26.785035\n64   user_17    laba05 2020-05-02 13:21:24.045876 2020-04-18 10:56:55.833899\n66   user_21    laba05 2020-05-02 14:05:40.013959 2020-04-22 22:40:36.824081\n68   user_19    laba05 2020-05-02 15:16:13.586405 2020-04-21 20:30:38.034966\n70    user_1    laba05 2020-05-02 19:15:18.540185 2020-04-26 21:53:59.624136\n76   user_18    laba05 2020-05-03 13:01:34.848756 2020-04-26 22:49:29.243278\n83   user_14  project1 2020-05-05 21:35:43.554986 2020-04-18 10:53:52.623447\n85    user_3  project1 2020-05-07 21:02:52.885133 2020-05-08 10:53:47.123832\n86   user_25  project1 2020-05-08 11:10:28.100852 2020-05-09 23:54:54.260791\n88   user_21  project1 2020-05-10 15:21:05.442755 2020-04-22 22:40:36.824081\n89   user_18  project1 2020-05-11 10:10:04.166881 2020-04-26 22:49:29.243278\n93   user_28  project1 2020-05-12 14:42:19.166414 2020-05-10 21:07:50.350946\n95   user_10  project1 2020-05-12 20:12:28.056618 2020-04-18 12:19:50.182714\n98   user_19  project1 2020-05-14 10:33:45.495389 2020-04-21 20:30:38.034966\n103   user_1  project1 2020-05-14 20:56:08.898880 2020-04-26 21:53:59.624136\n107   user_3    laba06 2020-05-17 09:56:40.480319 2020-05-08 10:53:47.123832\n109   user_1    laba06 2020-05-17 16:26:35.268534 2020-04-26 21:53:59.624136\n110  user_28    laba06 2020-05-17 17:08:48.257050 2020-05-10 21:07:50.350946\n115  user_25    laba06 2020-05-18 17:07:47.988807 2020-05-09 23:54:54.260791\n120   user_3   laba06s 2020-05-19 08:42:50.851878 2020-05-08 10:53:47.123832\n123  user_19    laba06 2020-05-19 10:25:54.121465 2020-04-21 20:30:38.034966\n124  user_10    laba06 2020-05-19 11:39:28.885637 2020-04-18 12:19:50.182714\n127  user_30    laba06 2020-05-19 17:53:15.088248 2020-04-17 22:46:26.785035\n128  user_21    laba06 2020-05-19 19:30:14.644328 2020-04-22 22:40:36.824081\n129  user_10   laba06s 2020-05-20 07:37:31.175817 2020-04-18 12:19:50.182714\n130   user_1   laba06s 2020-05-20 12:23:37.289724 2020-04-26 21:53:59.624136\n131  user_25   laba06s 2020-05-20 14:02:26.512032 2020-05-09 23:54:54.260791\n133  user_28   laba06s 2020-05-20 20:42:44.423160 2020-05-10 21:07:50.350946\n136  user_19   laba06s 2020-05-21 13:27:06.705881 2020-04-21 20:30:38.034966\n138  user_17    laba06 2020-05-21 15:21:31.567615 2020-04-18 10:56:55.833899\n139  user_17   laba06s 2020-05-21 17:39:17.783615 2020-04-18 10:56:55.833899",
      "text/html": "<div>\n<style scoped>\n    .dataframe tbody tr th:only-of-type {\n        vertical-align: middle;\n    }\n\n    .dataframe tbody tr th {\n        vertical-align: top;\n    }\n\n    .dataframe thead th {\n        text-align: right;\n    }\n</style>\n<table border=\"1\" class=\"dataframe\">\n  <thead>\n    <tr style=\"text-align: right;\">\n      <th></th>\n      <th>uid</th>\n      <th>labname</th>\n      <th>first_commit_ts</th>\n      <th>first_view_ts</th>\n    </tr>\n  </thead>\n  <tbody>\n    <tr>\n      <th>3</th>\n      <td>user_17</td>\n      <td>project1</td>\n      <td>2020-04-18 07:56:45.408648</td>\n      <td>2020-04-18 10:56:55.833899</td>\n    </tr>\n    <tr>\n      <th>4</th>\n      <td>user_30</td>\n      <td>laba04</td>\n      <td>2020-04-18 13:36:53.971502</td>\n      <td>2020-04-17 22:46:26.785035</td>\n    </tr>\n    <tr>\n      <th>7</th>\n      <td>user_30</td>\n      <td>laba04s</td>\n      <td>2020-04-18 14:51:37.498399</td>\n      <td>2020-04-17 22:46:26.785035</td>\n    </tr>\n    <tr>\n      <th>8</th>\n      <td>user_14</td>\n      <td>laba04</td>\n      <td>2020-04-18 15:14:00.312338</td>\n      <td>2020-04-18 10:53:52.623447</td>\n    </tr>\n    <tr>\n      <th>11</th>\n      <td>user_14</td>\n      <td>laba04s</td>\n      <td>2020-04-18 22:30:30.247628</td>\n      <td>2020-04-18 10:53:52.623447</td>\n    </tr>\n    <tr>\n      <th>18</th>\n      <td>user_19</td>\n      <td>laba04</td>\n      <td>2020-04-20 19:05:01.297780</td>\n      <td>2020-04-21 20:30:38.034966</td>\n    </tr>\n    <tr>\n      <th>19</th>\n      <td>user_25</td>\n      <td>laba04</td>\n      <td>2020-04-20 19:16:50.673054</td>\n      <td>2020-05-09 23:54:54.260791</td>\n    </tr>\n    <tr>\n      <th>20</th>\n      <td>user_21</td>\n      <td>laba04</td>\n      <td>2020-04-21 17:48:00.487806</td>\n      <td>2020-04-22 22:40:36.824081</td>\n    </tr>\n    <tr>\n      <th>21</th>\n      <td>user_30</td>\n      <td>project1</td>\n      <td>2020-04-22 12:36:24.053518</td>\n      <td>2020-04-17 22:46:26.785035</td>\n    </tr>\n    <tr>\n      <th>23</th>\n      <td>user_21</td>\n      <td>laba04s</td>\n      <td>2020-04-22 20:09:21.857747</td>\n      <td>2020-04-22 22:40:36.824081</td>\n    </tr>\n    <tr>\n      <th>24</th>\n      <td>user_28</td>\n      <td>laba04</td>\n      <td>2020-04-22 21:47:19.707242</td>\n      <td>2020-05-10 21:07:50.350946</td>\n    </tr>\n    <tr>\n      <th>27</th>\n      <td>user_17</td>\n      <td>laba04</td>\n      <td>2020-04-23 14:24:29.947554</td>\n      <td>2020-04-18 10:56:55.833899</td>\n    </tr>\n    <tr>\n      <th>28</th>\n      <td>user_3</td>\n      <td>laba04</td>\n      <td>2020-04-23 20:29:14.054364</td>\n      <td>2020-05-08 10:53:47.123832</td>\n    </tr>\n    <tr>\n      <th>29</th>\n      <td>user_3</td>\n      <td>laba04s</td>\n      <td>2020-04-23 20:40:26.883591</td>\n      <td>2020-05-08 10:53:47.123832</td>\n    </tr>\n    <tr>\n      <th>33</th>\n      <td>user_10</td>\n      <td>laba04</td>\n      <td>2020-04-25 08:24:52.696624</td>\n      <td>2020-04-18 12:19:50.182714</td>\n    </tr>\n    <tr>\n      <th>34</th>\n      <td>user_10</td>\n      <td>laba04s</td>\n      <td>2020-04-25 08:37:54.604222</td>\n      <td>2020-04-18 12:19:50.182714</td>\n    </tr>\n    <tr>\n      <th>35</th>\n      <td>user_17</td>\n      <td>laba04s</td>\n      <td>2020-04-25 12:10:56.414175</td>\n      <td>2020-04-18 10:56:55.833899</td>\n    </tr>\n    <tr>\n      <th>41</th>\n      <td>user_28</td>\n      <td>laba04s</td>\n      <td>2020-04-26 15:53:44.906136</td>\n      <td>2020-05-10 21:07:50.350946</td>\n    </tr>\n    <tr>\n      <th>43</th>\n      <td>user_1</td>\n      <td>laba04</td>\n      <td>2020-04-26 17:06:18.462708</td>\n      <td>2020-04-26 21:53:59.624136</td>\n    </tr>\n    <tr>\n      <th>44</th>\n      <td>user_1</td>\n      <td>laba04s</td>\n      <td>2020-04-26 17:12:11.843671</td>\n      <td>2020-04-26 21:53:59.624136</td>\n    </tr>\n    <tr>\n      <th>46</th>\n      <td>user_18</td>\n      <td>laba04</td>\n      <td>2020-04-26 19:48:11.822365</td>\n      <td>2020-04-26 22:49:29.243278</td>\n    </tr>\n    <tr>\n      <th>47</th>\n      <td>user_18</td>\n      <td>laba04s</td>\n      <td>2020-04-26 20:03:56.935458</td>\n      <td>2020-04-26 22:49:29.243278</td>\n    </tr>\n    <tr>\n      <th>49</th>\n      <td>user_25</td>\n      <td>laba04s</td>\n      <td>2020-04-26 21:07:56.952117</td>\n      <td>2020-05-09 23:54:54.260791</td>\n    </tr>\n    <tr>\n      <th>54</th>\n      <td>user_14</td>\n      <td>laba05</td>\n      <td>2020-04-30 11:33:04.523118</td>\n      <td>2020-04-18 10:53:52.623447</td>\n    </tr>\n    <tr>\n      <th>57</th>\n      <td>user_3</td>\n      <td>laba05</td>\n      <td>2020-05-01 11:29:17.988118</td>\n      <td>2020-05-08 10:53:47.123832</td>\n    </tr>\n    <tr>\n      <th>58</th>\n      <td>user_25</td>\n      <td>laba05</td>\n      <td>2020-05-01 13:02:27.357650</td>\n      <td>2020-05-09 23:54:54.260791</td>\n    </tr>\n    <tr>\n      <th>60</th>\n      <td>user_28</td>\n      <td>laba05</td>\n      <td>2020-05-01 18:29:11.968537</td>\n      <td>2020-05-10 21:07:50.350946</td>\n    </tr>\n    <tr>\n      <th>61</th>\n      <td>user_10</td>\n      <td>laba05</td>\n      <td>2020-05-01 19:27:26.063245</td>\n      <td>2020-04-18 12:19:50.182714</td>\n    </tr>\n    <tr>\n      <th>62</th>\n      <td>user_30</td>\n      <td>laba05</td>\n      <td>2020-05-01 19:31:18.375833</td>\n      <td>2020-04-17 22:46:26.785035</td>\n    </tr>\n    <tr>\n      <th>64</th>\n      <td>user_17</td>\n      <td>laba05</td>\n      <td>2020-05-02 13:21:24.045876</td>\n      <td>2020-04-18 10:56:55.833899</td>\n    </tr>\n    <tr>\n      <th>66</th>\n      <td>user_21</td>\n      <td>laba05</td>\n      <td>2020-05-02 14:05:40.013959</td>\n      <td>2020-04-22 22:40:36.824081</td>\n    </tr>\n    <tr>\n      <th>68</th>\n      <td>user_19</td>\n      <td>laba05</td>\n      <td>2020-05-02 15:16:13.586405</td>\n      <td>2020-04-21 20:30:38.034966</td>\n    </tr>\n    <tr>\n      <th>70</th>\n      <td>user_1</td>\n      <td>laba05</td>\n      <td>2020-05-02 19:15:18.540185</td>\n      <td>2020-04-26 21:53:59.624136</td>\n    </tr>\n    <tr>\n      <th>76</th>\n      <td>user_18</td>\n      <td>laba05</td>\n      <td>2020-05-03 13:01:34.848756</td>\n      <td>2020-04-26 22:49:29.243278</td>\n    </tr>\n    <tr>\n      <th>83</th>\n      <td>user_14</td>\n      <td>project1</td>\n      <td>2020-05-05 21:35:43.554986</td>\n      <td>2020-04-18 10:53:52.623447</td>\n    </tr>\n    <tr>\n      <th>85</th>\n      <td>user_3</td>\n      <td>project1</td>\n      <td>2020-05-07 21:02:52.885133</td>\n      <td>2020-05-08 10:53:47.123832</td>\n    </tr>\n    <tr>\n      <th>86</th>\n      <td>user_25</td>\n      <td>project1</td>\n      <td>2020-05-08 11:10:28.100852</td>\n      <td>2020-05-09 23:54:54.260791</td>\n    </tr>\n    <tr>\n      <th>88</th>\n      <td>user_21</td>\n      <td>project1</td>\n      <td>2020-05-10 15:21:05.442755</td>\n      <td>2020-04-22 22:40:36.824081</td>\n    </tr>\n    <tr>\n      <th>89</th>\n      <td>user_18</td>\n      <td>project1</td>\n      <td>2020-05-11 10:10:04.166881</td>\n      <td>2020-04-26 22:49:29.243278</td>\n    </tr>\n    <tr>\n      <th>93</th>\n      <td>user_28</td>\n      <td>project1</td>\n      <td>2020-05-12 14:42:19.166414</td>\n      <td>2020-05-10 21:07:50.350946</td>\n    </tr>\n    <tr>\n      <th>95</th>\n      <td>user_10</td>\n      <td>project1</td>\n      <td>2020-05-12 20:12:28.056618</td>\n      <td>2020-04-18 12:19:50.182714</td>\n    </tr>\n    <tr>\n      <th>98</th>\n      <td>user_19</td>\n      <td>project1</td>\n      <td>2020-05-14 10:33:45.495389</td>\n      <td>2020-04-21 20:30:38.034966</td>\n    </tr>\n    <tr>\n      <th>103</th>\n      <td>user_1</td>\n      <td>project1</td>\n      <td>2020-05-14 20:56:08.898880</td>\n      <td>2020-04-26 21:53:59.624136</td>\n    </tr>\n    <tr>\n      <th>107</th>\n      <td>user_3</td>\n      <td>laba06</td>\n      <td>2020-05-17 09:56:40.480319</td>\n      <td>2020-05-08 10:53:47.123832</td>\n    </tr>\n    <tr>\n      <th>109</th>\n      <td>user_1</td>\n      <td>laba06</td>\n      <td>2020-05-17 16:26:35.268534</td>\n      <td>2020-04-26 21:53:59.624136</td>\n    </tr>\n    <tr>\n      <th>110</th>\n      <td>user_28</td>\n      <td>laba06</td>\n      <td>2020-05-17 17:08:48.257050</td>\n      <td>2020-05-10 21:07:50.350946</td>\n    </tr>\n    <tr>\n      <th>115</th>\n      <td>user_25</td>\n      <td>laba06</td>\n      <td>2020-05-18 17:07:47.988807</td>\n      <td>2020-05-09 23:54:54.260791</td>\n    </tr>\n    <tr>\n      <th>120</th>\n      <td>user_3</td>\n      <td>laba06s</td>\n      <td>2020-05-19 08:42:50.851878</td>\n      <td>2020-05-08 10:53:47.123832</td>\n    </tr>\n    <tr>\n      <th>123</th>\n      <td>user_19</td>\n      <td>laba06</td>\n      <td>2020-05-19 10:25:54.121465</td>\n      <td>2020-04-21 20:30:38.034966</td>\n    </tr>\n    <tr>\n      <th>124</th>\n      <td>user_10</td>\n      <td>laba06</td>\n      <td>2020-05-19 11:39:28.885637</td>\n      <td>2020-04-18 12:19:50.182714</td>\n    </tr>\n    <tr>\n      <th>127</th>\n      <td>user_30</td>\n      <td>laba06</td>\n      <td>2020-05-19 17:53:15.088248</td>\n      <td>2020-04-17 22:46:26.785035</td>\n    </tr>\n    <tr>\n      <th>128</th>\n      <td>user_21</td>\n      <td>laba06</td>\n      <td>2020-05-19 19:30:14.644328</td>\n      <td>2020-04-22 22:40:36.824081</td>\n    </tr>\n    <tr>\n      <th>129</th>\n      <td>user_10</td>\n      <td>laba06s</td>\n      <td>2020-05-20 07:37:31.175817</td>\n      <td>2020-04-18 12:19:50.182714</td>\n    </tr>\n    <tr>\n      <th>130</th>\n      <td>user_1</td>\n      <td>laba06s</td>\n      <td>2020-05-20 12:23:37.289724</td>\n      <td>2020-04-26 21:53:59.624136</td>\n    </tr>\n    <tr>\n      <th>131</th>\n      <td>user_25</td>\n      <td>laba06s</td>\n      <td>2020-05-20 14:02:26.512032</td>\n      <td>2020-05-09 23:54:54.260791</td>\n    </tr>\n    <tr>\n      <th>133</th>\n      <td>user_28</td>\n      <td>laba06s</td>\n      <td>2020-05-20 20:42:44.423160</td>\n      <td>2020-05-10 21:07:50.350946</td>\n    </tr>\n    <tr>\n      <th>136</th>\n      <td>user_19</td>\n      <td>laba06s</td>\n      <td>2020-05-21 13:27:06.705881</td>\n      <td>2020-04-21 20:30:38.034966</td>\n    </tr>\n    <tr>\n      <th>138</th>\n      <td>user_17</td>\n      <td>laba06</td>\n      <td>2020-05-21 15:21:31.567615</td>\n      <td>2020-04-18 10:56:55.833899</td>\n    </tr>\n    <tr>\n      <th>139</th>\n      <td>user_17</td>\n      <td>laba06s</td>\n      <td>2020-05-21 17:39:17.783615</td>\n      <td>2020-04-18 10:56:55.833899</td>\n    </tr>\n  </tbody>\n</table>\n</div>"
     },
     "execution_count": 42,
     "metadata": {},
     "output_type": "execute_result"
    }
   ],
   "source": [
    "test = datamart[datamart['first_view_ts'].notna()]\n",
    "test"
   ],
   "metadata": {
    "collapsed": false,
    "pycharm": {
     "name": "#%%\n"
    }
   }
  },
  {
   "cell_type": "markdown",
   "source": [
    "## ◦ control should have the users that have missing values in first_view_ts"
   ],
   "metadata": {
    "collapsed": false,
    "pycharm": {
     "name": "#%% md\n"
    }
   }
  },
  {
   "cell_type": "code",
   "execution_count": 43,
   "outputs": [
    {
     "data": {
      "text/plain": "         uid   labname            first_commit_ts first_view_ts\n0     user_4  project1 2020-04-17 05:19:02.744528           NaT\n1     user_4    laba04 2020-04-17 11:33:17.366400           NaT\n2     user_4   laba04s 2020-04-17 11:48:41.992466           NaT\n5     user_2    laba04 2020-04-18 13:42:35.482008           NaT\n6     user_2   laba04s 2020-04-18 13:51:22.291271           NaT\n..       ...       ...                        ...           ...\n126   user_2   laba06s 2020-05-19 14:45:03.908268           NaT\n132   user_6   laba06s 2020-05-20 14:50:07.609937           NaT\n134   user_7   laba06s 2020-05-20 23:05:37.742597           NaT\n135  user_23    laba06 2020-05-21 08:34:10.517205           NaT\n137  user_23   laba06s 2020-05-21 14:29:15.709568           NaT\n\n[81 rows x 4 columns]",
      "text/html": "<div>\n<style scoped>\n    .dataframe tbody tr th:only-of-type {\n        vertical-align: middle;\n    }\n\n    .dataframe tbody tr th {\n        vertical-align: top;\n    }\n\n    .dataframe thead th {\n        text-align: right;\n    }\n</style>\n<table border=\"1\" class=\"dataframe\">\n  <thead>\n    <tr style=\"text-align: right;\">\n      <th></th>\n      <th>uid</th>\n      <th>labname</th>\n      <th>first_commit_ts</th>\n      <th>first_view_ts</th>\n    </tr>\n  </thead>\n  <tbody>\n    <tr>\n      <th>0</th>\n      <td>user_4</td>\n      <td>project1</td>\n      <td>2020-04-17 05:19:02.744528</td>\n      <td>NaT</td>\n    </tr>\n    <tr>\n      <th>1</th>\n      <td>user_4</td>\n      <td>laba04</td>\n      <td>2020-04-17 11:33:17.366400</td>\n      <td>NaT</td>\n    </tr>\n    <tr>\n      <th>2</th>\n      <td>user_4</td>\n      <td>laba04s</td>\n      <td>2020-04-17 11:48:41.992466</td>\n      <td>NaT</td>\n    </tr>\n    <tr>\n      <th>5</th>\n      <td>user_2</td>\n      <td>laba04</td>\n      <td>2020-04-18 13:42:35.482008</td>\n      <td>NaT</td>\n    </tr>\n    <tr>\n      <th>6</th>\n      <td>user_2</td>\n      <td>laba04s</td>\n      <td>2020-04-18 13:51:22.291271</td>\n      <td>NaT</td>\n    </tr>\n    <tr>\n      <th>...</th>\n      <td>...</td>\n      <td>...</td>\n      <td>...</td>\n      <td>...</td>\n    </tr>\n    <tr>\n      <th>126</th>\n      <td>user_2</td>\n      <td>laba06s</td>\n      <td>2020-05-19 14:45:03.908268</td>\n      <td>NaT</td>\n    </tr>\n    <tr>\n      <th>132</th>\n      <td>user_6</td>\n      <td>laba06s</td>\n      <td>2020-05-20 14:50:07.609937</td>\n      <td>NaT</td>\n    </tr>\n    <tr>\n      <th>134</th>\n      <td>user_7</td>\n      <td>laba06s</td>\n      <td>2020-05-20 23:05:37.742597</td>\n      <td>NaT</td>\n    </tr>\n    <tr>\n      <th>135</th>\n      <td>user_23</td>\n      <td>laba06</td>\n      <td>2020-05-21 08:34:10.517205</td>\n      <td>NaT</td>\n    </tr>\n    <tr>\n      <th>137</th>\n      <td>user_23</td>\n      <td>laba06s</td>\n      <td>2020-05-21 14:29:15.709568</td>\n      <td>NaT</td>\n    </tr>\n  </tbody>\n</table>\n<p>81 rows × 4 columns</p>\n</div>"
     },
     "execution_count": 43,
     "metadata": {},
     "output_type": "execute_result"
    }
   ],
   "source": [
    "control = datamart[datamart['first_view_ts'].isna()]\n",
    "control"
   ],
   "metadata": {
    "collapsed": false,
    "pycharm": {
     "name": "#%%\n"
    }
   }
  },
  {
   "cell_type": "markdown",
   "source": [
    "## ◦ replace the missing values in the control with the average first_view_ts of the test users, we will use this value for the future analysis\n",
    "[method fillna](https://pandas.pydata.org/docs/reference/api/pandas.DataFrame.fillna.html)"
   ],
   "metadata": {
    "collapsed": false,
    "pycharm": {
     "name": "#%% md\n"
    }
   }
  },
  {
   "cell_type": "code",
   "execution_count": 46,
   "outputs": [
    {
     "data": {
      "text/plain": "       uid   labname            first_commit_ts                 first_view_ts\n0   user_4  project1 2020-04-17 05:19:02.744528 2020-04-27 00:40:05.761783552\n1   user_4    laba04 2020-04-17 11:33:17.366400 2020-04-27 00:40:05.761783552\n2   user_4   laba04s 2020-04-17 11:48:41.992466 2020-04-27 00:40:05.761783552\n3  user_17  project1 2020-04-18 07:56:45.408648 2020-04-18 10:56:55.833899000\n4  user_30    laba04 2020-04-18 13:36:53.971502 2020-04-17 22:46:26.785035000",
      "text/html": "<div>\n<style scoped>\n    .dataframe tbody tr th:only-of-type {\n        vertical-align: middle;\n    }\n\n    .dataframe tbody tr th {\n        vertical-align: top;\n    }\n\n    .dataframe thead th {\n        text-align: right;\n    }\n</style>\n<table border=\"1\" class=\"dataframe\">\n  <thead>\n    <tr style=\"text-align: right;\">\n      <th></th>\n      <th>uid</th>\n      <th>labname</th>\n      <th>first_commit_ts</th>\n      <th>first_view_ts</th>\n    </tr>\n  </thead>\n  <tbody>\n    <tr>\n      <th>0</th>\n      <td>user_4</td>\n      <td>project1</td>\n      <td>2020-04-17 05:19:02.744528</td>\n      <td>2020-04-27 00:40:05.761783552</td>\n    </tr>\n    <tr>\n      <th>1</th>\n      <td>user_4</td>\n      <td>laba04</td>\n      <td>2020-04-17 11:33:17.366400</td>\n      <td>2020-04-27 00:40:05.761783552</td>\n    </tr>\n    <tr>\n      <th>2</th>\n      <td>user_4</td>\n      <td>laba04s</td>\n      <td>2020-04-17 11:48:41.992466</td>\n      <td>2020-04-27 00:40:05.761783552</td>\n    </tr>\n    <tr>\n      <th>3</th>\n      <td>user_17</td>\n      <td>project1</td>\n      <td>2020-04-18 07:56:45.408648</td>\n      <td>2020-04-18 10:56:55.833899000</td>\n    </tr>\n    <tr>\n      <th>4</th>\n      <td>user_30</td>\n      <td>laba04</td>\n      <td>2020-04-18 13:36:53.971502</td>\n      <td>2020-04-17 22:46:26.785035000</td>\n    </tr>\n  </tbody>\n</table>\n</div>"
     },
     "execution_count": 46,
     "metadata": {},
     "output_type": "execute_result"
    }
   ],
   "source": [
    "control = datamart.fillna(test['first_view_ts'].mean())\n",
    "control.head()\n"
   ],
   "metadata": {
    "collapsed": false,
    "pycharm": {
     "name": "#%%\n"
    }
   }
  },
  {
   "cell_type": "code",
   "execution_count": 47,
   "outputs": [],
   "source": [
    "test.to_sql('test', con)\n",
    "control.to_sql('control', con)"
   ],
   "metadata": {
    "collapsed": false,
    "pycharm": {
     "name": "#%%\n"
    }
   }
  },
  {
   "cell_type": "code",
   "execution_count": 48,
   "outputs": [],
   "source": [
    "con.close()"
   ],
   "metadata": {
    "collapsed": false,
    "pycharm": {
     "name": "#%%\n"
    }
   }
  }
 ],
 "metadata": {
  "kernelspec": {
   "display_name": "Python 3",
   "language": "python",
   "name": "python3"
  },
  "language_info": {
   "codemirror_mode": {
    "name": "ipython",
    "version": 2
   },
   "file_extension": ".py",
   "mimetype": "text/x-python",
   "name": "python",
   "nbconvert_exporter": "python",
   "pygments_lexer": "ipython2",
   "version": "2.7.6"
  }
 },
 "nbformat": 4,
 "nbformat_minor": 0
}